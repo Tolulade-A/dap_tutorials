{
 "cells": [
  {
   "cell_type": "markdown",
   "id": "940ddaee",
   "metadata": {},
   "source": [
    "# Profiling Code Run Times"
   ]
  },
  {
   "cell_type": "markdown",
   "id": "4887b9a2-433f-49dd-b305-216040e10cfe",
   "metadata": {},
   "source": [
    "## 1. Snippet Performance"
   ]
  },
  {
   "cell_type": "markdown",
   "id": "f2fe9e72-229d-4c24-9d5d-27b91b7929e0",
   "metadata": {},
   "source": [
    "### 1.1 Using `time`"
   ]
  },
  {
   "cell_type": "code",
   "execution_count": 5,
   "id": "f0643b4e-93ba-4a85-a50d-6d1753da31e4",
   "metadata": {},
   "outputs": [],
   "source": [
    "from collections import Counter\n",
    "from time import time\n",
    "import numpy as np\n",
    "import matplotlib.pyplot as plt"
   ]
  },
  {
   "cell_type": "markdown",
   "id": "e560d7b8-bda0-4f85-b1a7-f366c77673e4",
   "metadata": {},
   "source": [
    "We have some integer IDs and the frequency of their occurrence within a dataset. We want to remove any integers with a frequency above a certain threshold."
   ]
  },
  {
   "cell_type": "code",
   "execution_count": 3,
   "id": "cb5d5133-b5e5-44ed-8547-23be573b81af",
   "metadata": {},
   "outputs": [],
   "source": [
    "def generate_ids(p=.00005, size=1_000_000):\n",
    "    \"\"\"Generate an array of random integers with a geometric frequency distribution.\n",
    "    \n",
    "    Args:\n",
    "        p: See `p` for `numpy.random.geometric`.\n",
    "        size: Length of generated array.\n",
    "        \n",
    "    Returns:\n",
    "        Array of integers.\n",
    "    \"\"\"\n",
    "    idx = np.random.geometric(p, size) - 1\n",
    "    x = range(np.max(idx))\n",
    "    choices = np.random.choice(x, idx.shape[0])\n",
    "    print(\"Number of unique IDs: {}\".format(np.unique(idx).shape[0]))\n",
    "    return choices[idx]"
   ]
  },
  {
   "cell_type": "code",
   "execution_count": 6,
   "id": "9cabf178-6c8a-44fb-a1e5-a2b10947b90d",
   "metadata": {},
   "outputs": [
    {
     "name": "stdout",
     "output_type": "stream",
     "text": [
      "Number of unique IDs: 89828\n",
      "Most common IDs: [(112001, 123), (62809, 120), (2455, 114), (94804, 112), (54189, 111), (145360, 109), (8612, 109), (270107, 106), (239820, 106), (84493, 104), (19736, 104), (171921, 103), (62520, 102), (226060, 100), (250031, 99), (30937, 99), (70573, 99), (97743, 99), (121740, 99), (241628, 99)]\n"
     ]
    }
   ],
   "source": [
    "unique_ids = generate_ids()\n",
    "unique_ids_counter = Counter(unique_ids)\n",
    "print(\"Most common IDs:\", unique_ids_counter.most_common(20))"
   ]
  },
  {
   "cell_type": "code",
   "execution_count": 150,
   "id": "51d3938a-ab4c-4d5a-b913-e4c6de2ece8f",
   "metadata": {},
   "outputs": [
    {
     "data": {
      "image/png": "[encoded data removed]",
      "text/plain": [
       "<Figure size 432x288 with 1 Axes>"
      ]
     },
     "metadata": {
      "needs_background": "light"
     },
     "output_type": "display_data"
    }
   ],
   "source": [
    "fig, ax = plt.subplots()\n",
    "ax.hist(\n",
    "    unique_ids_counter.values(), \n",
    "    bins=100, \n",
    "    cumulative=True, \n",
    "    density=\"normed\", \n",
    "    histtype=\"step\", \n",
    "    linewidth=2\n",
    ")\n",
    "ax.set_xlabel(\"ID Count\")\n",
    "ax.set_ylabel(\"Normalised Cumulative Frequency\")\n",
    "ax.set_xlim(0, max(unique_ids_counter.values()));"
   ]
  },
  {
   "cell_type": "code",
   "execution_count": 11,
   "id": "b9493e11-8f31-4467-99d4-113e9b9b6510",
   "metadata": {},
   "outputs": [],
   "source": [
    "from operator import itemgetter\n",
    "\n",
    "def filter_freq_map_filter(ids_counter, min_frequency=10):\n",
    "    \"\"\"Filters items from a `Counter` with frequencies below `min_frequency`. \n",
    "    \n",
    "    Gets items from counter after applying `filter` operation.\n",
    "    \"\"\"\n",
    "    return list(map(itemgetter(0), filter(lambda x: x[1] >= min_frequency, ids_counter.items())))\n",
    "\n",
    "def filter_freq_iterate(ids_counter, min_frequency=10):\n",
    "    \"\"\"Filters items from a `Counter` with frequencies below `min_frequency`.\n",
    "    \n",
    "    Iterates through items in counter and drops keys with frequencies below\n",
    "    `min_frequency`.\n",
    "    \"\"\"\n",
    "    return [k for k, v in ids_counter.items() if v >= min_frequency]"
   ]
  },
  {
   "cell_type": "code",
   "execution_count": 12,
   "id": "0b694621-b275-4bd1-83fc-5b2b38feb49b",
   "metadata": {},
   "outputs": [],
   "source": [
    "def time_function(function, **kwargs):\n",
    "    start = time()\n",
    "    function(**kwargs)\n",
    "    end = time()\n",
    "    total = end - start\n",
    "    print(f\"Took {total} seconds\")"
   ]
  },
  {
   "cell_type": "code",
   "execution_count": 13,
   "id": "0adafbb9-a1a2-4888-af24-02da5d6fd2f8",
   "metadata": {},
   "outputs": [
    {
     "name": "stdout",
     "output_type": "stream",
     "text": [
      "Using map and filter...\n",
      "Took 0.021218061447143555 seconds\n"
     ]
    }
   ],
   "source": [
    "print(\"Using map and filter...\")\n",
    "time_function(filter_freq_map_filter, **{'ids_counter': unique_ids_counter})"
   ]
  },
  {
   "cell_type": "code",
   "execution_count": 14,
   "id": "a63444fe-9275-4613-a999-0d51768e9e6d",
   "metadata": {},
   "outputs": [
    {
     "name": "stdout",
     "output_type": "stream",
     "text": [
      "Using list comprehension...\n",
      "Took 0.010097265243530273 seconds\n"
     ]
    }
   ],
   "source": [
    "print(\"Using list comprehension...\")\n",
    "time_function(filter_freq_iterate, **{'ids_counter': unique_ids_counter})"
   ]
  },
  {
   "cell_type": "markdown",
   "id": "07b918f2-4422-4fe2-a7df-087244e39638",
   "metadata": {},
   "source": [
    "### 1.2 Using `timeit`"
   ]
  },
  {
   "cell_type": "code",
   "execution_count": 336,
   "id": "1386bd4c-2efb-4059-bbbd-329c53ff5885",
   "metadata": {},
   "outputs": [],
   "source": [
    "import timeit"
   ]
  },
  {
   "cell_type": "code",
   "execution_count": 343,
   "id": "5c203a0e-6797-4670-95b4-2d13b540ef09",
   "metadata": {},
   "outputs": [],
   "source": [
    "t = timeit.Timer()"
   ]
  },
  {
   "cell_type": "code",
   "execution_count": 351,
   "id": "4c79e369-ddb9-4fce-8eef-4a41fb77b3b7",
   "metadata": {},
   "outputs": [
    {
     "data": {
      "text/plain": [
       "[1.6639288329897681,\n",
       " 1.6653863329993328,\n",
       " 1.6674641669960693,\n",
       " 1.6757308329979423,\n",
       " 1.7092664590018103]"
      ]
     },
     "execution_count": 351,
     "metadata": {},
     "output_type": "execute_result"
    }
   ],
   "source": [
    "t_i = timeit.repeat(\n",
    "    stmt='filter_freq_iterate(unique_ids_counter)', \n",
    "    setup=\"from __main__ import filter_freq_iterate, unique_ids_counter\",\n",
    "    repeat=5,\n",
    "    number=100\n",
    ")\n",
    "sorted(t_i)"
   ]
  },
  {
   "cell_type": "code",
   "execution_count": 350,
   "id": "861bf21e-453b-480d-a320-601b60e3a071",
   "metadata": {},
   "outputs": [
    {
     "data": {
      "text/plain": [
       "[0.6581367080070777,\n",
       " 0.6605470829963451,\n",
       " 0.6734839589917101,\n",
       " 0.6738761250016978,\n",
       " 0.7052678750042105]"
      ]
     },
     "execution_count": 350,
     "metadata": {},
     "output_type": "execute_result"
    }
   ],
   "source": [
    "t_mf = timeit.repeat(\n",
    "    stmt='filter_freq_map_filter(unique_ids_counter)', \n",
    "    setup=\"from __main__ import filter_freq_map_filter, unique_ids_counter\",\n",
    "    repeat=5,\n",
    "    number=100\n",
    ")\n",
    "sorted(t_mf)"
   ]
  },
  {
   "cell_type": "markdown",
   "id": "6b6fbbc4-98eb-4a08-a20c-93bdcd1690a5",
   "metadata": {},
   "source": [
    "### 1.3 Using Magic `time` and `timeit`"
   ]
  },
  {
   "cell_type": "code",
   "execution_count": 356,
   "id": "ca623503",
   "metadata": {},
   "outputs": [
    {
     "name": "stdout",
     "output_type": "stream",
     "text": [
      "CPU times: user 22.8 ms, sys: 1.41 ms, total: 24.2 ms\n",
      "Wall time: 24.8 ms\n"
     ]
    }
   ],
   "source": [
    "%%time\n",
    "_ = filter_freq_map_filter(unique_ids_counter)"
   ]
  },
  {
   "cell_type": "code",
   "execution_count": 331,
   "id": "51cae2b9",
   "metadata": {},
   "outputs": [
    {
     "name": "stdout",
     "output_type": "stream",
     "text": [
      "6.56 ms ± 71.7 µs per loop (mean ± std. dev. of 7 runs, 100 loops each)\n"
     ]
    }
   ],
   "source": [
    "%%timeit\n",
    "_ = filter_freq_map_filter(unique_ids_counter)"
   ]
  },
  {
   "cell_type": "code",
   "execution_count": 355,
   "id": "98a28f21-7787-4736-b306-e997be1c6e6a",
   "metadata": {},
   "outputs": [
    {
     "name": "stdout",
     "output_type": "stream",
     "text": [
      "CPU times: user 11.1 ms, sys: 1.02 ms, total: 12.1 ms\n",
      "Wall time: 11.7 ms\n"
     ]
    }
   ],
   "source": [
    "%%time\n",
    "_ = filter_freq_iterate(unique_ids_counter)"
   ]
  },
  {
   "cell_type": "code",
   "execution_count": 329,
   "id": "ad0f3bec-f9dd-4c78-8f6b-e75295aa70b8",
   "metadata": {},
   "outputs": [
    {
     "name": "stdout",
     "output_type": "stream",
     "text": [
      "3.39 ms ± 32.3 µs per loop (mean ± std. dev. of 7 runs, 100 loops each)\n"
     ]
    }
   ],
   "source": [
    "%%timeit\n",
    "_ = filter_freq_iterate(unique_ids_counter)"
   ]
  },
  {
   "cell_type": "markdown",
   "id": "8ba97f45-28ab-4ac8-8ba3-4b93ad18f06b",
   "metadata": {},
   "source": [
    "### 1.4 Exercise"
   ]
  },
  {
   "cell_type": "markdown",
   "id": "4ce33484-fb2c-4954-9529-fb961b761f36",
   "metadata": {},
   "source": [
    "Write two or more different simple functions to complete one of the tasks below and time how long they take to execute on some dummy data. Were the results what you expected?\n",
    "\n",
    "- Removing punctuation from a string\n",
    "- Fetching items from a list based on their index location\n",
    "- Finding the index of an item in a list\n",
    "- Calculating the Jaccard similarity between sets of sets"
   ]
  },
  {
   "cell_type": "markdown",
   "id": "7a628d2e",
   "metadata": {},
   "source": [
    "### 1.5 Realistic Timing and Estimating Run times\n",
    "\n",
    "When we process large datasets in a pipeline, we often need to estimate how long it might take. Long running processes are fragile to interruptions, slow down our work and can cost a lot more to run in terms of energy and money. \n",
    "\n",
    "Before running a piece of code on a full set of data, it's useful to prototype on a smaller sample and estimate the running time for the full set. This is good practice anyway, as you don't want to run a long pipeline on all of your data only to find you made a mistake that results in erroneous ouputs.\n",
    "\n",
    "When testing your code on a sample to estimate run times or to compare performance, bear in mind:\n",
    "\n",
    "- Run times are not always linear. For example, applying a function to larger batches of data and/or processing data with higher dimensions may have a quadratic or exponential effect on total running time. If you're unsure, test a few different parameters.\n",
    "- When testing how long it takes your code to run on a sample it can be tempting to just run it on the first N rows. In some cases however, the order of your data will have an impact. For example, you may have text data that increases in length with the number of rows, which would lead you to underestimate the total run time.\n",
    "- Some code involves overheads such as building indices, loading lookups or preparing data for parallel processing. Ideally these overheads are minimal but in some cases their runtimes can be comparable to the rest of your code. It's important to find the right trade off between invoking these overheads and the total amount of time your code takes to run."
   ]
  },
  {
   "cell_type": "markdown",
   "id": "d8666b1d",
   "metadata": {},
   "source": [
    "## 2. Line Profiling"
   ]
  },
  {
   "cell_type": "markdown",
   "id": "15fd8cab",
   "metadata": {},
   "source": [
    "Usually, our code is more complex than a few snippets or one liners, particularly in long data processing or modelling pipelines, which are typically formed from multiple functions of varying complexity. If you time your code while prototyping, you might find that it takes too long to run and seek ways to speed it up. `line_profiler` helps you to identify which parts of your code are taking the longest and to think about strategies for speeding them up."
   ]
  },
  {
   "cell_type": "code",
   "execution_count": null,
   "id": "fb20585b",
   "metadata": {},
   "outputs": [],
   "source": [
    "!pip install line_profiler\n",
    "%load_ext line_profiler"
   ]
  },
  {
   "cell_type": "markdown",
   "id": "e8d83c90",
   "metadata": {},
   "source": [
    "### 2.1 Filtering IDs... again"
   ]
  },
  {
   "cell_type": "markdown",
   "id": "2ed5cebc",
   "metadata": {},
   "source": [
    "In our previous example, we filtered the IDs whose frequencies had already been counted.\n",
    "\n",
    "```python\n",
    "unique_ids_counter = Counter(unique_ids)\n",
    "filtered = filter_freq_iterate(unique_ids_counter)\n",
    "\n",
    "```\n",
    "\n",
    "But, what if we don't recieve counts, but the raw IDs instead? In many real situations, this construction time will also need to be taken into account."
   ]
  },
  {
   "cell_type": "code",
   "execution_count": 44,
   "id": "bee67f77",
   "metadata": {},
   "outputs": [],
   "source": [
    "def filter_id_freqs_iter(ids, min_frequency=10):\n",
    "    \"\"\"Filters items from a list with frequencies below `min_frequency`.\n",
    "    \n",
    "    Iterates through items in counter and drops keys with frequencies below\n",
    "    `min_frequency`.\n",
    "    \"\"\"\n",
    "    counts = Counter(ids)\n",
    "    return [k for k, v in counts.items() if v >= min_frequency]"
   ]
  },
  {
   "cell_type": "code",
   "execution_count": 47,
   "id": "5e611042",
   "metadata": {},
   "outputs": [
    {
     "name": "stdout",
     "output_type": "stream",
     "text": [
      "CPU times: user 153 ms, sys: 2.5 ms, total: 156 ms\n",
      "Wall time: 156 ms\n"
     ]
    }
   ],
   "source": [
    "%%time\n",
    "_ = filter_id_freqs_iter(unique_ids)"
   ]
  },
  {
   "cell_type": "markdown",
   "id": "8b333ecb",
   "metadata": {},
   "source": [
    "This is much slower!\n",
    "\n",
    "The only thing we have changed is that we're now counting the IDs inside the function. We would expect this to be the cause of the slow down, but let's take a look to see."
   ]
  },
  {
   "cell_type": "code",
   "execution_count": 31,
   "id": "4724054a",
   "metadata": {},
   "outputs": [],
   "source": [
    "%load_ext line_profiler"
   ]
  },
  {
   "cell_type": "markdown",
   "id": "7b4a82b9",
   "metadata": {},
   "source": [
    "The line profiler extension allows us to profile code by timing how long it takes to run each line within a function.\n",
    "\n",
    "```python\n",
    "%lprun \\            # Use the line profiler magic function\n",
    "-f my_function \\    # Pass in the name of the function you want to profile\n",
    "my_function(a, b)   # Run the function on some inputs\n",
    "```"
   ]
  },
  {
   "cell_type": "code",
   "execution_count": 148,
   "id": "ff5c9c11",
   "metadata": {},
   "outputs": [],
   "source": [
    "%lprun \\\n",
    "-f filter_id_freqs_iter \\\n",
    "filter_id_freqs_iter(unique_ids)"
   ]
  },
  {
   "cell_type": "code",
   "execution_count": 40,
   "id": "3a4d3d65",
   "metadata": {},
   "outputs": [],
   "source": [
    "def filter_id_freqs_np(ids, min_frequency=10):\n",
    "    \"\"\"Filters items from a list with frequencies below `min_frequency`\n",
    "    \n",
    "    Uses `np.unique` to calculate the counts of each item and then \n",
    "    subsets those above the threshold frequency from the unique values.\n",
    "    \"\"\"\n",
    "    vals, counts = np.unique(ids, return_counts=True)\n",
    "    return vals[counts >= min_frequency]"
   ]
  },
  {
   "cell_type": "code",
   "execution_count": 43,
   "id": "844097a3",
   "metadata": {},
   "outputs": [
    {
     "name": "stdout",
     "output_type": "stream",
     "text": [
      "CPU times: user 77.1 ms, sys: 4.67 ms, total: 81.7 ms\n",
      "Wall time: 79.2 ms\n"
     ]
    }
   ],
   "source": [
    "%%time\n",
    "_ = filter_id_freqs_np(unique_ids)"
   ]
  },
  {
   "cell_type": "code",
   "execution_count": 147,
   "id": "4f5e7ca9",
   "metadata": {},
   "outputs": [],
   "source": [
    "%lprun -f filter_id_freqs_np filter_id_freqs_np(unique_ids)"
   ]
  },
  {
   "cell_type": "markdown",
   "id": "777cbb8d",
   "metadata": {},
   "source": [
    "### 2.2 Vectorisation sensation"
   ]
  },
  {
   "cell_type": "markdown",
   "id": "fc880baf",
   "metadata": {},
   "source": [
    "Note: This example is taken from [Mortada Mehyar's blog](https://mortada.net/easily-profile-python-code-in-jupyter.html)."
   ]
  },
  {
   "cell_type": "code",
   "execution_count": 208,
   "id": "edb270b0",
   "metadata": {},
   "outputs": [
    {
     "data": {
      "image/png": "[encoded data removed]",
      "text/plain": [
       "<Figure size 432x288 with 1 Axes>"
      ]
     },
     "metadata": {
      "needs_background": "light"
     },
     "output_type": "display_data"
    }
   ],
   "source": [
    "import numpy as np\n",
    "import pandas as pd\n",
    "\n",
    "origin = {'lat': 34, 'lon': -120}\n",
    "\n",
    "def generate_random_walk():\n",
    "    np.random.seed(1)\n",
    "    n = 100000\n",
    "    changes = np.random.randn(n, 2) / 30\n",
    "    changes[0] = [0, 0]\n",
    "    trace = pd.DataFrame.from_records(changes, columns=['lat', 'lon']).cumsum()\n",
    "    trace['lat'] += origin['lat']\n",
    "    trace['lon'] += origin['lon']\n",
    "    return trace\n",
    "\n",
    "trace = generate_random_walk()\n",
    "\n",
    "plt.plot(trace['lat'], trace['lon'])\n",
    "plt.scatter(origin['lat'], origin['lon'], color='C1', s=100);"
   ]
  },
  {
   "cell_type": "code",
   "execution_count": 183,
   "id": "34ccb85b",
   "metadata": {},
   "outputs": [],
   "source": [
    "from math import radians, cos, sin, asin, sqrt\n",
    "\n",
    "def haversine(lat1, lon1, lat2, lon2):\n",
    "    \"\"\"Calculate the great circle distance between two points \n",
    "    on the earth (specified in lat/lon)\n",
    "    \"\"\"\n",
    "    # convert to radians \n",
    "    lon1, lat1, lon2, lat2 = map(radians, [lon1, lat1, lon2, lat2])\n",
    "    # haversine formula\n",
    "    dlon = lon2 - lon1\n",
    "    dlat = lat2 - lat1\n",
    "    a = sin(dlat / 2)**2 + cos(lat1) * cos(lat2) * sin(dlon / 2)**2\n",
    "    c = 2 * asin(sqrt(a))\n",
    "    earth_radius = 6367\n",
    "    distance_km = earth_radius * c\n",
    "    return distance_km\n",
    "\n",
    "def get_distances(trace, origin):\n",
    "    distances = {}\n",
    "    for i in trace.index:\n",
    "        distances[i] = haversine(\n",
    "            trace['lat'].loc[i], trace['lon'].loc[i], origin['lat'], origin['lon']\n",
    "        )\n",
    "    distances = pd.Series(distances)\n",
    "    return distances\n",
    "\n",
    "def get_farthest(trace, origin):\n",
    "    distance = get_distances(trace, origin)\n",
    "    max_idx = distance.argmax()\n",
    "    return trace.loc[max_idx], distance.loc[max_idx]"
   ]
  },
  {
   "cell_type": "code",
   "execution_count": 194,
   "id": "88fdba90",
   "metadata": {},
   "outputs": [
    {
     "name": "stdout",
     "output_type": "stream",
     "text": [
      "CPU times: user 1.78 s, sys: 4.17 ms, total: 1.79 s\n",
      "Wall time: 1.79 s\n"
     ]
    },
    {
     "data": {
      "text/plain": [
       "(lat     54.648484\n",
       " lon   -109.343278\n",
       " Name: 97647, dtype: float64,\n",
       " 2439.5707960599893)"
      ]
     },
     "execution_count": 194,
     "metadata": {},
     "output_type": "execute_result"
    }
   ],
   "source": [
    "%%time\n",
    "get_farthest(trace, origin)"
   ]
  },
  {
   "cell_type": "code",
   "execution_count": 210,
   "id": "e64bcc88",
   "metadata": {},
   "outputs": [],
   "source": [
    "%lprun -f get_farthest get_farthest(trace, origin)"
   ]
  },
  {
   "cell_type": "code",
   "execution_count": 211,
   "id": "b8ac9cfd",
   "metadata": {},
   "outputs": [],
   "source": [
    "%lprun -f get_distances get_farthest(trace, origin)"
   ]
  },
  {
   "cell_type": "code",
   "execution_count": 195,
   "id": "fdf0d045",
   "metadata": {},
   "outputs": [],
   "source": [
    "def haversine_vectorized(lat1, lon1, lat2, lon2):\n",
    "    \"\"\"\n",
    "    Calculate the great circle distance between two points \n",
    "    on the earth. Note that lat1/lon1/lat2/lon2 can either be\n",
    "    scalars or numpy arrays.\n",
    "    \"\"\"\n",
    "    # convert to radians \n",
    "    lon1, lat1, lon2, lat2 = map(np.radians, [lon1, lat1, lon2, lat2])\n",
    "    # haversine formula \n",
    "    dlon = lon2 - lon1\n",
    "    dlat = lat2 - lat1\n",
    "    a = np.sin(dlat / 2)**2 + np.cos(lat1) * np.cos(lat2) * np.sin(dlon / 2)**2\n",
    "    c = 2 * np.arcsin(np.sqrt(a)) \n",
    "    earth_radius = 6367\n",
    "    distance_km = earth_radius * c\n",
    "    return distance_km\n",
    "\n",
    "def get_distances_vectorized(trace, origin):\n",
    "    distances = haversine_vectorized(\n",
    "        trace['lat'], trace['lon'], origin['lat'], origin['lon']\n",
    "    )\n",
    "    return distances\n",
    "\n",
    "def get_farthest_vectorized(trace, origin):\n",
    "    distance = get_distances_vectorized(trace, origin)\n",
    "    max_idx = distance.argmax()\n",
    "    return trace.loc[max_idx], distance.loc[max_idx]"
   ]
  },
  {
   "cell_type": "code",
   "execution_count": 213,
   "id": "1a84fcf0",
   "metadata": {},
   "outputs": [],
   "source": [
    "%lprun -f haversine_vectorized get_farthest_vectorized(trace, origin)"
   ]
  },
  {
   "cell_type": "code",
   "execution_count": 197,
   "id": "0f802bb1",
   "metadata": {},
   "outputs": [
    {
     "name": "stdout",
     "output_type": "stream",
     "text": [
      "CPU times: user 19 ms, sys: 3.84 ms, total: 22.9 ms\n",
      "Wall time: 21.1 ms\n"
     ]
    },
    {
     "data": {
      "text/plain": [
       "(lat     54.648484\n",
       " lon   -109.343278\n",
       " Name: 97647, dtype: float64,\n",
       " 2439.5707960599893)"
      ]
     },
     "execution_count": 197,
     "metadata": {},
     "output_type": "execute_result"
    }
   ],
   "source": [
    "%%time\n",
    "get_farthest_vectorized(trace, origin)"
   ]
  },
  {
   "cell_type": "markdown",
   "id": "5c2d3b00",
   "metadata": {},
   "source": [
    "### 2.3 Exercise: Text Preprocessing\n",
    "\n",
    "Preprocessing text is often a first step before analysis or modelling. There are few off-the-shelf text preprocessing pipelines that can meet every need, so we often find ourselves writing a set of functions to do the job for our specific task.\n",
    "\n",
    "Here, we're going to examine a function that does some basic text cleaning on film reviews."
   ]
  },
  {
   "cell_type": "code",
   "execution_count": null,
   "id": "73a664c0",
   "metadata": {},
   "outputs": [],
   "source": [
    "!pip install spacy datasets\n",
    "!python -m spacy download en_core_web_sm"
   ]
  },
  {
   "cell_type": "code",
   "execution_count": 17,
   "id": "59553f7e",
   "metadata": {},
   "outputs": [],
   "source": [
    "import spacy\n",
    "import pandas as pd\n",
    "from datasets import list_datasets, load_dataset\n",
    "\n",
    "nlp = spacy.load(\"en_core_web_sm\")\n",
    "rotten = load_dataset('rotten_tomatoes')\n",
    "rotten = rotten['train']['text'];"
   ]
  },
  {
   "cell_type": "code",
   "execution_count": 85,
   "id": "d6f72f8f",
   "metadata": {},
   "outputs": [
    {
     "name": "stderr",
     "output_type": "stream",
     "text": [
      "Using custom data configuration default\n",
      "Reusing dataset rotten_tomatoes_movie_review (/Users/george.richardson/.cache/huggingface/datasets/rotten_tomatoes_movie_review/default/1.0.0/40d411e45a6ce3484deed7cc15b82a53dad9a72aafd9f86f8f227134bec5ca46)\n"
     ]
    },
    {
     "data": {
      "application/vnd.jupyter.widget-view+json": {
       "model_id": "ec7df10255e34093bc510f1933f827d4",
       "version_major": 2,
       "version_minor": 0
      },
      "text/plain": [
       "  0%|          | 0/3 [00:00<?, ?it/s]"
      ]
     },
     "metadata": {},
     "output_type": "display_data"
    }
   ],
   "source": [
    "rotten[:2]"
   ]
  },
  {
   "cell_type": "code",
   "execution_count": 106,
   "id": "7da7d0cd",
   "metadata": {},
   "outputs": [],
   "source": [
    "def tokens_to_string(tokens, max_length):\n",
    "    \"\"\"Convert a list of strings into a single space-separated string\n",
    "    truncated to `max_length`.\n",
    "    \"\"\"\n",
    "    text_string = ''\n",
    "    n = 0\n",
    "    for token in tokens:\n",
    "        n += 1\n",
    "        if n < max_length:\n",
    "            text_string = text_string + token + ' '\n",
    "        elif n == max_length:\n",
    "            text_string = text_string + token\n",
    "\n",
    "    return text_string\n",
    "    \n",
    "def make_spacy_docs():\n",
    "\n",
    "\n",
    "def clean_texts(texts, max_length=10):\n",
    "    \"\"\"Cleans and truncates a set of texts. Removes punctuation, stop\n",
    "    words and numbers. Only returns the first `max_length` tokens.\n",
    "    \"\"\"\n",
    "    clean_texts = []\n",
    "    for text in texts:\n",
    "        doc = nlp(text)\n",
    "\n",
    "        clean_tokens = []\n",
    "        for token in doc:\n",
    "            if token.is_punct:\n",
    "                continue\n",
    "            if token.is_stop:\n",
    "                continue\n",
    "            if token.is_digit:\n",
    "                continue\n",
    "            \n",
    "            clean_tokens.append(token.text)\n",
    "\n",
    "        clean_string = tokens_to_string(clean_tokens, max_length)\n",
    "        clean_texts.append(clean_texts)\n",
    "\n",
    "    return clean_texts"
   ]
  },
  {
   "cell_type": "code",
   "execution_count": 107,
   "id": "b882083d",
   "metadata": {},
   "outputs": [
    {
     "name": "stdout",
     "output_type": "stream",
     "text": [
      "CPU times: user 482 ms, sys: 4 ms, total: 486 ms\n",
      "Wall time: 484 ms\n"
     ]
    }
   ],
   "source": [
    "%%time\n",
    "_ = clean_texts(rotten[:100])"
   ]
  },
  {
   "cell_type": "code",
   "execution_count": 95,
   "id": "482e666c",
   "metadata": {},
   "outputs": [],
   "source": [
    "%lprun -f clean_texts clean_texts(rotten[:100])"
   ]
  },
  {
   "cell_type": "markdown",
   "id": "769e952b",
   "metadata": {},
   "source": [
    "What are the bottlenecks in this code?\n",
    "\n",
    "Hint: There is one big one, but you could squeeze even more performance from quite a few places."
   ]
  },
  {
   "cell_type": "markdown",
   "id": "51f4ebe2",
   "metadata": {},
   "source": [
    "#### Exercise\n",
    "Speed up the text cleaning pipeline above using line profiler to help diagnose the bottlenecks.\n",
    "\n",
    "Hints:\n",
    "- Read the docs!\n",
    "- Is there more than one way to solve this problem?"
   ]
  },
  {
   "cell_type": "code",
   "execution_count": 144,
   "id": "3b6ce4a3",
   "metadata": {},
   "outputs": [],
   "source": [
    "# Write your text cleaning pipeline here:\n",
    "\n",
    "def clean_texts_faster(texts, max_length):\n",
    "    pass"
   ]
  },
  {
   "cell_type": "code",
   "execution_count": 146,
   "id": "a6f20ba0",
   "metadata": {},
   "outputs": [
    {
     "name": "stdout",
     "output_type": "stream",
     "text": [
      "CPU times: user 3 µs, sys: 1 µs, total: 4 µs\n",
      "Wall time: 8.11 µs\n"
     ]
    }
   ],
   "source": [
    "%%time\n",
    "# time your code here"
   ]
  },
  {
   "cell_type": "code",
   "execution_count": 145,
   "id": "e64c2228",
   "metadata": {},
   "outputs": [],
   "source": [
    "%lprun # profile your code here"
   ]
  },
  {
   "cell_type": "markdown",
   "id": "901e12c9",
   "metadata": {},
   "source": [
    "## 3. Future topics?"
   ]
  },
  {
   "cell_type": "markdown",
   "id": "e0ea20fb",
   "metadata": {},
   "source": [
    "- Caching results of functions that you might want to use again using [`lru_cache`](https://docs.python.org/3/library/functools.html#functools.lru_cache) 🗃\n",
    "- Try out Cython 🐉\n",
    "- Taking advantage of hardware but running code in parallel or on a GPU when you can't get any more speed out of your code or the gains would be huge 💪"
   ]
  },
  {
   "cell_type": "markdown",
   "id": "852a25c2",
   "metadata": {},
   "source": [
    "## 4. [Draft] Make a Graph"
   ]
  },
  {
   "cell_type": "code",
   "execution_count": 214,
   "id": "e4c95040",
   "metadata": {},
   "outputs": [],
   "source": [
    "from sklearn.datasets import make_blobs"
   ]
  },
  {
   "cell_type": "code",
   "execution_count": 277,
   "id": "abc9ea39",
   "metadata": {},
   "outputs": [],
   "source": [
    "blobs = make_blobs(1_000, centers=20, random_state=42)[0]"
   ]
  },
  {
   "cell_type": "code",
   "execution_count": 278,
   "id": "172692ba",
   "metadata": {},
   "outputs": [
    {
     "data": {
      "text/plain": [
       "<matplotlib.collections.PathCollection at 0x7f95e5dcff40>"
      ]
     },
     "execution_count": 278,
     "metadata": {},
     "output_type": "execute_result"
    },
    {
     "data": {
      "image/png": "[encoded data removed]",
      "text/plain": [
       "<Figure size 432x288 with 1 Axes>"
      ]
     },
     "metadata": {
      "needs_background": "light"
     },
     "output_type": "display_data"
    }
   ],
   "source": [
    "plt.scatter(blobs[:, 0], blobs[:, 1])"
   ]
  },
  {
   "cell_type": "code",
   "execution_count": 233,
   "id": "be22161d",
   "metadata": {},
   "outputs": [],
   "source": [
    "from scipy.spatial.distance import euclidean\n",
    "from sklearn.metrics import pairwise_distances"
   ]
  },
  {
   "cell_type": "code",
   "execution_count": 285,
   "id": "c102ac2e",
   "metadata": {},
   "outputs": [],
   "source": [
    "def get_knn(points, k):\n",
    "    \"\"\"\"\"\"\n",
    "    pairwise_dists = pairwise_distances(points, metric='euclidean')\n",
    "    knn = []\n",
    "    for dists in pairwise_dists:\n",
    "        knn_arg = np.argsort(dists)[1: k + 1]\n",
    "        knn.append(knn_arg)\n",
    "    return knn\n",
    "\n",
    "def create_edgelist(knn):\n",
    "    edges = []\n",
    "    for s, targets in enumerate(knn):\n",
    "        for t in targets:\n",
    "            edges.append(sorted([s, t]))\n",
    "    return edges\n",
    "\n",
    "def calculate_dists():\n",
    "    pass"
   ]
  },
  {
   "cell_type": "code",
   "execution_count": 286,
   "id": "1764b8f1",
   "metadata": {},
   "outputs": [
    {
     "name": "stdout",
     "output_type": "stream",
     "text": [
      "CPU times: user 344 ms, sys: 101 ms, total: 444 ms\n",
      "Wall time: 94.2 ms\n"
     ]
    }
   ],
   "source": [
    "knn = get_knn(blobs, 5)\n",
    "edges = create_edgelist(knn)"
   ]
  }
 ],
 "metadata": {
  "kernelspec": {
   "display_name": "profiling",
   "language": "python",
   "name": "profiling"
  },
  "language_info": {
   "codemirror_mode": {
    "name": "ipython",
    "version": 3
   },
   "file_extension": ".py",
   "mimetype": "text/x-python",
   "name": "python",
   "nbconvert_exporter": "python",
   "pygments_lexer": "ipython3",
   "version": "3.9.7"
  }
 },
 "nbformat": 4,
 "nbformat_minor": 5
}

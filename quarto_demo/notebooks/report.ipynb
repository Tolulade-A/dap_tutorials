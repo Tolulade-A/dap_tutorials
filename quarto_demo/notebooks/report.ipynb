{
 "cells": [
  {
   "cell_type": "markdown",
   "metadata": {},
   "source": [
    "---\n",
    "title: \"Obesity in the UK: Bigger forces at play?\"\n",
    "author: Nesta X\n",
    "format:\n",
    "    html:\n",
    "        code-fold: true\n",
    "\n",
    "execute:\n",
    "  # Do we want warnings to be shown?\n",
    "  warning: false\n",
    "---"
   ]
  },
  {
   "cell_type": "markdown",
   "metadata": {},
   "source": [
    "To do before report is ready for publication:\n",
    "\n",
    "- [ ] Add an image of bigfoot\n",
    "- [ ] Create figure caption\n",
    "- [ ] Cross reference the figure in the text\n",
    "- [ ] Add a title to the figure\n",
    "- [ ] Add a citation for [bigfoot sightings](https://data.world/timothyrenner/bfro-sightings-data) and [BMI](https://digital.nhs.uk/data-and-information/publications/statistical/health-survey-for-england/2021/health-survey-for-england-2021-data-tables)\n",
    "- [ ] Include a 'callout' with disclaimers about limitations of the data\n",
    "- [ ] Add a collapsible preview of the data\n",
    "- [ ] Put abstract in the front matter\n",
    "- [ ] Maybe add a bit more analysis\n",
    "- [ ] Turn this into a presentation or dashboard for max impact\n",
    "\n",
    "Note to self: most of these things documented [here](https://quarto.org/docs/guide/)\n",
    "\n",
    "If you would like to render this report locally in a web browser: navigate to the quarto_demo folder, make sure you conda environment is activatated, and run the following command in your terminal:\n",
    "\n",
    "`quarto preview notebooks/report.ipynb --to html` or `quarto render notebooks/report.ipynb` if you want to output a html file."
   ]
  },
  {
   "cell_type": "markdown",
   "metadata": {},
   "source": [
    "Evidence suggests that an individual known as 'Bigfoot' is real and is responsible for rising BMI in the United Kingdom. We investigate."
   ]
  },
  {
   "cell_type": "code",
   "execution_count": 1,
   "metadata": {},
   "outputs": [],
   "source": [
    "import pandas as pd\n",
    "import json\n",
    "import altair as alt"
   ]
  },
  {
   "cell_type": "code",
   "execution_count": 2,
   "metadata": {},
   "outputs": [],
   "source": [
    "with open(\"bfro_reports.json\") as f:\n",
    "    data = f.readlines()\n",
    "    records = []\n",
    "    for line in data:\n",
    "        records.append(json.loads(line))\n",
    "\n",
    "df_bf = pd.DataFrame.from_records(records)\n",
    "df_bf[\"YEAR\"] = pd.to_datetime(df_bf[\"YEAR\"], format=\"%Y\", errors=\"coerce\")\n",
    "df_bf.dropna(subset=[\"YEAR\"], inplace=True)\n",
    "\n",
    "df_bmi = pd.read_csv(\"uk_adult_mean_bmi.csv\")\n",
    "df_bmi[\"YEAR\"] = pd.to_datetime(df_bmi[\"YEAR\"], format=\"%Y\", errors=\"coerce\")"
   ]
  },
  {
   "cell_type": "code",
   "execution_count": 3,
   "metadata": {},
   "outputs": [
    {
     "name": "stderr",
     "output_type": "stream",
     "text": [
      "/Users/jessgillam/opt/anaconda3/envs/quarto_demo/lib/python3.9/site-packages/altair/utils/core.py:317: FutureWarning: iteritems is deprecated and will be removed in a future version. Use .items instead.\n",
      "  for col_name, dtype in df.dtypes.iteritems():\n"
     ]
    },
    {
     "data": {
      "text/html": [
       "\n",
       "<div id=\"altair-viz-d6e5a82f18514f6b85da817643d1d285\"></div>\n",
       "<script type=\"text/javascript\">\n",
       "  var VEGA_DEBUG = (typeof VEGA_DEBUG == \"undefined\") ? {} : VEGA_DEBUG;\n",
       "  (function(spec, embedOpt){\n",
       "    let outputDiv = document.currentScript.previousElementSibling;\n",
       "    if (outputDiv.id !== \"altair-viz-d6e5a82f18514f6b85da817643d1d285\") {\n",
       "      outputDiv = document.getElementById(\"altair-viz-d6e5a82f18514f6b85da817643d1d285\");\n",
       "    }\n",
       "    const paths = {\n",
       "      \"vega\": \"https://cdn.jsdelivr.net/npm//vega@5?noext\",\n",
       "      \"vega-lib\": \"https://cdn.jsdelivr.net/npm//vega-lib?noext\",\n",
       "      \"vega-lite\": \"https://cdn.jsdelivr.net/npm//vega-lite@4.17.0?noext\",\n",
       "      \"vega-embed\": \"https://cdn.jsdelivr.net/npm//vega-embed@6?noext\",\n",
       "    };\n",
       "\n",
       "    function maybeLoadScript(lib, version) {\n",
       "      var key = `${lib.replace(\"-\", \"\")}_version`;\n",
       "      return (VEGA_DEBUG[key] == version) ?\n",
       "        Promise.resolve(paths[lib]) :\n",
       "        new Promise(function(resolve, reject) {\n",
       "          var s = document.createElement('script');\n",
       "          document.getElementsByTagName(\"head\")[0].appendChild(s);\n",
       "          s.async = true;\n",
       "          s.onload = () => {\n",
       "            VEGA_DEBUG[key] = version;\n",
       "            return resolve(paths[lib]);\n",
       "          };\n",
       "          s.onerror = () => reject(`Error loading script: ${paths[lib]}`);\n",
       "          s.src = paths[lib];\n",
       "        });\n",
       "    }\n",
       "\n",
       "    function showError(err) {\n",
       "      outputDiv.innerHTML = `<div class=\"error\" style=\"color:red;\">${err}</div>`;\n",
       "      throw err;\n",
       "    }\n",
       "\n",
       "    function displayChart(vegaEmbed) {\n",
       "      vegaEmbed(outputDiv, spec, embedOpt)\n",
       "        .catch(err => showError(`Javascript Error: ${err.message}<br>This usually means there's a typo in your chart specification. See the javascript console for the full traceback.`));\n",
       "    }\n",
       "\n",
       "    if(typeof define === \"function\" && define.amd) {\n",
       "      requirejs.config({paths});\n",
       "      require([\"vega-embed\"], displayChart, err => showError(`Error loading script: ${err.message}`));\n",
       "    } else {\n",
       "      maybeLoadScript(\"vega\", \"5\")\n",
       "        .then(() => maybeLoadScript(\"vega-lite\", \"4.17.0\"))\n",
       "        .then(() => maybeLoadScript(\"vega-embed\", \"6\"))\n",
       "        .catch(showError)\n",
       "        .then(() => displayChart(vegaEmbed));\n",
       "    }\n",
       "  })({\"config\": {\"view\": {\"continuousWidth\": 400, \"continuousHeight\": 300}}, \"data\": {\"name\": \"data-7940326c47a2c34e9b78dc3aa1e960cb\"}, \"mark\": {\"type\": \"circle\", \"size\": 50}, \"encoding\": {\"tooltip\": [{\"field\": \"YEAR\", \"type\": \"temporal\"}, {\"field\": \"COUNT\", \"type\": \"quantitative\"}, {\"field\": \"BMI\", \"type\": \"quantitative\"}], \"x\": {\"field\": \"COUNT\", \"scale\": {\"zero\": false}, \"title\": \"Bigfoot Sightings\", \"type\": \"quantitative\"}, \"y\": {\"field\": \"BMI\", \"scale\": {\"zero\": false}, \"title\": \"Mean UK Adult BMI\", \"type\": \"quantitative\"}}, \"height\": 400, \"width\": 800, \"$schema\": \"https://vega.github.io/schema/vega-lite/v4.17.0.json\", \"datasets\": {\"data-7940326c47a2c34e9b78dc3aa1e960cb\": [{\"YEAR\": \"1994-01-01T00:00:00\", \"COUNT\": 67, \"BMI\": 25.9}, {\"YEAR\": \"1995-01-01T00:00:00\", \"COUNT\": 68, \"BMI\": 26.0}, {\"YEAR\": \"1996-01-01T00:00:00\", \"COUNT\": 85, \"BMI\": 26.1}, {\"YEAR\": \"1997-01-01T00:00:00\", \"COUNT\": 109, \"BMI\": 26.3}, {\"YEAR\": \"1998-01-01T00:00:00\", \"COUNT\": 124, \"BMI\": 26.4}, {\"YEAR\": \"1999-01-01T00:00:00\", \"COUNT\": 83, \"BMI\": 26.4}, {\"YEAR\": \"2000-01-01T00:00:00\", \"COUNT\": 189, \"BMI\": 26.7}, {\"YEAR\": \"2001-01-01T00:00:00\", \"COUNT\": 162, \"BMI\": 26.9}, {\"YEAR\": \"2002-01-01T00:00:00\", \"COUNT\": 128, \"BMI\": 26.8}, {\"YEAR\": \"2003-01-01T00:00:00\", \"COUNT\": 146, \"BMI\": 26.8}, {\"YEAR\": \"2004-01-01T00:00:00\", \"COUNT\": 173, \"BMI\": 26.9}, {\"YEAR\": \"2005-01-01T00:00:00\", \"COUNT\": 169, \"BMI\": 26.9}, {\"YEAR\": \"2006-01-01T00:00:00\", \"COUNT\": 173, \"BMI\": 27.0}, {\"YEAR\": \"2007-01-01T00:00:00\", \"COUNT\": 122, \"BMI\": 27.0}, {\"YEAR\": \"2008-01-01T00:00:00\", \"COUNT\": 145, \"BMI\": 27.0}, {\"YEAR\": \"2009-01-01T00:00:00\", \"COUNT\": 130, \"BMI\": 27.0}, {\"YEAR\": \"2010-01-01T00:00:00\", \"COUNT\": 117, \"BMI\": 27.3}, {\"YEAR\": \"2011-01-01T00:00:00\", \"COUNT\": 141, \"BMI\": 27.1}, {\"YEAR\": \"2012-01-01T00:00:00\", \"COUNT\": 191, \"BMI\": 27.1}, {\"YEAR\": \"2013-01-01T00:00:00\", \"COUNT\": 144, \"BMI\": 27.2}, {\"YEAR\": \"2014-01-01T00:00:00\", \"COUNT\": 125, \"BMI\": 27.2}, {\"YEAR\": \"2015-01-01T00:00:00\", \"COUNT\": 90, \"BMI\": 27.4}, {\"YEAR\": \"2016-01-01T00:00:00\", \"COUNT\": 67, \"BMI\": 27.3}, {\"YEAR\": \"2017-01-01T00:00:00\", \"COUNT\": 60, \"BMI\": 27.7}, {\"YEAR\": \"2018-01-01T00:00:00\", \"COUNT\": 55, \"BMI\": 27.5}, {\"YEAR\": \"2019-01-01T00:00:00\", \"COUNT\": 40, \"BMI\": 27.6}, {\"YEAR\": \"2021-01-01T00:00:00\", \"COUNT\": 46, \"BMI\": 27.4}]}}, {\"mode\": \"vega-lite\"});\n",
       "</script>"
      ],
      "text/plain": [
       "alt.Chart(...)"
      ]
     },
     "execution_count": 3,
     "metadata": {},
     "output_type": "execute_result"
    }
   ],
   "source": [
    "annual_stats = (\n",
    "    df_bf\n",
    "    .groupby(df_bf[\"YEAR\"]).size().reset_index(name=\"COUNT\")\n",
    "    .merge(df_bmi, on=\"YEAR\")\n",
    ")\n",
    "\n",
    "chart = alt.Chart(annual_stats).mark_circle(size=50).encode(\n",
    "    x=alt.X(\"COUNT\", title=\"Bigfoot Sightings\", scale=alt.Scale(zero=False)),\n",
    "    y=alt.Y(\"BMI\", title=\"Mean UK Adult BMI\", scale=alt.Scale(zero=False)),\n",
    "    tooltip=[\"YEAR\", \"COUNT\", \"BMI\"]\n",
    ").properties(\n",
    "    width=800,\n",
    "    height=400\n",
    ")\n",
    "\n",
    "chart"
   ]
  },
  {
   "cell_type": "markdown",
   "metadata": {},
   "source": [
    "Our analysis concludes that Bigfoot did indeed drive the initial rise in obesity rates in the UK. Despite maintaining a lower profile in recent years, Bigfoot's sinister agenda appears to have had a lasting effect."
   ]
  }
 ],
 "metadata": {
  "kernelspec": {
   "display_name": "quarto_demo",
   "language": "python",
   "name": "python3"
  },
  "language_info": {
   "codemirror_mode": {
    "name": "ipython",
    "version": 3
   },
   "file_extension": ".py",
   "mimetype": "text/x-python",
   "name": "python",
   "nbconvert_exporter": "python",
   "pygments_lexer": "ipython3",
   "version": "3.9.18"
  },
  "orig_nbformat": 4
 },
 "nbformat": 4,
 "nbformat_minor": 2
}

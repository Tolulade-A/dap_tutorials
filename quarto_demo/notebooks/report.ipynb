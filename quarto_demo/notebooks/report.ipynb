{
 "cells": [
  {
   "cell_type": "markdown",
   "metadata": {},
   "source": [
    "---\n",
    "title: \"Obesity in the UK: Bigger forces at play?\"\n",
    "author: Nesta X\n",
    "format:\n",
    "    html:\n",
    "        code-fold: true\n",
    "\n",
    "execute:\n",
    "  # Do we want warnings to be shown?\n",
    "  warning: false\n",
    "---"
   ]
  },
  {
   "cell_type": "markdown",
   "metadata": {},
   "source": [
    "To do before report is ready for publication:\n",
    "\n",
    "- [ ] Add an image of bigfoot\n",
    "- [ ] Create figure caption\n",
    "- [ ] Cross reference the figure in the text\n",
    "- [ ] Add a title to the figure\n",
    "- [ ] Add a citation for [bigfoot sightings](https://data.world/timothyrenner/bfro-sightings-data) and [BMI](https://digital.nhs.uk/data-and-information/publications/statistical/health-survey-for-england/2021/health-survey-for-england-2021-data-tables)\n",
    "- [ ] Include a 'callout' with disclaimers about limitations of the data\n",
    "- [ ] Add a collapsible preview of the data\n",
    "- [ ] Put abstract in the front matter\n",
    "- [ ] Maybe add a bit more analysis\n",
    "- [ ] Turn this into a presentation or dashboard for max impact\n",
    "\n",
    "Note to self: most of these things documented [here](https://quarto.org/docs/guide/)\n",
    "\n",
    "If you would like to render this report locally in a web browser: navigate to the quarto_demo folder, make sure you conda environment is activatated, and run the following command in your terminal:\n",
    "\n",
    "`quarto preview notebooks/report.ipynb --to html` or `quarto render notebooks/report.ipynb` if you want to output a html file."
   ]
  },
  {
   "cell_type": "markdown",
   "metadata": {},
   "source": [
    "Evidence suggests that an individual known as 'Bigfoot' is real and is responsible for rising BMI in the United Kingdom. We investigate."
   ]
  },
  {
   "cell_type": "code",
   "execution_count": null,
   "metadata": {},
   "outputs": [],
   "source": [
    "import pandas as pd\n",
    "import json\n",
    "import altair as alt"
   ]
  },
  {
   "cell_type": "code",
   "execution_count": null,
   "metadata": {},
   "outputs": [],
   "source": [
    "with open(\"bfro_reports.json\") as f:\n",
    "    data = f.readlines()\n",
    "    records = []\n",
    "    for line in data:\n",
    "        records.append(json.loads(line))\n",
    "\n",
    "df_bf = pd.DataFrame.from_records(records)\n",
    "df_bf[\"YEAR\"] = pd.to_datetime(df_bf[\"YEAR\"], format=\"%Y\", errors=\"coerce\")\n",
    "df_bf.dropna(subset=[\"YEAR\"], inplace=True)\n",
    "\n",
    "df_bmi = pd.read_csv(\"uk_adult_mean_bmi.csv\")\n",
    "df_bmi[\"YEAR\"] = pd.to_datetime(df_bmi[\"YEAR\"], format=\"%Y\", errors=\"coerce\")"
   ]
  },
  {
   "cell_type": "code",
   "execution_count": null,
   "metadata": {},
   "outputs": [],
   "source": [
    "annual_stats = (\n",
    "    df_bf\n",
    "    .groupby(df_bf[\"YEAR\"]).size().reset_index(name=\"COUNT\")\n",
    "    .merge(df_bmi, on=\"YEAR\")\n",
    ")\n",
    "\n",
    "chart = alt.Chart(annual_stats).mark_circle(size=50).encode(\n",
    "    x=alt.X(\"COUNT\", title=\"Bigfoot Sightings\", scale=alt.Scale(zero=False)),\n",
    "    y=alt.Y(\"BMI\", title=\"Mean UK Adult BMI\", scale=alt.Scale(zero=False)),\n",
    "    tooltip=[\"YEAR\", \"COUNT\", \"BMI\"]\n",
    ").properties(\n",
    "    width=800,\n",
    "    height=400\n",
    ")\n",
    "\n",
    "chart"
   ]
  },
  {
   "cell_type": "markdown",
   "metadata": {},
   "source": [
    "Our analysis concludes that Bigfoot did indeed drive the initial rise in obesity rates in the UK. Despite maintaining a lower profile in recent years, Bigfoot's sinister agenda appears to have had a lasting effect."
   ]
  }
 ],
 "metadata": {
  "kernelspec": {
   "display_name": "quarto_demo",
   "language": "python",
   "name": "python3"
  },
  "language_info": {
   "codemirror_mode": {
    "name": "ipython",
    "version": 3
   },
   "file_extension": ".py",
   "mimetype": "text/x-python",
   "name": "python",
   "nbconvert_exporter": "python",
   "pygments_lexer": "ipython3",
   "version": "3.9.18"
  },
  "orig_nbformat": 4
 },
 "nbformat": 4,
 "nbformat_minor": 2
}

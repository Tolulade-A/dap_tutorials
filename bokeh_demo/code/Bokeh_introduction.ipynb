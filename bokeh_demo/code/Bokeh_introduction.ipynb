{
 "cells": [
  {
   "cell_type": "markdown",
   "metadata": {},
   "source": [
    "# Have a go with Bokeh - First steps\n",
    "\n",
    "This notebook provides an introduction to the basics of the visualisation library [Bokeh](https://bokeh.org/). <br>\n",
    "More detailed information and examples can be found in the [Bokeh documentation](https://docs.bokeh.org/en/latest/) or the [Bokeh introduction](https://docs.bokeh.org/en/latest/docs/first_steps/first_steps_1.html).\n",
    "\n",
    "<img src=\"img/easter.jpg\"  width=\"60%\">\n",
    "\n",
    "\n",
    "## Table of Content<a id='top'></a>\n",
    "\n",
    "[**Building Blocks: Glyphs**](#glyphs)\n",
    "\n",
    "- [Markers](#marker)\n",
    "- [Lines](#line)\n",
    "- [Bars / rectangles](#bar)\n",
    "- [All in one](#allinone)\n",
    "- [Activity 1: Glyphs](#first_act)\n",
    "\n",
    "[**Plotting data**](#plotting)\n",
    "\n",
    "- [First scatter splot](#first_plot)\n",
    "- [Activity 2: Adapt layout](#sec_act)\n",
    "- [Add Tooltips](#tooltips)\n",
    "- [Activity 3: Tooltips](#third_act)\n",
    "<br>\n",
    "\n",
    "[**Exploring your plots: Tipps and tricks**](#exploring)\n",
    "- [Activity 4: Add more plots](#fourth_act)\n",
    "- [Save your plot](#save)\n"
   ]
  },
  {
   "cell_type": "code",
   "execution_count": 1,
   "metadata": {},
   "outputs": [
    {
     "data": {
      "text/html": [
       "<div class=\"bk-root\">\n",
       "        <a href=\"https://bokeh.org\" target=\"_blank\" class=\"bk-logo bk-logo-small bk-logo-notebook\"></a>\n",
       "        <span id=\"1002\">Loading BokehJS ...</span>\n",
       "    </div>\n"
      ]
     },
     "metadata": {},
     "output_type": "display_data"
    },
    {
     "data": {
      "application/javascript": [
       "(function(root) {\n",
       "  function now() {\n",
       "    return new Date();\n",
       "  }\n",
       "\n",
       "  const force = true;\n",
       "\n",
       "  if (typeof root._bokeh_onload_callbacks === \"undefined\" || force === true) {\n",
       "    root._bokeh_onload_callbacks = [];\n",
       "    root._bokeh_is_loading = undefined;\n",
       "  }\n",
       "\n",
       "const JS_MIME_TYPE = 'application/javascript';\n",
       "  const HTML_MIME_TYPE = 'text/html';\n",
       "  const EXEC_MIME_TYPE = 'application/vnd.bokehjs_exec.v0+json';\n",
       "  const CLASS_NAME = 'output_bokeh rendered_html';\n",
       "\n",
       "  /**\n",
       "   * Render data to the DOM node\n",
       "   */\n",
       "  function render(props, node) {\n",
       "    const script = document.createElement(\"script\");\n",
       "    node.appendChild(script);\n",
       "  }\n",
       "\n",
       "  /**\n",
       "   * Handle when an output is cleared or removed\n",
       "   */\n",
       "  function handleClearOutput(event, handle) {\n",
       "    const cell = handle.cell;\n",
       "\n",
       "    const id = cell.output_area._bokeh_element_id;\n",
       "    const server_id = cell.output_area._bokeh_server_id;\n",
       "    // Clean up Bokeh references\n",
       "    if (id != null && id in Bokeh.index) {\n",
       "      Bokeh.index[id].model.document.clear();\n",
       "      delete Bokeh.index[id];\n",
       "    }\n",
       "\n",
       "    if (server_id !== undefined) {\n",
       "      // Clean up Bokeh references\n",
       "      const cmd_clean = \"from bokeh.io.state import curstate; print(curstate().uuid_to_server['\" + server_id + \"'].get_sessions()[0].document.roots[0]._id)\";\n",
       "      cell.notebook.kernel.execute(cmd_clean, {\n",
       "        iopub: {\n",
       "          output: function(msg) {\n",
       "            const id = msg.content.text.trim();\n",
       "            if (id in Bokeh.index) {\n",
       "              Bokeh.index[id].model.document.clear();\n",
       "              delete Bokeh.index[id];\n",
       "            }\n",
       "          }\n",
       "        }\n",
       "      });\n",
       "      // Destroy server and session\n",
       "      const cmd_destroy = \"import bokeh.io.notebook as ion; ion.destroy_server('\" + server_id + \"')\";\n",
       "      cell.notebook.kernel.execute(cmd_destroy);\n",
       "    }\n",
       "  }\n",
       "\n",
       "  /**\n",
       "   * Handle when a new output is added\n",
       "   */\n",
       "  function handleAddOutput(event, handle) {\n",
       "    const output_area = handle.output_area;\n",
       "    const output = handle.output;\n",
       "\n",
       "    // limit handleAddOutput to display_data with EXEC_MIME_TYPE content only\n",
       "    if ((output.output_type != \"display_data\") || (!Object.prototype.hasOwnProperty.call(output.data, EXEC_MIME_TYPE))) {\n",
       "      return\n",
       "    }\n",
       "\n",
       "    const toinsert = output_area.element.find(\".\" + CLASS_NAME.split(' ')[0]);\n",
       "\n",
       "    if (output.metadata[EXEC_MIME_TYPE][\"id\"] !== undefined) {\n",
       "      toinsert[toinsert.length - 1].firstChild.textContent = output.data[JS_MIME_TYPE];\n",
       "      // store reference to embed id on output_area\n",
       "      output_area._bokeh_element_id = output.metadata[EXEC_MIME_TYPE][\"id\"];\n",
       "    }\n",
       "    if (output.metadata[EXEC_MIME_TYPE][\"server_id\"] !== undefined) {\n",
       "      const bk_div = document.createElement(\"div\");\n",
       "      bk_div.innerHTML = output.data[HTML_MIME_TYPE];\n",
       "      const script_attrs = bk_div.children[0].attributes;\n",
       "      for (let i = 0; i < script_attrs.length; i++) {\n",
       "        toinsert[toinsert.length - 1].firstChild.setAttribute(script_attrs[i].name, script_attrs[i].value);\n",
       "        toinsert[toinsert.length - 1].firstChild.textContent = bk_div.children[0].textContent\n",
       "      }\n",
       "      // store reference to server id on output_area\n",
       "      output_area._bokeh_server_id = output.metadata[EXEC_MIME_TYPE][\"server_id\"];\n",
       "    }\n",
       "  }\n",
       "\n",
       "  function register_renderer(events, OutputArea) {\n",
       "\n",
       "    function append_mime(data, metadata, element) {\n",
       "      // create a DOM node to render to\n",
       "      const toinsert = this.create_output_subarea(\n",
       "        metadata,\n",
       "        CLASS_NAME,\n",
       "        EXEC_MIME_TYPE\n",
       "      );\n",
       "      this.keyboard_manager.register_events(toinsert);\n",
       "      // Render to node\n",
       "      const props = {data: data, metadata: metadata[EXEC_MIME_TYPE]};\n",
       "      render(props, toinsert[toinsert.length - 1]);\n",
       "      element.append(toinsert);\n",
       "      return toinsert\n",
       "    }\n",
       "\n",
       "    /* Handle when an output is cleared or removed */\n",
       "    events.on('clear_output.CodeCell', handleClearOutput);\n",
       "    events.on('delete.Cell', handleClearOutput);\n",
       "\n",
       "    /* Handle when a new output is added */\n",
       "    events.on('output_added.OutputArea', handleAddOutput);\n",
       "\n",
       "    /**\n",
       "     * Register the mime type and append_mime function with output_area\n",
       "     */\n",
       "    OutputArea.prototype.register_mime_type(EXEC_MIME_TYPE, append_mime, {\n",
       "      /* Is output safe? */\n",
       "      safe: true,\n",
       "      /* Index of renderer in `output_area.display_order` */\n",
       "      index: 0\n",
       "    });\n",
       "  }\n",
       "\n",
       "  // register the mime type if in Jupyter Notebook environment and previously unregistered\n",
       "  if (root.Jupyter !== undefined) {\n",
       "    const events = require('base/js/events');\n",
       "    const OutputArea = require('notebook/js/outputarea').OutputArea;\n",
       "\n",
       "    if (OutputArea.prototype.mime_types().indexOf(EXEC_MIME_TYPE) == -1) {\n",
       "      register_renderer(events, OutputArea);\n",
       "    }\n",
       "  }\n",
       "  if (typeof (root._bokeh_timeout) === \"undefined\" || force === true) {\n",
       "    root._bokeh_timeout = Date.now() + 5000;\n",
       "    root._bokeh_failed_load = false;\n",
       "  }\n",
       "\n",
       "  const NB_LOAD_WARNING = {'data': {'text/html':\n",
       "     \"<div style='background-color: #fdd'>\\n\"+\n",
       "     \"<p>\\n\"+\n",
       "     \"BokehJS does not appear to have successfully loaded. If loading BokehJS from CDN, this \\n\"+\n",
       "     \"may be due to a slow or bad network connection. Possible fixes:\\n\"+\n",
       "     \"</p>\\n\"+\n",
       "     \"<ul>\\n\"+\n",
       "     \"<li>re-rerun `output_notebook()` to attempt to load from CDN again, or</li>\\n\"+\n",
       "     \"<li>use INLINE resources instead, as so:</li>\\n\"+\n",
       "     \"</ul>\\n\"+\n",
       "     \"<code>\\n\"+\n",
       "     \"from bokeh.resources import INLINE\\n\"+\n",
       "     \"output_notebook(resources=INLINE)\\n\"+\n",
       "     \"</code>\\n\"+\n",
       "     \"</div>\"}};\n",
       "\n",
       "  function display_loaded() {\n",
       "    const el = document.getElementById(\"1002\");\n",
       "    if (el != null) {\n",
       "      el.textContent = \"BokehJS is loading...\";\n",
       "    }\n",
       "    if (root.Bokeh !== undefined) {\n",
       "      if (el != null) {\n",
       "        el.textContent = \"BokehJS \" + root.Bokeh.version + \" successfully loaded.\";\n",
       "      }\n",
       "    } else if (Date.now() < root._bokeh_timeout) {\n",
       "      setTimeout(display_loaded, 100)\n",
       "    }\n",
       "  }\n",
       "\n",
       "  function run_callbacks() {\n",
       "    try {\n",
       "      root._bokeh_onload_callbacks.forEach(function(callback) {\n",
       "        if (callback != null)\n",
       "          callback();\n",
       "      });\n",
       "    } finally {\n",
       "      delete root._bokeh_onload_callbacks\n",
       "    }\n",
       "    console.debug(\"Bokeh: all callbacks have finished\");\n",
       "  }\n",
       "\n",
       "  function load_libs(css_urls, js_urls, callback) {\n",
       "    if (css_urls == null) css_urls = [];\n",
       "    if (js_urls == null) js_urls = [];\n",
       "\n",
       "    root._bokeh_onload_callbacks.push(callback);\n",
       "    if (root._bokeh_is_loading > 0) {\n",
       "      console.debug(\"Bokeh: BokehJS is being loaded, scheduling callback at\", now());\n",
       "      return null;\n",
       "    }\n",
       "    if (js_urls == null || js_urls.length === 0) {\n",
       "      run_callbacks();\n",
       "      return null;\n",
       "    }\n",
       "    console.debug(\"Bokeh: BokehJS not loaded, scheduling load and callback at\", now());\n",
       "    root._bokeh_is_loading = css_urls.length + js_urls.length;\n",
       "\n",
       "    function on_load() {\n",
       "      root._bokeh_is_loading--;\n",
       "      if (root._bokeh_is_loading === 0) {\n",
       "        console.debug(\"Bokeh: all BokehJS libraries/stylesheets loaded\");\n",
       "        run_callbacks()\n",
       "      }\n",
       "    }\n",
       "\n",
       "    function on_error(url) {\n",
       "      console.error(\"failed to load \" + url);\n",
       "    }\n",
       "\n",
       "    for (let i = 0; i < css_urls.length; i++) {\n",
       "      const url = css_urls[i];\n",
       "      const element = document.createElement(\"link\");\n",
       "      element.onload = on_load;\n",
       "      element.onerror = on_error.bind(null, url);\n",
       "      element.rel = \"stylesheet\";\n",
       "      element.type = \"text/css\";\n",
       "      element.href = url;\n",
       "      console.debug(\"Bokeh: injecting link tag for BokehJS stylesheet: \", url);\n",
       "      document.body.appendChild(element);\n",
       "    }\n",
       "\n",
       "    for (let i = 0; i < js_urls.length; i++) {\n",
       "      const url = js_urls[i];\n",
       "      const element = document.createElement('script');\n",
       "      element.onload = on_load;\n",
       "      element.onerror = on_error.bind(null, url);\n",
       "      element.async = false;\n",
       "      element.src = url;\n",
       "      console.debug(\"Bokeh: injecting script tag for BokehJS library: \", url);\n",
       "      document.head.appendChild(element);\n",
       "    }\n",
       "  };\n",
       "\n",
       "  function inject_raw_css(css) {\n",
       "    const element = document.createElement(\"style\");\n",
       "    element.appendChild(document.createTextNode(css));\n",
       "    document.body.appendChild(element);\n",
       "  }\n",
       "\n",
       "  const js_urls = [\"https://cdn.bokeh.org/bokeh/release/bokeh-2.4.3.min.js\", \"https://cdn.bokeh.org/bokeh/release/bokeh-gl-2.4.3.min.js\", \"https://cdn.bokeh.org/bokeh/release/bokeh-widgets-2.4.3.min.js\", \"https://cdn.bokeh.org/bokeh/release/bokeh-tables-2.4.3.min.js\", \"https://cdn.bokeh.org/bokeh/release/bokeh-mathjax-2.4.3.min.js\"];\n",
       "  const css_urls = [];\n",
       "\n",
       "  const inline_js = [    function(Bokeh) {\n",
       "      Bokeh.set_log_level(\"info\");\n",
       "    },\n",
       "function(Bokeh) {\n",
       "    }\n",
       "  ];\n",
       "\n",
       "  function run_inline_js() {\n",
       "    if (root.Bokeh !== undefined || force === true) {\n",
       "          for (let i = 0; i < inline_js.length; i++) {\n",
       "      inline_js[i].call(root, root.Bokeh);\n",
       "    }\n",
       "if (force === true) {\n",
       "        display_loaded();\n",
       "      }} else if (Date.now() < root._bokeh_timeout) {\n",
       "      setTimeout(run_inline_js, 100);\n",
       "    } else if (!root._bokeh_failed_load) {\n",
       "      console.log(\"Bokeh: BokehJS failed to load within specified timeout.\");\n",
       "      root._bokeh_failed_load = true;\n",
       "    } else if (force !== true) {\n",
       "      const cell = $(document.getElementById(\"1002\")).parents('.cell').data().cell;\n",
       "      cell.output_area.append_execute_result(NB_LOAD_WARNING)\n",
       "    }\n",
       "  }\n",
       "\n",
       "  if (root._bokeh_is_loading === 0) {\n",
       "    console.debug(\"Bokeh: BokehJS loaded, going straight to plotting\");\n",
       "    run_inline_js();\n",
       "  } else {\n",
       "    load_libs(css_urls, js_urls, function() {\n",
       "      console.debug(\"Bokeh: BokehJS plotting callback run at\", now());\n",
       "      run_inline_js();\n",
       "    });\n",
       "  }\n",
       "}(window));"
      ],
      "application/vnd.bokehjs_load.v0+json": "(function(root) {\n  function now() {\n    return new Date();\n  }\n\n  const force = true;\n\n  if (typeof root._bokeh_onload_callbacks === \"undefined\" || force === true) {\n    root._bokeh_onload_callbacks = [];\n    root._bokeh_is_loading = undefined;\n  }\n\n\n  if (typeof (root._bokeh_timeout) === \"undefined\" || force === true) {\n    root._bokeh_timeout = Date.now() + 5000;\n    root._bokeh_failed_load = false;\n  }\n\n  const NB_LOAD_WARNING = {'data': {'text/html':\n     \"<div style='background-color: #fdd'>\\n\"+\n     \"<p>\\n\"+\n     \"BokehJS does not appear to have successfully loaded. If loading BokehJS from CDN, this \\n\"+\n     \"may be due to a slow or bad network connection. Possible fixes:\\n\"+\n     \"</p>\\n\"+\n     \"<ul>\\n\"+\n     \"<li>re-rerun `output_notebook()` to attempt to load from CDN again, or</li>\\n\"+\n     \"<li>use INLINE resources instead, as so:</li>\\n\"+\n     \"</ul>\\n\"+\n     \"<code>\\n\"+\n     \"from bokeh.resources import INLINE\\n\"+\n     \"output_notebook(resources=INLINE)\\n\"+\n     \"</code>\\n\"+\n     \"</div>\"}};\n\n  function display_loaded() {\n    const el = document.getElementById(\"1002\");\n    if (el != null) {\n      el.textContent = \"BokehJS is loading...\";\n    }\n    if (root.Bokeh !== undefined) {\n      if (el != null) {\n        el.textContent = \"BokehJS \" + root.Bokeh.version + \" successfully loaded.\";\n      }\n    } else if (Date.now() < root._bokeh_timeout) {\n      setTimeout(display_loaded, 100)\n    }\n  }\n\n  function run_callbacks() {\n    try {\n      root._bokeh_onload_callbacks.forEach(function(callback) {\n        if (callback != null)\n          callback();\n      });\n    } finally {\n      delete root._bokeh_onload_callbacks\n    }\n    console.debug(\"Bokeh: all callbacks have finished\");\n  }\n\n  function load_libs(css_urls, js_urls, callback) {\n    if (css_urls == null) css_urls = [];\n    if (js_urls == null) js_urls = [];\n\n    root._bokeh_onload_callbacks.push(callback);\n    if (root._bokeh_is_loading > 0) {\n      console.debug(\"Bokeh: BokehJS is being loaded, scheduling callback at\", now());\n      return null;\n    }\n    if (js_urls == null || js_urls.length === 0) {\n      run_callbacks();\n      return null;\n    }\n    console.debug(\"Bokeh: BokehJS not loaded, scheduling load and callback at\", now());\n    root._bokeh_is_loading = css_urls.length + js_urls.length;\n\n    function on_load() {\n      root._bokeh_is_loading--;\n      if (root._bokeh_is_loading === 0) {\n        console.debug(\"Bokeh: all BokehJS libraries/stylesheets loaded\");\n        run_callbacks()\n      }\n    }\n\n    function on_error(url) {\n      console.error(\"failed to load \" + url);\n    }\n\n    for (let i = 0; i < css_urls.length; i++) {\n      const url = css_urls[i];\n      const element = document.createElement(\"link\");\n      element.onload = on_load;\n      element.onerror = on_error.bind(null, url);\n      element.rel = \"stylesheet\";\n      element.type = \"text/css\";\n      element.href = url;\n      console.debug(\"Bokeh: injecting link tag for BokehJS stylesheet: \", url);\n      document.body.appendChild(element);\n    }\n\n    for (let i = 0; i < js_urls.length; i++) {\n      const url = js_urls[i];\n      const element = document.createElement('script');\n      element.onload = on_load;\n      element.onerror = on_error.bind(null, url);\n      element.async = false;\n      element.src = url;\n      console.debug(\"Bokeh: injecting script tag for BokehJS library: \", url);\n      document.head.appendChild(element);\n    }\n  };\n\n  function inject_raw_css(css) {\n    const element = document.createElement(\"style\");\n    element.appendChild(document.createTextNode(css));\n    document.body.appendChild(element);\n  }\n\n  const js_urls = [\"https://cdn.bokeh.org/bokeh/release/bokeh-2.4.3.min.js\", \"https://cdn.bokeh.org/bokeh/release/bokeh-gl-2.4.3.min.js\", \"https://cdn.bokeh.org/bokeh/release/bokeh-widgets-2.4.3.min.js\", \"https://cdn.bokeh.org/bokeh/release/bokeh-tables-2.4.3.min.js\", \"https://cdn.bokeh.org/bokeh/release/bokeh-mathjax-2.4.3.min.js\"];\n  const css_urls = [];\n\n  const inline_js = [    function(Bokeh) {\n      Bokeh.set_log_level(\"info\");\n    },\nfunction(Bokeh) {\n    }\n  ];\n\n  function run_inline_js() {\n    if (root.Bokeh !== undefined || force === true) {\n          for (let i = 0; i < inline_js.length; i++) {\n      inline_js[i].call(root, root.Bokeh);\n    }\nif (force === true) {\n        display_loaded();\n      }} else if (Date.now() < root._bokeh_timeout) {\n      setTimeout(run_inline_js, 100);\n    } else if (!root._bokeh_failed_load) {\n      console.log(\"Bokeh: BokehJS failed to load within specified timeout.\");\n      root._bokeh_failed_load = true;\n    } else if (force !== true) {\n      const cell = $(document.getElementById(\"1002\")).parents('.cell').data().cell;\n      cell.output_area.append_execute_result(NB_LOAD_WARNING)\n    }\n  }\n\n  if (root._bokeh_is_loading === 0) {\n    console.debug(\"Bokeh: BokehJS loaded, going straight to plotting\");\n    run_inline_js();\n  } else {\n    load_libs(css_urls, js_urls, function() {\n      console.debug(\"Bokeh: BokehJS plotting callback run at\", now());\n      run_inline_js();\n    });\n  }\n}(window));"
     },
     "metadata": {},
     "output_type": "display_data"
    }
   ],
   "source": [
    "from bokeh.plotting import figure, reset_output, output_notebook, output_file, save, show, row, column\n",
    "from bokeh.models import HoverTool\n",
    "\n",
    "from bokeh.transform import factor_cmap, factor_mark\n",
    "from bokeh.palettes import Spectral, Dark2, Pastel1, Paired\n",
    "\n",
    "from bokeh.transform import factor_cmap, factor_mark\n",
    "\n",
    "from bokeh.layouts import gridplot\n",
    "from bokeh.models import ColumnDataSource\n",
    "\n",
    "\n",
    "import pandas as pd\n",
    "\n",
    "# Make sure outputs are only shown within notebook\n",
    "reset_output()\n",
    "output_notebook()"
   ]
  },
  {
   "cell_type": "markdown",
   "metadata": {},
   "source": [
    "## Building Blocks: Glyphs<a id='glyphs'></a>\n",
    "[[back to top]](#top)\n",
    "\n",
    "\n",
    "[Glyphs](https://docs.bokeh.org/en/2.4.1/docs/user_guide/plotting.html) are the building blocks for Bokeh plots. They are vectorised graphical shapes or markers that represent the data. Glyphs can be categories as follows:\n",
    "\n",
    "- **Markers**: Circles, diamonds, triangles, and squares, for example used in scatter plots.\n",
    "\n",
    "- **Line**: Single lines and multi-line shapes, for example used in line charts.\n",
    "\n",
    "- **Bar / rectangle**: Rectuangual shapes, for examples used in bar charts.\n"
   ]
  },
  {
   "cell_type": "markdown",
   "metadata": {},
   "source": [
    "### Marker examples <a id='marker'></a>\n",
    "[[back to top]](#top)\n",
    "\n",
    "\n",
    "Squares and cirles are the most common examples of Bokeh markers, but there are many other shapes. You can find a complete list [here](https://docs.bokeh.org/en/latest/docs/examples/basic/scatters/markers.html#index-0).\n",
    "\n",
    "Markers are most frequetly used for scatter plots. You can find more information and examples about Bokeh scatter plots [here](https://docs.bokeh.org/en/latest/docs/user_guide/basic/scatters.html#)."
   ]
  },
  {
   "cell_type": "markdown",
   "metadata": {},
   "source": [
    "##### Squares"
   ]
  },
  {
   "cell_type": "code",
   "execution_count": 2,
   "metadata": {},
   "outputs": [
    {
     "name": "stderr",
     "output_type": "stream",
     "text": [
      "BokehUserWarning: ColumnDataSource's columns must be of the same length. Current lengths: ('x', 16), ('y', 15)\n"
     ]
    },
    {
     "data": {
      "text/html": [
       "\n",
       "  <div class=\"bk-root\" id=\"f74530fd-cd0c-41d1-89b5-067277ca4d4b\" data-root-id=\"1003\"></div>\n"
      ]
     },
     "metadata": {},
     "output_type": "display_data"
    },
    {
     "data": {
      "application/javascript": [
       "(function(root) {\n",
       "  function embed_document(root) {\n",
       "  const docs_json = {\"3643a906-2cd0-4663-bd13-29c3e2e2380e\":{\"defs\":[],\"roots\":{\"references\":[{\"attributes\":{\"below\":[{\"id\":\"1012\"}],\"center\":[{\"id\":\"1015\"},{\"id\":\"1019\"}],\"height\":400,\"left\":[{\"id\":\"1016\"}],\"renderers\":[{\"id\":\"1038\"}],\"title\":{\"id\":\"1040\"},\"toolbar\":{\"id\":\"1027\"},\"width\":400,\"x_range\":{\"id\":\"1004\"},\"x_scale\":{\"id\":\"1008\"},\"y_range\":{\"id\":\"1006\"},\"y_scale\":{\"id\":\"1010\"}},\"id\":\"1003\",\"subtype\":\"Figure\",\"type\":\"Plot\"},{\"attributes\":{},\"id\":\"1044\",\"type\":\"AllLabels\"},{\"attributes\":{\"coordinates\":null,\"group\":null},\"id\":\"1040\",\"type\":\"Title\"},{\"attributes\":{},\"id\":\"1047\",\"type\":\"AllLabels\"},{\"attributes\":{},\"id\":\"1017\",\"type\":\"BasicTicker\"},{\"attributes\":{\"angle\":{\"value\":-0.7},\"fill_alpha\":{\"value\":0.1},\"fill_color\":{\"value\":\"purple\"},\"hatch_alpha\":{\"value\":0.1},\"hatch_color\":{\"value\":\"purple\"},\"line_alpha\":{\"value\":0.1},\"line_color\":{\"value\":\"purple\"},\"marker\":{\"value\":\"square\"},\"size\":{\"value\":5},\"x\":{\"field\":\"x\"},\"y\":{\"field\":\"y\"}},\"id\":\"1036\",\"type\":\"Scatter\"},{\"attributes\":{\"axis\":{\"id\":\"1016\"},\"coordinates\":null,\"dimension\":1,\"group\":null,\"ticker\":null},\"id\":\"1019\",\"type\":\"Grid\"},{\"attributes\":{},\"id\":\"1049\",\"type\":\"Selection\"},{\"attributes\":{},\"id\":\"1048\",\"type\":\"UnionRenderers\"},{\"attributes\":{},\"id\":\"1025\",\"type\":\"HelpTool\"},{\"attributes\":{},\"id\":\"1021\",\"type\":\"WheelZoomTool\"},{\"attributes\":{\"coordinates\":null,\"data_source\":{\"id\":\"1034\"},\"glyph\":{\"id\":\"1035\"},\"group\":null,\"hover_glyph\":null,\"muted_glyph\":{\"id\":\"1037\"},\"nonselection_glyph\":{\"id\":\"1036\"},\"view\":{\"id\":\"1039\"}},\"id\":\"1038\",\"type\":\"GlyphRenderer\"},{\"attributes\":{\"tools\":[{\"id\":\"1020\"},{\"id\":\"1021\"},{\"id\":\"1022\"},{\"id\":\"1023\"},{\"id\":\"1024\"},{\"id\":\"1025\"}]},\"id\":\"1027\",\"type\":\"Toolbar\"},{\"attributes\":{},\"id\":\"1046\",\"type\":\"BasicTickFormatter\"},{\"attributes\":{\"angle\":{\"value\":-0.7},\"fill_alpha\":{\"value\":0.2},\"fill_color\":{\"value\":\"purple\"},\"hatch_alpha\":{\"value\":0.2},\"hatch_color\":{\"value\":\"purple\"},\"line_alpha\":{\"value\":0.2},\"line_color\":{\"value\":\"purple\"},\"marker\":{\"value\":\"square\"},\"size\":{\"value\":5},\"x\":{\"field\":\"x\"},\"y\":{\"field\":\"y\"}},\"id\":\"1037\",\"type\":\"Scatter\"},{\"attributes\":{\"axis\":{\"id\":\"1012\"},\"coordinates\":null,\"group\":null,\"ticker\":null},\"id\":\"1015\",\"type\":\"Grid\"},{\"attributes\":{\"angle\":{\"value\":-0.7},\"fill_color\":{\"value\":\"purple\"},\"hatch_color\":{\"value\":\"purple\"},\"line_color\":{\"value\":\"purple\"},\"marker\":{\"value\":\"square\"},\"size\":{\"value\":5},\"x\":{\"field\":\"x\"},\"y\":{\"field\":\"y\"}},\"id\":\"1035\",\"type\":\"Scatter\"},{\"attributes\":{\"bottom_units\":\"screen\",\"coordinates\":null,\"fill_alpha\":0.5,\"fill_color\":\"lightgrey\",\"group\":null,\"left_units\":\"screen\",\"level\":\"overlay\",\"line_alpha\":1.0,\"line_color\":\"black\",\"line_dash\":[4,4],\"line_width\":2,\"right_units\":\"screen\",\"syncable\":false,\"top_units\":\"screen\"},\"id\":\"1026\",\"type\":\"BoxAnnotation\"},{\"attributes\":{\"data\":{\"x\":[2,3,4,3,4,3.5,5,4.5,2.5,2.5,3.5,2.5,3,3.5,4,4.5],\"y\":[15,16,17,15,15,15,15,15,15,15.5,16.5,14.5,14,13.5,13]},\"selected\":{\"id\":\"1049\"},\"selection_policy\":{\"id\":\"1048\"}},\"id\":\"1034\",\"type\":\"ColumnDataSource\"},{\"attributes\":{\"coordinates\":null,\"formatter\":{\"id\":\"1046\"},\"group\":null,\"major_label_policy\":{\"id\":\"1047\"},\"ticker\":{\"id\":\"1013\"}},\"id\":\"1012\",\"type\":\"LinearAxis\"},{\"attributes\":{},\"id\":\"1013\",\"type\":\"BasicTicker\"},{\"attributes\":{},\"id\":\"1004\",\"type\":\"DataRange1d\"},{\"attributes\":{},\"id\":\"1008\",\"type\":\"LinearScale\"},{\"attributes\":{\"source\":{\"id\":\"1034\"}},\"id\":\"1039\",\"type\":\"CDSView\"},{\"attributes\":{\"coordinates\":null,\"formatter\":{\"id\":\"1043\"},\"group\":null,\"major_label_policy\":{\"id\":\"1044\"},\"ticker\":{\"id\":\"1017\"}},\"id\":\"1016\",\"type\":\"LinearAxis\"},{\"attributes\":{},\"id\":\"1024\",\"type\":\"ResetTool\"},{\"attributes\":{},\"id\":\"1023\",\"type\":\"SaveTool\"},{\"attributes\":{},\"id\":\"1043\",\"type\":\"BasicTickFormatter\"},{\"attributes\":{},\"id\":\"1010\",\"type\":\"LinearScale\"},{\"attributes\":{\"overlay\":{\"id\":\"1026\"}},\"id\":\"1022\",\"type\":\"BoxZoomTool\"},{\"attributes\":{},\"id\":\"1020\",\"type\":\"PanTool\"},{\"attributes\":{},\"id\":\"1006\",\"type\":\"DataRange1d\"}],\"root_ids\":[\"1003\"]},\"title\":\"Bokeh Application\",\"version\":\"2.4.3\"}};\n",
       "  const render_items = [{\"docid\":\"3643a906-2cd0-4663-bd13-29c3e2e2380e\",\"root_ids\":[\"1003\"],\"roots\":{\"1003\":\"f74530fd-cd0c-41d1-89b5-067277ca4d4b\"}}];\n",
       "  root.Bokeh.embed.embed_items_notebook(docs_json, render_items);\n",
       "  }\n",
       "  if (root.Bokeh !== undefined) {\n",
       "    embed_document(root);\n",
       "  } else {\n",
       "    let attempts = 0;\n",
       "    const timer = setInterval(function(root) {\n",
       "      if (root.Bokeh !== undefined) {\n",
       "        clearInterval(timer);\n",
       "        embed_document(root);\n",
       "      } else {\n",
       "        attempts++;\n",
       "        if (attempts > 100) {\n",
       "          clearInterval(timer);\n",
       "          console.log(\"Bokeh: ERROR: Unable to run BokehJS code because BokehJS library is missing\");\n",
       "        }\n",
       "      }\n",
       "    }, 10, root)\n",
       "  }\n",
       "})(window);"
      ],
      "application/vnd.bokehjs_exec.v0+json": ""
     },
     "metadata": {
      "application/vnd.bokehjs_exec.v0+json": {
       "id": "1003"
      }
     },
     "output_type": "display_data"
    }
   ],
   "source": [
    "p = figure(plot_width=400, plot_height=400)\n",
    "\n",
    "p.square([2, 3, 4, 3, 4, 3.5, 5, 4.5, 2.5, 2.5, 3.5, 2.5, 3, 3.5, 4, 4.5], \n",
    "         [15, 16, 17, 15, 15, 15, 15, 15, 15, 15.5, 16.5, 14.5, 14, 13.5, 13], \n",
    "         color='purple', \n",
    "         size=5, \n",
    "         angle=-0.7)\n",
    "\n",
    "show(p)"
   ]
  },
  {
   "cell_type": "markdown",
   "metadata": {},
   "source": [
    "##### Circles and ellipses"
   ]
  },
  {
   "cell_type": "code",
   "execution_count": 3,
   "metadata": {
    "scrolled": true
   },
   "outputs": [
    {
     "data": {
      "text/html": [
       "\n",
       "  <div class=\"bk-root\" id=\"847fbd1b-6462-46c8-a629-bb2ad7e1adc5\" data-root-id=\"1184\"></div>\n"
      ]
     },
     "metadata": {},
     "output_type": "display_data"
    },
    {
     "data": {
      "application/javascript": [
       "(function(root) {\n",
       "  function embed_document(root) {\n",
       "  const docs_json = {\"a75e19ae-97c6-4dbf-9c1b-764e3096d1be\":{\"defs\":[],\"roots\":{\"references\":[{\"attributes\":{\"children\":[{\"id\":\"1106\"},{\"id\":\"1137\"}]},\"id\":\"1184\",\"type\":\"Row\"},{\"attributes\":{},\"id\":\"1140\",\"type\":\"LinearScale\"},{\"attributes\":{\"data\":{\"x\":[7],\"y\":[19]},\"selected\":{\"id\":\"1215\"},\"selection_policy\":{\"id\":\"1214\"}},\"id\":\"1172\",\"type\":\"ColumnDataSource\"},{\"attributes\":{},\"id\":\"1107\",\"type\":\"DataRange1d\"},{\"attributes\":{\"coordinates\":null,\"group\":null},\"id\":\"1198\",\"type\":\"Title\"},{\"attributes\":{},\"id\":\"1152\",\"type\":\"PanTool\"},{\"attributes\":{\"coordinates\":null,\"data_source\":{\"id\":\"1166\"},\"glyph\":{\"id\":\"1167\"},\"group\":null,\"hover_glyph\":null,\"muted_glyph\":{\"id\":\"1169\"},\"nonselection_glyph\":{\"id\":\"1168\"},\"view\":{\"id\":\"1171\"}},\"id\":\"1170\",\"type\":\"GlyphRenderer\"},{\"attributes\":{\"overlay\":{\"id\":\"1158\"}},\"id\":\"1154\",\"type\":\"BoxZoomTool\"},{\"attributes\":{},\"id\":\"1127\",\"type\":\"ResetTool\"},{\"attributes\":{},\"id\":\"1124\",\"type\":\"WheelZoomTool\"},{\"attributes\":{},\"id\":\"1155\",\"type\":\"SaveTool\"},{\"attributes\":{},\"id\":\"1128\",\"type\":\"HelpTool\"},{\"attributes\":{\"source\":{\"id\":\"1178\"}},\"id\":\"1183\",\"type\":\"CDSView\"},{\"attributes\":{},\"id\":\"1116\",\"type\":\"BasicTicker\"},{\"attributes\":{\"fill_alpha\":{\"value\":0.1},\"fill_color\":{\"value\":\"orange\"},\"hatch_alpha\":{\"value\":0.1},\"height\":{\"value\":6},\"line_alpha\":{\"value\":0.1},\"line_dash\":{\"value\":\"dashed\"},\"line_width\":{\"value\":3},\"width\":{\"value\":5},\"x\":{\"field\":\"x\"},\"y\":{\"field\":\"y\"}},\"id\":\"1180\",\"type\":\"Ellipse\"},{\"attributes\":{},\"id\":\"1120\",\"type\":\"BasicTicker\"},{\"attributes\":{\"source\":{\"id\":\"1166\"}},\"id\":\"1171\",\"type\":\"CDSView\"},{\"attributes\":{},\"id\":\"1123\",\"type\":\"PanTool\"},{\"attributes\":{\"axis\":{\"id\":\"1115\"},\"coordinates\":null,\"group\":null,\"ticker\":null},\"id\":\"1118\",\"type\":\"Grid\"},{\"attributes\":{\"coordinates\":null,\"data_source\":{\"id\":\"1172\"},\"glyph\":{\"id\":\"1173\"},\"group\":null,\"hover_glyph\":null,\"muted_glyph\":{\"id\":\"1175\"},\"nonselection_glyph\":{\"id\":\"1174\"},\"view\":{\"id\":\"1177\"}},\"id\":\"1176\",\"type\":\"GlyphRenderer\"},{\"attributes\":{},\"id\":\"1217\",\"type\":\"UnionRenderers\"},{\"attributes\":{\"coordinates\":null,\"formatter\":{\"id\":\"1210\"},\"group\":null,\"major_label_policy\":{\"id\":\"1211\"},\"ticker\":{\"id\":\"1145\"}},\"id\":\"1144\",\"type\":\"LinearAxis\"},{\"attributes\":{\"coordinates\":null,\"group\":null},\"id\":\"1196\",\"type\":\"Title\"},{\"attributes\":{\"coordinates\":null,\"formatter\":{\"id\":\"1207\"},\"group\":null,\"major_label_policy\":{\"id\":\"1208\"},\"ticker\":{\"id\":\"1149\"}},\"id\":\"1148\",\"type\":\"LinearAxis\"},{\"attributes\":{\"coordinates\":null,\"formatter\":{\"id\":\"1201\"},\"group\":null,\"major_label_policy\":{\"id\":\"1202\"},\"ticker\":{\"id\":\"1120\"}},\"id\":\"1119\",\"type\":\"LinearAxis\"},{\"attributes\":{},\"id\":\"1218\",\"type\":\"Selection\"},{\"attributes\":{},\"id\":\"1111\",\"type\":\"LinearScale\"},{\"attributes\":{\"data\":{\"x\":[4],\"y\":[3]},\"selected\":{\"id\":\"1218\"},\"selection_policy\":{\"id\":\"1217\"}},\"id\":\"1178\",\"type\":\"ColumnDataSource\"},{\"attributes\":{},\"id\":\"1214\",\"type\":\"UnionRenderers\"},{\"attributes\":{},\"id\":\"1207\",\"type\":\"BasicTickFormatter\"},{\"attributes\":{\"fill_alpha\":{\"value\":0.2},\"fill_color\":{\"value\":\"orange\"},\"hatch_alpha\":{\"value\":0.2},\"height\":{\"value\":6},\"line_alpha\":{\"value\":0.2},\"line_dash\":{\"value\":\"dashed\"},\"line_width\":{\"value\":3},\"width\":{\"value\":5},\"x\":{\"field\":\"x\"},\"y\":{\"field\":\"y\"}},\"id\":\"1181\",\"type\":\"Ellipse\"},{\"attributes\":{\"axis\":{\"id\":\"1119\"},\"coordinates\":null,\"dimension\":1,\"group\":null,\"ticker\":null},\"id\":\"1122\",\"type\":\"Grid\"},{\"attributes\":{},\"id\":\"1215\",\"type\":\"Selection\"},{\"attributes\":{\"fill_alpha\":{\"value\":0.2},\"fill_color\":{\"value\":\"white\"},\"hatch_alpha\":{\"value\":0.2},\"hatch_color\":{\"value\":\"blue\"},\"line_alpha\":{\"value\":0.2},\"line_color\":{\"value\":\"blue\"},\"line_width\":{\"value\":3},\"x\":{\"field\":\"x\"},\"y\":{\"field\":\"y\"}},\"id\":\"1175\",\"type\":\"Circle\"},{\"attributes\":{\"fill_alpha\":{\"value\":0.2},\"fill_color\":{\"value\":\"white\"},\"hatch_alpha\":{\"value\":0.2},\"hatch_color\":{\"value\":\"blue\"},\"line_alpha\":{\"value\":0.2},\"line_color\":{\"value\":\"blue\"},\"line_width\":{\"value\":3},\"size\":{\"value\":14},\"x\":{\"field\":\"x\"},\"y\":{\"field\":\"y\"}},\"id\":\"1169\",\"type\":\"Circle\"},{\"attributes\":{},\"id\":\"1113\",\"type\":\"LinearScale\"},{\"attributes\":{},\"id\":\"1109\",\"type\":\"DataRange1d\"},{\"attributes\":{},\"id\":\"1208\",\"type\":\"AllLabels\"},{\"attributes\":{\"bottom_units\":\"screen\",\"coordinates\":null,\"fill_alpha\":0.5,\"fill_color\":\"lightgrey\",\"group\":null,\"left_units\":\"screen\",\"level\":\"overlay\",\"line_alpha\":1.0,\"line_color\":\"black\",\"line_dash\":[4,4],\"line_width\":2,\"right_units\":\"screen\",\"syncable\":false,\"top_units\":\"screen\"},\"id\":\"1158\",\"type\":\"BoxAnnotation\"},{\"attributes\":{\"fill_alpha\":{\"value\":0.1},\"fill_color\":{\"value\":\"white\"},\"hatch_alpha\":{\"value\":0.1},\"hatch_color\":{\"value\":\"blue\"},\"line_alpha\":{\"value\":0.1},\"line_color\":{\"value\":\"blue\"},\"line_width\":{\"value\":3},\"size\":{\"value\":14},\"x\":{\"field\":\"x\"},\"y\":{\"field\":\"y\"}},\"id\":\"1168\",\"type\":\"Circle\"},{\"attributes\":{\"axis\":{\"id\":\"1148\"},\"coordinates\":null,\"dimension\":1,\"group\":null,\"ticker\":null},\"id\":\"1151\",\"type\":\"Grid\"},{\"attributes\":{\"fill_alpha\":{\"value\":0.1},\"fill_color\":{\"value\":\"white\"},\"hatch_alpha\":{\"value\":0.1},\"hatch_color\":{\"value\":\"blue\"},\"line_alpha\":{\"value\":0.1},\"line_color\":{\"value\":\"blue\"},\"line_width\":{\"value\":3},\"x\":{\"field\":\"x\"},\"y\":{\"field\":\"y\"}},\"id\":\"1174\",\"type\":\"Circle\"},{\"attributes\":{},\"id\":\"1149\",\"type\":\"BasicTicker\"},{\"attributes\":{\"source\":{\"id\":\"1172\"}},\"id\":\"1177\",\"type\":\"CDSView\"},{\"attributes\":{\"below\":[{\"id\":\"1115\"}],\"center\":[{\"id\":\"1118\"},{\"id\":\"1122\"}],\"height\":400,\"left\":[{\"id\":\"1119\"}],\"renderers\":[{\"id\":\"1170\"},{\"id\":\"1176\"}],\"title\":{\"id\":\"1196\"},\"toolbar\":{\"id\":\"1130\"},\"width\":400,\"x_range\":{\"id\":\"1107\"},\"x_scale\":{\"id\":\"1111\"},\"y_range\":{\"id\":\"1109\"},\"y_scale\":{\"id\":\"1113\"}},\"id\":\"1106\",\"subtype\":\"Figure\",\"type\":\"Plot\"},{\"attributes\":{},\"id\":\"1201\",\"type\":\"BasicTickFormatter\"},{\"attributes\":{},\"id\":\"1210\",\"type\":\"BasicTickFormatter\"},{\"attributes\":{\"overlay\":{\"id\":\"1129\"}},\"id\":\"1125\",\"type\":\"BoxZoomTool\"},{\"attributes\":{\"coordinates\":null,\"data_source\":{\"id\":\"1178\"},\"glyph\":{\"id\":\"1179\"},\"group\":null,\"hover_glyph\":null,\"muted_glyph\":{\"id\":\"1181\"},\"nonselection_glyph\":{\"id\":\"1180\"},\"view\":{\"id\":\"1183\"}},\"id\":\"1182\",\"type\":\"GlyphRenderer\"},{\"attributes\":{},\"id\":\"1157\",\"type\":\"HelpTool\"},{\"attributes\":{\"fill_color\":{\"value\":\"white\"},\"hatch_color\":{\"value\":\"blue\"},\"line_color\":{\"value\":\"blue\"},\"line_width\":{\"value\":3},\"size\":{\"value\":14},\"x\":{\"field\":\"x\"},\"y\":{\"field\":\"y\"}},\"id\":\"1167\",\"type\":\"Circle\"},{\"attributes\":{},\"id\":\"1126\",\"type\":\"SaveTool\"},{\"attributes\":{},\"id\":\"1211\",\"type\":\"AllLabels\"},{\"attributes\":{},\"id\":\"1202\",\"type\":\"AllLabels\"},{\"attributes\":{},\"id\":\"1156\",\"type\":\"ResetTool\"},{\"attributes\":{\"below\":[{\"id\":\"1144\"}],\"center\":[{\"id\":\"1147\"},{\"id\":\"1151\"}],\"height\":400,\"left\":[{\"id\":\"1148\"}],\"renderers\":[{\"id\":\"1182\"}],\"title\":{\"id\":\"1198\"},\"toolbar\":{\"id\":\"1159\"},\"width\":400,\"x_range\":{\"id\":\"1107\"},\"x_scale\":{\"id\":\"1140\"},\"y_range\":{\"id\":\"1109\"},\"y_scale\":{\"id\":\"1142\"}},\"id\":\"1137\",\"subtype\":\"Figure\",\"type\":\"Plot\"},{\"attributes\":{\"fill_color\":{\"value\":\"orange\"},\"height\":{\"value\":6},\"line_dash\":{\"value\":\"dashed\"},\"line_width\":{\"value\":3},\"width\":{\"value\":5},\"x\":{\"field\":\"x\"},\"y\":{\"field\":\"y\"}},\"id\":\"1179\",\"type\":\"Ellipse\"},{\"attributes\":{},\"id\":\"1213\",\"type\":\"Selection\"},{\"attributes\":{\"tools\":[{\"id\":\"1152\"},{\"id\":\"1153\"},{\"id\":\"1154\"},{\"id\":\"1155\"},{\"id\":\"1156\"},{\"id\":\"1157\"}]},\"id\":\"1159\",\"type\":\"Toolbar\"},{\"attributes\":{},\"id\":\"1204\",\"type\":\"BasicTickFormatter\"},{\"attributes\":{\"axis\":{\"id\":\"1144\"},\"coordinates\":null,\"group\":null,\"ticker\":null},\"id\":\"1147\",\"type\":\"Grid\"},{\"attributes\":{},\"id\":\"1205\",\"type\":\"AllLabels\"},{\"attributes\":{},\"id\":\"1153\",\"type\":\"WheelZoomTool\"},{\"attributes\":{\"fill_color\":{\"value\":\"white\"},\"hatch_color\":{\"value\":\"blue\"},\"line_color\":{\"value\":\"blue\"},\"line_width\":{\"value\":3},\"x\":{\"field\":\"x\"},\"y\":{\"field\":\"y\"}},\"id\":\"1173\",\"type\":\"Circle\"},{\"attributes\":{\"tools\":[{\"id\":\"1123\"},{\"id\":\"1124\"},{\"id\":\"1125\"},{\"id\":\"1126\"},{\"id\":\"1127\"},{\"id\":\"1128\"}]},\"id\":\"1130\",\"type\":\"Toolbar\"},{\"attributes\":{},\"id\":\"1212\",\"type\":\"UnionRenderers\"},{\"attributes\":{\"bottom_units\":\"screen\",\"coordinates\":null,\"fill_alpha\":0.5,\"fill_color\":\"lightgrey\",\"group\":null,\"left_units\":\"screen\",\"level\":\"overlay\",\"line_alpha\":1.0,\"line_color\":\"black\",\"line_dash\":[4,4],\"line_width\":2,\"right_units\":\"screen\",\"syncable\":false,\"top_units\":\"screen\"},\"id\":\"1129\",\"type\":\"BoxAnnotation\"},{\"attributes\":{},\"id\":\"1145\",\"type\":\"BasicTicker\"},{\"attributes\":{\"coordinates\":null,\"formatter\":{\"id\":\"1204\"},\"group\":null,\"major_label_policy\":{\"id\":\"1205\"},\"ticker\":{\"id\":\"1116\"}},\"id\":\"1115\",\"type\":\"LinearAxis\"},{\"attributes\":{\"data\":{\"x\":[7],\"y\":[19]},\"selected\":{\"id\":\"1213\"},\"selection_policy\":{\"id\":\"1212\"}},\"id\":\"1166\",\"type\":\"ColumnDataSource\"},{\"attributes\":{},\"id\":\"1142\",\"type\":\"LinearScale\"}],\"root_ids\":[\"1184\"]},\"title\":\"Bokeh Application\",\"version\":\"2.4.3\"}};\n",
       "  const render_items = [{\"docid\":\"a75e19ae-97c6-4dbf-9c1b-764e3096d1be\",\"root_ids\":[\"1184\"],\"roots\":{\"1184\":\"847fbd1b-6462-46c8-a629-bb2ad7e1adc5\"}}];\n",
       "  root.Bokeh.embed.embed_items_notebook(docs_json, render_items);\n",
       "  }\n",
       "  if (root.Bokeh !== undefined) {\n",
       "    embed_document(root);\n",
       "  } else {\n",
       "    let attempts = 0;\n",
       "    const timer = setInterval(function(root) {\n",
       "      if (root.Bokeh !== undefined) {\n",
       "        clearInterval(timer);\n",
       "        embed_document(root);\n",
       "      } else {\n",
       "        attempts++;\n",
       "        if (attempts > 100) {\n",
       "          clearInterval(timer);\n",
       "          console.log(\"Bokeh: ERROR: Unable to run BokehJS code because BokehJS library is missing\");\n",
       "        }\n",
       "      }\n",
       "    }, 10, root)\n",
       "  }\n",
       "})(window);"
      ],
      "application/vnd.bokehjs_exec.v0+json": ""
     },
     "metadata": {
      "application/vnd.bokehjs_exec.v0+json": {
       "id": "1184"
      }
     },
     "output_type": "display_data"
    }
   ],
   "source": [
    "circle_plot = figure(plot_width=400, plot_height=400)\n",
    "\n",
    "ellipse_plot = figure(plot_width=400, \n",
    "                      plot_height=400, \n",
    "                      y_range=circle_plot.y_range, \n",
    "                      x_range=circle_plot.x_range)\n",
    "\n",
    "circle_plot.circle([7], [19], color='blue', size=14, fill_color=\"white\", line_width=3)\n",
    "circle_plot.circle([7], [19], color='blue', size=4, fill_color=\"white\", line_width=3)\n",
    "\n",
    "ellipse_plot.ellipse(x=[4], \n",
    "                     y=[3], \n",
    "                     width=5, \n",
    "                     height=6, \n",
    "                     line_color=\"black\", \n",
    "                     fill_color='orange', \n",
    "                     line_width=3, \n",
    "                     line_dash='dashed')\n",
    "\n",
    "show(row(circle_plot, ellipse_plot))"
   ]
  },
  {
   "cell_type": "markdown",
   "metadata": {},
   "source": [
    "### Line<a id='line'></a>\n",
    "[[back to top]](#top)\n",
    "\n",
    "\n",
    "Different types of lines are used for various line charts. Find more information about line charts [here](https://docs.bokeh.org/en/latest/docs/first_steps/first_steps_1.html)."
   ]
  },
  {
   "cell_type": "code",
   "execution_count": 4,
   "metadata": {},
   "outputs": [
    {
     "name": "stderr",
     "output_type": "stream",
     "text": [
      "BokehUserWarning: ColumnDataSource's columns must be of the same length. Current lengths: ('x', 41), ('y', 40)\n"
     ]
    },
    {
     "data": {
      "text/html": [
       "\n",
       "  <div class=\"bk-root\" id=\"d95079eb-8852-4fcc-88c7-d20101ac21ef\" data-root-id=\"1486\"></div>\n"
      ]
     },
     "metadata": {},
     "output_type": "display_data"
    },
    {
     "data": {
      "application/javascript": [
       "(function(root) {\n",
       "  function embed_document(root) {\n",
       "  const docs_json = {\"aba3263e-051b-4740-8c6e-b0484ac0b587\":{\"defs\":[],\"roots\":{\"references\":[{\"attributes\":{\"children\":[{\"id\":\"1484\"},{\"id\":\"1485\"}]},\"id\":\"1486\",\"type\":\"Column\"},{\"attributes\":{\"coordinates\":null,\"group\":null},\"id\":\"1526\",\"type\":\"Title\"},{\"attributes\":{\"coordinates\":null,\"group\":null},\"id\":\"1528\",\"type\":\"Title\"},{\"attributes\":{\"children\":[{\"id\":\"1340\"},{\"id\":\"1371\"}]},\"id\":\"1484\",\"type\":\"Row\"},{\"attributes\":{},\"id\":\"1557\",\"type\":\"UnionRenderers\"},{\"attributes\":{},\"id\":\"1558\",\"type\":\"Selection\"},{\"attributes\":{},\"id\":\"1439\",\"type\":\"BasicTicker\"},{\"attributes\":{},\"id\":\"1531\",\"type\":\"BasicTickFormatter\"},{\"attributes\":{},\"id\":\"1532\",\"type\":\"AllLabels\"},{\"attributes\":{\"source\":{\"id\":\"1466\"}},\"id\":\"1471\",\"type\":\"CDSView\"},{\"attributes\":{},\"id\":\"1534\",\"type\":\"BasicTickFormatter\"},{\"attributes\":{\"line_alpha\":0.2,\"line_color\":\"red\",\"x\":{\"field\":\"x\"},\"y\":{\"field\":\"y\"}},\"id\":\"1481\",\"type\":\"Line\"},{\"attributes\":{},\"id\":\"1535\",\"type\":\"AllLabels\"},{\"attributes\":{\"tools\":[{\"id\":\"1446\"},{\"id\":\"1447\"},{\"id\":\"1448\"},{\"id\":\"1449\"},{\"id\":\"1450\"},{\"id\":\"1451\"}]},\"id\":\"1453\",\"type\":\"Toolbar\"},{\"attributes\":{},\"id\":\"1407\",\"type\":\"LinearScale\"},{\"attributes\":{\"children\":[{\"id\":\"1401\"},{\"id\":\"1431\"}]},\"id\":\"1485\",\"type\":\"Row\"},{\"attributes\":{},\"id\":\"1449\",\"type\":\"SaveTool\"},{\"attributes\":{\"line_alpha\":0.1,\"line_color\":\"brown\",\"x\":{\"field\":\"x\"},\"y\":{\"field\":\"y\"}},\"id\":\"1468\",\"type\":\"Line\"},{\"attributes\":{},\"id\":\"1447\",\"type\":\"WheelZoomTool\"},{\"attributes\":{\"coordinates\":null,\"formatter\":{\"id\":\"1543\"},\"group\":null,\"major_label_policy\":{\"id\":\"1544\"},\"ticker\":{\"id\":\"1414\"}},\"id\":\"1413\",\"type\":\"LinearAxis\"},{\"attributes\":{},\"id\":\"1387\",\"type\":\"PanTool\"},{\"attributes\":{},\"id\":\"1560\",\"type\":\"UnionRenderers\"},{\"attributes\":{},\"id\":\"1388\",\"type\":\"WheelZoomTool\"},{\"attributes\":{},\"id\":\"1405\",\"type\":\"LinearScale\"},{\"attributes\":{\"coordinates\":null,\"group\":null},\"id\":\"1522\",\"type\":\"Title\"},{\"attributes\":{\"axis\":{\"id\":\"1409\"},\"coordinates\":null,\"group\":null,\"ticker\":null},\"id\":\"1412\",\"type\":\"Grid\"},{\"attributes\":{},\"id\":\"1561\",\"type\":\"Selection\"},{\"attributes\":{\"axis\":{\"id\":\"1413\"},\"coordinates\":null,\"dimension\":1,\"group\":null,\"ticker\":null},\"id\":\"1416\",\"type\":\"Grid\"},{\"attributes\":{},\"id\":\"1537\",\"type\":\"BasicTickFormatter\"},{\"attributes\":{},\"id\":\"1538\",\"type\":\"AllLabels\"},{\"attributes\":{\"line_alpha\":0.1,\"line_color\":\"brown\",\"x\":{\"field\":\"x\"},\"y\":{\"field\":\"y\"}},\"id\":\"1474\",\"type\":\"Line\"},{\"attributes\":{\"coordinates\":null,\"formatter\":{\"id\":\"1552\"},\"group\":null,\"major_label_policy\":{\"id\":\"1553\"},\"ticker\":{\"id\":\"1439\"}},\"id\":\"1438\",\"type\":\"LinearAxis\"},{\"attributes\":{},\"id\":\"1540\",\"type\":\"BasicTickFormatter\"},{\"attributes\":{\"source\":{\"id\":\"1472\"}},\"id\":\"1477\",\"type\":\"CDSView\"},{\"attributes\":{\"line_alpha\":0.2,\"line_color\":\"brown\",\"x\":{\"field\":\"x\"},\"y\":{\"field\":\"y\"}},\"id\":\"1475\",\"type\":\"Line\"},{\"attributes\":{\"coordinates\":null,\"formatter\":{\"id\":\"1540\"},\"group\":null,\"major_label_policy\":{\"id\":\"1541\"},\"ticker\":{\"id\":\"1380\"}},\"id\":\"1379\",\"type\":\"LinearAxis\"},{\"attributes\":{\"data\":{\"x\":[9,9,7,6,7,9],\"y\":[7,4,4,2,0,0]},\"selected\":{\"id\":\"1564\"},\"selection_policy\":{\"id\":\"1563\"}},\"id\":\"1478\",\"type\":\"ColumnDataSource\"},{\"attributes\":{},\"id\":\"1541\",\"type\":\"AllLabels\"},{\"attributes\":{\"line_alpha\":0.2,\"line_color\":\"brown\",\"x\":{\"field\":\"x\"},\"y\":{\"field\":\"y\"}},\"id\":\"1469\",\"type\":\"Line\"},{\"attributes\":{},\"id\":\"1451\",\"type\":\"HelpTool\"},{\"attributes\":{\"source\":{\"id\":\"1478\"}},\"id\":\"1483\",\"type\":\"CDSView\"},{\"attributes\":{},\"id\":\"1377\",\"type\":\"LinearScale\"},{\"attributes\":{},\"id\":\"1410\",\"type\":\"BasicTicker\"},{\"attributes\":{\"line_color\":\"brown\",\"x\":{\"field\":\"x\"},\"y\":{\"field\":\"y\"}},\"id\":\"1473\",\"type\":\"Line\"},{\"attributes\":{\"tools\":[{\"id\":\"1387\"},{\"id\":\"1388\"},{\"id\":\"1389\"},{\"id\":\"1390\"},{\"id\":\"1391\"},{\"id\":\"1392\"}]},\"id\":\"1394\",\"type\":\"Toolbar\"},{\"attributes\":{},\"id\":\"1375\",\"type\":\"LinearScale\"},{\"attributes\":{\"coordinates\":null,\"formatter\":{\"id\":\"1537\"},\"group\":null,\"major_label_policy\":{\"id\":\"1538\"},\"ticker\":{\"id\":\"1384\"}},\"id\":\"1383\",\"type\":\"LinearAxis\"},{\"attributes\":{},\"id\":\"1373\",\"type\":\"DataRange1d\"},{\"attributes\":{},\"id\":\"1436\",\"type\":\"LinearScale\"},{\"attributes\":{},\"id\":\"1380\",\"type\":\"BasicTicker\"},{\"attributes\":{\"bottom_units\":\"screen\",\"coordinates\":null,\"fill_alpha\":0.5,\"fill_color\":\"lightgrey\",\"group\":null,\"left_units\":\"screen\",\"level\":\"overlay\",\"line_alpha\":1.0,\"line_color\":\"black\",\"line_dash\":[4,4],\"line_width\":2,\"right_units\":\"screen\",\"syncable\":false,\"top_units\":\"screen\"},\"id\":\"1363\",\"type\":\"BoxAnnotation\"},{\"attributes\":{\"line_color\":\"red\",\"x\":{\"field\":\"x\"},\"y\":{\"field\":\"y\"}},\"id\":\"1479\",\"type\":\"Line\"},{\"attributes\":{\"coordinates\":null,\"group\":null},\"id\":\"1524\",\"type\":\"Title\"},{\"attributes\":{},\"id\":\"1414\",\"type\":\"BasicTicker\"},{\"attributes\":{},\"id\":\"1361\",\"type\":\"ResetTool\"},{\"attributes\":{\"axis\":{\"id\":\"1379\"},\"coordinates\":null,\"group\":null,\"ticker\":null},\"id\":\"1382\",\"type\":\"Grid\"},{\"attributes\":{},\"id\":\"1360\",\"type\":\"SaveTool\"},{\"attributes\":{\"overlay\":{\"id\":\"1363\"}},\"id\":\"1359\",\"type\":\"BoxZoomTool\"},{\"attributes\":{},\"id\":\"1563\",\"type\":\"UnionRenderers\"},{\"attributes\":{},\"id\":\"1434\",\"type\":\"LinearScale\"},{\"attributes\":{},\"id\":\"1357\",\"type\":\"PanTool\"},{\"attributes\":{},\"id\":\"1358\",\"type\":\"WheelZoomTool\"},{\"attributes\":{},\"id\":\"1564\",\"type\":\"Selection\"},{\"attributes\":{\"tools\":[{\"id\":\"1357\"},{\"id\":\"1358\"},{\"id\":\"1359\"},{\"id\":\"1360\"},{\"id\":\"1361\"},{\"id\":\"1362\"}]},\"id\":\"1364\",\"type\":\"Toolbar\"},{\"attributes\":{},\"id\":\"1418\",\"type\":\"WheelZoomTool\"},{\"attributes\":{},\"id\":\"1354\",\"type\":\"BasicTicker\"},{\"attributes\":{},\"id\":\"1417\",\"type\":\"PanTool\"},{\"attributes\":{\"data\":{\"x\":[10,8,6,5,4,3,2,3,4,5,8,9,10,11,13,14,15,14,9],\"y\":[12,11,11,12,12,13,15,18,20,22,23,27,29,32,34,34,33,32,22]},\"selected\":{\"id\":\"1555\"},\"selection_policy\":{\"id\":\"1554\"}},\"id\":\"1460\",\"type\":\"ColumnDataSource\"},{\"attributes\":{\"axis\":{\"id\":\"1353\"},\"coordinates\":null,\"dimension\":1,\"group\":null,\"ticker\":null},\"id\":\"1356\",\"type\":\"Grid\"},{\"attributes\":{\"line_alpha\":0.2,\"line_color\":\"red\",\"x\":{\"field\":\"x\"},\"y\":{\"field\":\"y\"}},\"id\":\"1463\",\"type\":\"Line\"},{\"attributes\":{},\"id\":\"1543\",\"type\":\"BasicTickFormatter\"},{\"attributes\":{\"overlay\":{\"id\":\"1423\"}},\"id\":\"1419\",\"type\":\"BoxZoomTool\"},{\"attributes\":{},\"id\":\"1420\",\"type\":\"SaveTool\"},{\"attributes\":{\"axis\":{\"id\":\"1349\"},\"coordinates\":null,\"group\":null,\"ticker\":null},\"id\":\"1352\",\"type\":\"Grid\"},{\"attributes\":{},\"id\":\"1421\",\"type\":\"ResetTool\"},{\"attributes\":{},\"id\":\"1544\",\"type\":\"AllLabels\"},{\"attributes\":{},\"id\":\"1350\",\"type\":\"BasicTicker\"},{\"attributes\":{},\"id\":\"1443\",\"type\":\"BasicTicker\"},{\"attributes\":{\"line_color\":\"red\",\"x\":{\"field\":\"x\"},\"y\":{\"field\":\"y\"}},\"id\":\"1461\",\"type\":\"Line\"},{\"attributes\":{},\"id\":\"1362\",\"type\":\"HelpTool\"},{\"attributes\":{},\"id\":\"1345\",\"type\":\"LinearScale\"},{\"attributes\":{},\"id\":\"1446\",\"type\":\"PanTool\"},{\"attributes\":{},\"id\":\"1546\",\"type\":\"BasicTickFormatter\"},{\"attributes\":{},\"id\":\"1347\",\"type\":\"LinearScale\"},{\"attributes\":{\"coordinates\":null,\"formatter\":{\"id\":\"1534\"},\"group\":null,\"major_label_policy\":{\"id\":\"1535\"},\"ticker\":{\"id\":\"1350\"}},\"id\":\"1349\",\"type\":\"LinearAxis\"},{\"attributes\":{\"coordinates\":null,\"formatter\":{\"id\":\"1531\"},\"group\":null,\"major_label_policy\":{\"id\":\"1532\"},\"ticker\":{\"id\":\"1354\"}},\"id\":\"1353\",\"type\":\"LinearAxis\"},{\"attributes\":{\"bottom_units\":\"screen\",\"coordinates\":null,\"fill_alpha\":0.5,\"fill_color\":\"lightgrey\",\"group\":null,\"left_units\":\"screen\",\"level\":\"overlay\",\"line_alpha\":1.0,\"line_color\":\"black\",\"line_dash\":[4,4],\"line_width\":2,\"right_units\":\"screen\",\"syncable\":false,\"top_units\":\"screen\"},\"id\":\"1452\",\"type\":\"BoxAnnotation\"},{\"attributes\":{},\"id\":\"1547\",\"type\":\"AllLabels\"},{\"attributes\":{},\"id\":\"1343\",\"type\":\"DataRange1d\"},{\"attributes\":{\"coordinates\":null,\"data_source\":{\"id\":\"1460\"},\"glyph\":{\"id\":\"1461\"},\"group\":null,\"hover_glyph\":null,\"muted_glyph\":{\"id\":\"1463\"},\"nonselection_glyph\":{\"id\":\"1462\"},\"view\":{\"id\":\"1465\"}},\"id\":\"1464\",\"type\":\"GlyphRenderer\"},{\"attributes\":{},\"id\":\"1341\",\"type\":\"DataRange1d\"},{\"attributes\":{\"axis\":{\"id\":\"1438\"},\"coordinates\":null,\"group\":null,\"ticker\":null},\"id\":\"1441\",\"type\":\"Grid\"},{\"attributes\":{\"below\":[{\"id\":\"1438\"}],\"center\":[{\"id\":\"1441\"},{\"id\":\"1445\"}],\"height\":400,\"left\":[{\"id\":\"1442\"}],\"renderers\":[{\"id\":\"1482\"}],\"title\":{\"id\":\"1528\"},\"toolbar\":{\"id\":\"1453\"},\"width\":400,\"x_range\":{\"id\":\"1341\"},\"x_scale\":{\"id\":\"1434\"},\"y_range\":{\"id\":\"1343\"},\"y_scale\":{\"id\":\"1436\"}},\"id\":\"1431\",\"subtype\":\"Figure\",\"type\":\"Plot\"},{\"attributes\":{\"below\":[{\"id\":\"1379\"}],\"center\":[{\"id\":\"1382\"},{\"id\":\"1386\"}],\"height\":400,\"left\":[{\"id\":\"1383\"}],\"renderers\":[{\"id\":\"1470\"}],\"title\":{\"id\":\"1524\"},\"toolbar\":{\"id\":\"1394\"},\"width\":400,\"x_range\":{\"id\":\"1341\"},\"x_scale\":{\"id\":\"1375\"},\"y_range\":{\"id\":\"1373\"},\"y_scale\":{\"id\":\"1377\"}},\"id\":\"1371\",\"subtype\":\"Figure\",\"type\":\"Plot\"},{\"attributes\":{\"axis\":{\"id\":\"1442\"},\"coordinates\":null,\"dimension\":1,\"group\":null,\"ticker\":null},\"id\":\"1445\",\"type\":\"Grid\"},{\"attributes\":{\"below\":[{\"id\":\"1349\"}],\"center\":[{\"id\":\"1352\"},{\"id\":\"1356\"}],\"height\":400,\"left\":[{\"id\":\"1353\"}],\"renderers\":[{\"id\":\"1464\"}],\"title\":{\"id\":\"1522\"},\"toolbar\":{\"id\":\"1364\"},\"width\":400,\"x_range\":{\"id\":\"1341\"},\"x_scale\":{\"id\":\"1345\"},\"y_range\":{\"id\":\"1343\"},\"y_scale\":{\"id\":\"1347\"}},\"id\":\"1340\",\"subtype\":\"Figure\",\"type\":\"Plot\"},{\"attributes\":{\"below\":[{\"id\":\"1409\"}],\"center\":[{\"id\":\"1412\"},{\"id\":\"1416\"}],\"height\":400,\"left\":[{\"id\":\"1413\"}],\"renderers\":[{\"id\":\"1476\"}],\"title\":{\"id\":\"1526\"},\"toolbar\":{\"id\":\"1424\"},\"width\":400,\"x_range\":{\"id\":\"1402\"},\"x_scale\":{\"id\":\"1405\"},\"y_range\":{\"id\":\"1343\"},\"y_scale\":{\"id\":\"1407\"}},\"id\":\"1401\",\"subtype\":\"Figure\",\"type\":\"Plot\"},{\"attributes\":{\"bottom_units\":\"screen\",\"coordinates\":null,\"fill_alpha\":0.5,\"fill_color\":\"lightgrey\",\"group\":null,\"left_units\":\"screen\",\"level\":\"overlay\",\"line_alpha\":1.0,\"line_color\":\"black\",\"line_dash\":[4,4],\"line_width\":2,\"right_units\":\"screen\",\"syncable\":false,\"top_units\":\"screen\"},\"id\":\"1393\",\"type\":\"BoxAnnotation\"},{\"attributes\":{},\"id\":\"1391\",\"type\":\"ResetTool\"},{\"attributes\":{},\"id\":\"1390\",\"type\":\"SaveTool\"},{\"attributes\":{\"overlay\":{\"id\":\"1393\"}},\"id\":\"1389\",\"type\":\"BoxZoomTool\"},{\"attributes\":{},\"id\":\"1392\",\"type\":\"HelpTool\"},{\"attributes\":{\"line_alpha\":0.1,\"line_color\":\"red\",\"x\":{\"field\":\"x\"},\"y\":{\"field\":\"y\"}},\"id\":\"1480\",\"type\":\"Line\"},{\"attributes\":{},\"id\":\"1450\",\"type\":\"ResetTool\"},{\"attributes\":{},\"id\":\"1402\",\"type\":\"DataRange1d\"},{\"attributes\":{\"line_alpha\":0.1,\"line_color\":\"red\",\"x\":{\"field\":\"x\"},\"y\":{\"field\":\"y\"}},\"id\":\"1462\",\"type\":\"Line\"},{\"attributes\":{\"data\":{\"x\":[15,14,14,14,13,12,10,9,8,8,9,10,11,11,12,11,11,9,8,7,7],\"y\":[3,3,5,3,2,0,0,0,1,3,3,3,4,7,8,7,5,7,8,10,11]},\"selected\":{\"id\":\"1558\"},\"selection_policy\":{\"id\":\"1557\"}},\"id\":\"1466\",\"type\":\"ColumnDataSource\"},{\"attributes\":{\"coordinates\":null,\"formatter\":{\"id\":\"1546\"},\"group\":null,\"major_label_policy\":{\"id\":\"1547\"},\"ticker\":{\"id\":\"1410\"}},\"id\":\"1409\",\"type\":\"LinearAxis\"},{\"attributes\":{},\"id\":\"1422\",\"type\":\"HelpTool\"},{\"attributes\":{\"line_color\":\"brown\",\"x\":{\"field\":\"x\"},\"y\":{\"field\":\"y\"}},\"id\":\"1467\",\"type\":\"Line\"},{\"attributes\":{},\"id\":\"1549\",\"type\":\"BasicTickFormatter\"},{\"attributes\":{\"coordinates\":null,\"data_source\":{\"id\":\"1466\"},\"glyph\":{\"id\":\"1467\"},\"group\":null,\"hover_glyph\":null,\"muted_glyph\":{\"id\":\"1469\"},\"nonselection_glyph\":{\"id\":\"1468\"},\"view\":{\"id\":\"1471\"}},\"id\":\"1470\",\"type\":\"GlyphRenderer\"},{\"attributes\":{},\"id\":\"1550\",\"type\":\"AllLabels\"},{\"attributes\":{},\"id\":\"1384\",\"type\":\"BasicTicker\"},{\"attributes\":{\"axis\":{\"id\":\"1383\"},\"coordinates\":null,\"dimension\":1,\"group\":null,\"ticker\":null},\"id\":\"1386\",\"type\":\"Grid\"},{\"attributes\":{},\"id\":\"1552\",\"type\":\"BasicTickFormatter\"},{\"attributes\":{\"data\":{\"x\":[9,15,16,18,18,15,13,10,12,13,13,13,15,18,20,23,24,25,27,28,29,29,29,31,33,33,27,22,17,15,14,14,15,17,18,18,17,16,17,19,22],\"y\":[22,31,32,32,30,26,24,22,22,21,19,21,23,24,24,23,23,22,19,16,12,5,6,7,5,2,0,0,0,1,2,3,4,3,4,6,8,11,14,15]},\"selected\":{\"id\":\"1561\"},\"selection_policy\":{\"id\":\"1560\"}},\"id\":\"1472\",\"type\":\"ColumnDataSource\"},{\"attributes\":{\"overlay\":{\"id\":\"1452\"}},\"id\":\"1448\",\"type\":\"BoxZoomTool\"},{\"attributes\":{},\"id\":\"1553\",\"type\":\"AllLabels\"},{\"attributes\":{\"source\":{\"id\":\"1460\"}},\"id\":\"1465\",\"type\":\"CDSView\"},{\"attributes\":{\"coordinates\":null,\"data_source\":{\"id\":\"1472\"},\"glyph\":{\"id\":\"1473\"},\"group\":null,\"hover_glyph\":null,\"muted_glyph\":{\"id\":\"1475\"},\"nonselection_glyph\":{\"id\":\"1474\"},\"view\":{\"id\":\"1477\"}},\"id\":\"1476\",\"type\":\"GlyphRenderer\"},{\"attributes\":{\"coordinates\":null,\"data_source\":{\"id\":\"1478\"},\"glyph\":{\"id\":\"1479\"},\"group\":null,\"hover_glyph\":null,\"muted_glyph\":{\"id\":\"1481\"},\"nonselection_glyph\":{\"id\":\"1480\"},\"view\":{\"id\":\"1483\"}},\"id\":\"1482\",\"type\":\"GlyphRenderer\"},{\"attributes\":{\"bottom_units\":\"screen\",\"coordinates\":null,\"fill_alpha\":0.5,\"fill_color\":\"lightgrey\",\"group\":null,\"left_units\":\"screen\",\"level\":\"overlay\",\"line_alpha\":1.0,\"line_color\":\"black\",\"line_dash\":[4,4],\"line_width\":2,\"right_units\":\"screen\",\"syncable\":false,\"top_units\":\"screen\"},\"id\":\"1423\",\"type\":\"BoxAnnotation\"},{\"attributes\":{\"tools\":[{\"id\":\"1417\"},{\"id\":\"1418\"},{\"id\":\"1419\"},{\"id\":\"1420\"},{\"id\":\"1421\"},{\"id\":\"1422\"}]},\"id\":\"1424\",\"type\":\"Toolbar\"},{\"attributes\":{},\"id\":\"1554\",\"type\":\"UnionRenderers\"},{\"attributes\":{\"coordinates\":null,\"formatter\":{\"id\":\"1549\"},\"group\":null,\"major_label_policy\":{\"id\":\"1550\"},\"ticker\":{\"id\":\"1443\"}},\"id\":\"1442\",\"type\":\"LinearAxis\"},{\"attributes\":{},\"id\":\"1555\",\"type\":\"Selection\"}],\"root_ids\":[\"1486\"]},\"title\":\"Bokeh Application\",\"version\":\"2.4.3\"}};\n",
       "  const render_items = [{\"docid\":\"aba3263e-051b-4740-8c6e-b0484ac0b587\",\"root_ids\":[\"1486\"],\"roots\":{\"1486\":\"d95079eb-8852-4fcc-88c7-d20101ac21ef\"}}];\n",
       "  root.Bokeh.embed.embed_items_notebook(docs_json, render_items);\n",
       "  }\n",
       "  if (root.Bokeh !== undefined) {\n",
       "    embed_document(root);\n",
       "  } else {\n",
       "    let attempts = 0;\n",
       "    const timer = setInterval(function(root) {\n",
       "      if (root.Bokeh !== undefined) {\n",
       "        clearInterval(timer);\n",
       "        embed_document(root);\n",
       "      } else {\n",
       "        attempts++;\n",
       "        if (attempts > 100) {\n",
       "          clearInterval(timer);\n",
       "          console.log(\"Bokeh: ERROR: Unable to run BokehJS code because BokehJS library is missing\");\n",
       "        }\n",
       "      }\n",
       "    }, 10, root)\n",
       "  }\n",
       "})(window);"
      ],
      "application/vnd.bokehjs_exec.v0+json": ""
     },
     "metadata": {
      "application/vnd.bokehjs_exec.v0+json": {
       "id": "1486"
      }
     },
     "output_type": "display_data"
    }
   ],
   "source": [
    "line_p_1 = figure(plot_width=400, plot_height=400)\n",
    "line_p_2 = figure(plot_width=400, plot_height=400, x_range=line_p_1.x_range)\n",
    "line_p_3 = figure(plot_width=400, plot_height=400, y_range=line_p_1.y_range)\n",
    "line_p_4 = figure(plot_width=400, plot_height=400, y_range=line_p_1.y_range, x_range=line_p_1.x_range)\n",
    "\n",
    "\n",
    "line_p_1.line([10, 8, 6, 5, 4, 3, 2, 3, 4, 5, 8, 9, 10, 11, 13, 14, 15, 14, 9],\n",
    "              [12, 11, 11, 12, 12, 13, 15, 18, 20, 22, 23, 27, 29, 32, 34, 34, 33, 32, 22], \n",
    "              color=\"red\")\n",
    "\n",
    "line_p_2.line([15, 14, 14, 14, 13, 12, 10, 9, 8, 8, 9, 10, 11, 11, 12, 11, 11, 9, 8, 7, 7],\n",
    "              [3, 3, 5, 3, 2, 0, 0, 0, 1, 3, 3, 3, 4, 7, 8, 7, 5, 7, 8, 10, 11], \n",
    "              color='brown')\n",
    "\n",
    "line_p_3.line([9, 15, 16, 18, 18, 15, 13, 10, 12, 13, 13, 13, 15, 18, 20, 23, 24, 25, 27, 28, \n",
    "               29, 29, 29, 31, 33, 33, 27, 22, 17, 15, 14, 14, 15, 17, 18, 18, 17, 16, 17, 19, 22],\n",
    "              [22, 31, 32, 32, 30, 26, 24, 22, 22, 21, 19, 21, 23, 24, 24, 23, 23, 22, 19, 16, 12, \n",
    "               5, 6, 7, 5, 2, 0, 0, 0, 1, 2, 3, 4, 3, 4, 6, 8, 11, 14, 15], \n",
    "              color=\"brown\")\n",
    "\n",
    "line_p_4.line([9, 9, 7, 6, 7, 9], \n",
    "              [7, 4, 4, 2, 0, 0], \n",
    "              color='red')\n",
    "\n",
    "show(column(row(line_p_1, line_p_2), \n",
    "            row(line_p_3, line_p_4)))"
   ]
  },
  {
   "cell_type": "markdown",
   "metadata": {},
   "source": [
    "### Bar / rectangle<a id='bar'></a>\n",
    "[[back to top]](#top)\n",
    "\n",
    "\n",
    "Bars and rectangles are most frequently used in bar charts. You can find more information and examples about Bokeh bar charts [here](https://docs.bokeh.org/en/latest/docs/user_guide/basic/bars.html)."
   ]
  },
  {
   "cell_type": "code",
   "execution_count": 5,
   "metadata": {},
   "outputs": [
    {
     "data": {
      "text/html": [
       "\n",
       "  <div class=\"bk-root\" id=\"9c4d20bd-47e7-4224-b845-d81b215dd51b\" data-root-id=\"1786\"></div>\n"
      ]
     },
     "metadata": {},
     "output_type": "display_data"
    },
    {
     "data": {
      "application/javascript": [
       "(function(root) {\n",
       "  function embed_document(root) {\n",
       "  const docs_json = {\"50df7fec-5020-4bc3-b852-1502039aeae7\":{\"defs\":[],\"roots\":{\"references\":[{\"attributes\":{\"below\":[{\"id\":\"1795\"}],\"center\":[{\"id\":\"1798\"},{\"id\":\"1802\"}],\"height\":400,\"left\":[{\"id\":\"1799\"}],\"renderers\":[{\"id\":\"1821\"}],\"title\":{\"id\":\"1903\"},\"toolbar\":{\"id\":\"1810\"},\"width\":400,\"x_range\":{\"id\":\"1787\"},\"x_scale\":{\"id\":\"1791\"},\"y_range\":{\"id\":\"1789\"},\"y_scale\":{\"id\":\"1793\"}},\"id\":\"1786\",\"subtype\":\"Figure\",\"type\":\"Plot\"},{\"attributes\":{},\"id\":\"1800\",\"type\":\"BasicTicker\"},{\"attributes\":{\"axis\":{\"id\":\"1799\"},\"coordinates\":null,\"dimension\":1,\"group\":null,\"ticker\":null},\"id\":\"1802\",\"type\":\"Grid\"},{\"attributes\":{},\"id\":\"1909\",\"type\":\"BasicTickFormatter\"},{\"attributes\":{},\"id\":\"1796\",\"type\":\"BasicTicker\"},{\"attributes\":{},\"id\":\"1906\",\"type\":\"BasicTickFormatter\"},{\"attributes\":{},\"id\":\"1791\",\"type\":\"LinearScale\"},{\"attributes\":{\"axis\":{\"id\":\"1795\"},\"coordinates\":null,\"group\":null,\"ticker\":null},\"id\":\"1798\",\"type\":\"Grid\"},{\"attributes\":{\"coordinates\":null,\"formatter\":{\"id\":\"1906\"},\"group\":null,\"major_label_policy\":{\"id\":\"1907\"},\"ticker\":{\"id\":\"1800\"}},\"id\":\"1799\",\"type\":\"LinearAxis\"},{\"attributes\":{\"fill_color\":{\"value\":\"green\"},\"hatch_color\":{\"value\":\"green\"},\"line_color\":{\"value\":\"green\"},\"top\":{\"field\":\"top\"},\"width\":{\"value\":0.5},\"x\":{\"field\":\"x\"}},\"id\":\"1818\",\"type\":\"VBar\"},{\"attributes\":{},\"id\":\"1907\",\"type\":\"AllLabels\"},{\"attributes\":{},\"id\":\"1803\",\"type\":\"PanTool\"},{\"attributes\":{},\"id\":\"1808\",\"type\":\"HelpTool\"},{\"attributes\":{},\"id\":\"1804\",\"type\":\"WheelZoomTool\"},{\"attributes\":{\"logo\":null,\"tools\":[{\"id\":\"1803\"},{\"id\":\"1804\"},{\"id\":\"1805\"},{\"id\":\"1806\"},{\"id\":\"1807\"},{\"id\":\"1808\"}]},\"id\":\"1810\",\"type\":\"Toolbar\"},{\"attributes\":{},\"id\":\"1793\",\"type\":\"LinearScale\"},{\"attributes\":{\"coordinates\":null,\"data_source\":{\"id\":\"1817\"},\"glyph\":{\"id\":\"1818\"},\"group\":null,\"hover_glyph\":null,\"muted_glyph\":{\"id\":\"1820\"},\"nonselection_glyph\":{\"id\":\"1819\"},\"view\":{\"id\":\"1822\"}},\"id\":\"1821\",\"type\":\"GlyphRenderer\"},{\"attributes\":{\"coordinates\":null,\"formatter\":{\"id\":\"1909\"},\"group\":null,\"major_label_policy\":{\"id\":\"1910\"},\"ticker\":{\"id\":\"1796\"}},\"id\":\"1795\",\"type\":\"LinearAxis\"},{\"attributes\":{\"fill_alpha\":{\"value\":0.1},\"fill_color\":{\"value\":\"green\"},\"hatch_alpha\":{\"value\":0.1},\"hatch_color\":{\"value\":\"green\"},\"line_alpha\":{\"value\":0.1},\"line_color\":{\"value\":\"green\"},\"top\":{\"field\":\"top\"},\"width\":{\"value\":0.5},\"x\":{\"field\":\"x\"}},\"id\":\"1819\",\"type\":\"VBar\"},{\"attributes\":{\"source\":{\"id\":\"1817\"}},\"id\":\"1822\",\"type\":\"CDSView\"},{\"attributes\":{\"coordinates\":null,\"group\":null},\"id\":\"1903\",\"type\":\"Title\"},{\"attributes\":{\"fill_alpha\":{\"value\":0.2},\"fill_color\":{\"value\":\"green\"},\"hatch_alpha\":{\"value\":0.2},\"hatch_color\":{\"value\":\"green\"},\"line_alpha\":{\"value\":0.2},\"line_color\":{\"value\":\"green\"},\"top\":{\"field\":\"top\"},\"width\":{\"value\":0.5},\"x\":{\"field\":\"x\"}},\"id\":\"1820\",\"type\":\"VBar\"},{\"attributes\":{},\"id\":\"1912\",\"type\":\"Selection\"},{\"attributes\":{},\"id\":\"1911\",\"type\":\"UnionRenderers\"},{\"attributes\":{},\"id\":\"1787\",\"type\":\"DataRange1d\"},{\"attributes\":{},\"id\":\"1789\",\"type\":\"DataRange1d\"},{\"attributes\":{\"bottom_units\":\"screen\",\"coordinates\":null,\"fill_alpha\":0.5,\"fill_color\":\"lightgrey\",\"group\":null,\"left_units\":\"screen\",\"level\":\"overlay\",\"line_alpha\":1.0,\"line_color\":\"black\",\"line_dash\":[4,4],\"line_width\":2,\"right_units\":\"screen\",\"syncable\":false,\"top_units\":\"screen\"},\"id\":\"1809\",\"type\":\"BoxAnnotation\"},{\"attributes\":{},\"id\":\"1910\",\"type\":\"AllLabels\"},{\"attributes\":{},\"id\":\"1807\",\"type\":\"ResetTool\"},{\"attributes\":{},\"id\":\"1806\",\"type\":\"SaveTool\"},{\"attributes\":{\"overlay\":{\"id\":\"1809\"}},\"id\":\"1805\",\"type\":\"BoxZoomTool\"},{\"attributes\":{\"data\":{\"top\":[1,2,3,4,3,4,1,2,1,2,4,2,1,2,1,2,4,3,2,2,3,1,2,1,3,2,1,2,3,2,1,2,3,4,2],\"x\":[0,1,2,3,4,5,6,7,8,9,10,11,12,13,14,15,16,17,18,19,20,21,22,23,24,25,26,27,28,29,30,31,32,33,34]},\"selected\":{\"id\":\"1912\"},\"selection_policy\":{\"id\":\"1911\"}},\"id\":\"1817\",\"type\":\"ColumnDataSource\"}],\"root_ids\":[\"1786\"]},\"title\":\"Bokeh Application\",\"version\":\"2.4.3\"}};\n",
       "  const render_items = [{\"docid\":\"50df7fec-5020-4bc3-b852-1502039aeae7\",\"root_ids\":[\"1786\"],\"roots\":{\"1786\":\"9c4d20bd-47e7-4224-b845-d81b215dd51b\"}}];\n",
       "  root.Bokeh.embed.embed_items_notebook(docs_json, render_items);\n",
       "  }\n",
       "  if (root.Bokeh !== undefined) {\n",
       "    embed_document(root);\n",
       "  } else {\n",
       "    let attempts = 0;\n",
       "    const timer = setInterval(function(root) {\n",
       "      if (root.Bokeh !== undefined) {\n",
       "        clearInterval(timer);\n",
       "        embed_document(root);\n",
       "      } else {\n",
       "        attempts++;\n",
       "        if (attempts > 100) {\n",
       "          clearInterval(timer);\n",
       "          console.log(\"Bokeh: ERROR: Unable to run BokehJS code because BokehJS library is missing\");\n",
       "        }\n",
       "      }\n",
       "    }, 10, root)\n",
       "  }\n",
       "})(window);"
      ],
      "application/vnd.bokehjs_exec.v0+json": ""
     },
     "metadata": {
      "application/vnd.bokehjs_exec.v0+json": {
       "id": "1786"
      }
     },
     "output_type": "display_data"
    }
   ],
   "source": [
    "p = figure(plot_width=400, plot_height=400)\n",
    "\n",
    "p.vbar(x=range(35), \n",
    "       top=[1, 2, 3, 4, 3, \n",
    "            4, 1, 2, 1, 2, \n",
    "            4, 2, 1, 2, 1, \n",
    "            2, 4, 3, 2, 2, \n",
    "            3, 1, 2, 1, 3, \n",
    "            2, 1, 2, 3, 2,  \n",
    "            1, 2, 3, 4, 2],\n",
    "       width=0.5, \n",
    "       color='green')\n",
    "\n",
    "p.toolbar.logo = None\n",
    "show(p)"
   ]
  },
  {
   "cell_type": "markdown",
   "metadata": {},
   "source": [
    "### Putting it all together (Easter special)<a id='allinone'></a>\n",
    "[[back to top]](#top)\n",
    "\n",
    "Let's put all the glyphs we created above into one plot. What will that look like?"
   ]
  },
  {
   "cell_type": "code",
   "execution_count": 6,
   "metadata": {},
   "outputs": [
    {
     "name": "stderr",
     "output_type": "stream",
     "text": [
      "BokehUserWarning: ColumnDataSource's columns must be of the same length. Current lengths: ('x', 41), ('y', 40)\n",
      "BokehUserWarning: ColumnDataSource's columns must be of the same length. Current lengths: ('x', 16), ('y', 15)\n"
     ]
    },
    {
     "data": {
      "text/html": [
       "\n",
       "  <div class=\"bk-root\" id=\"6c642a34-d207-4462-8561-fc07e2fbcd38\" data-root-id=\"1969\"></div>\n"
      ]
     },
     "metadata": {},
     "output_type": "display_data"
    },
    {
     "data": {
      "application/javascript": [
       "(function(root) {\n",
       "  function embed_document(root) {\n",
       "  const docs_json = {\"8d1aea94-7bca-4333-8cc5-15955bca9f5c\":{\"defs\":[],\"roots\":{\"references\":[{\"attributes\":{\"below\":[{\"id\":\"1978\"}],\"center\":[{\"id\":\"1981\"},{\"id\":\"1985\"}],\"height\":400,\"left\":[{\"id\":\"1982\"}],\"renderers\":[{\"id\":\"2004\"},{\"id\":\"2010\"},{\"id\":\"2016\"},{\"id\":\"2022\"},{\"id\":\"2028\"},{\"id\":\"2034\"},{\"id\":\"2040\"},{\"id\":\"2046\"},{\"id\":\"2052\"}],\"title\":{\"id\":\"2144\"},\"toolbar\":{\"id\":\"1993\"},\"width\":400,\"x_range\":{\"id\":\"1970\"},\"x_scale\":{\"id\":\"1974\"},\"y_range\":{\"id\":\"1972\"},\"y_scale\":{\"id\":\"1976\"}},\"id\":\"1969\",\"subtype\":\"Figure\",\"type\":\"Plot\"},{\"attributes\":{\"coordinates\":null,\"data_source\":{\"id\":\"2024\"},\"glyph\":{\"id\":\"2025\"},\"group\":null,\"hover_glyph\":null,\"muted_glyph\":{\"id\":\"2027\"},\"nonselection_glyph\":{\"id\":\"2026\"},\"view\":{\"id\":\"2029\"}},\"id\":\"2028\",\"type\":\"GlyphRenderer\"},{\"attributes\":{\"angle\":{\"value\":-0.7},\"fill_alpha\":{\"value\":0.2},\"fill_color\":{\"value\":\"purple\"},\"hatch_alpha\":{\"value\":0.2},\"hatch_color\":{\"value\":\"purple\"},\"line_alpha\":{\"value\":0.2},\"line_color\":{\"value\":\"purple\"},\"marker\":{\"value\":\"square\"},\"size\":{\"value\":2},\"x\":{\"field\":\"x\"},\"y\":{\"field\":\"y\"}},\"id\":\"2027\",\"type\":\"Scatter\"},{\"attributes\":{},\"id\":\"2168\",\"type\":\"UnionRenderers\"},{\"attributes\":{\"source\":{\"id\":\"2000\"}},\"id\":\"2005\",\"type\":\"CDSView\"},{\"attributes\":{\"line_alpha\":0.1,\"line_color\":\"brown\",\"x\":{\"field\":\"x\"},\"y\":{\"field\":\"y\"}},\"id\":\"2008\",\"type\":\"Line\"},{\"attributes\":{\"coordinates\":null,\"data_source\":{\"id\":\"2012\"},\"glyph\":{\"id\":\"2013\"},\"group\":null,\"hover_glyph\":null,\"muted_glyph\":{\"id\":\"2015\"},\"nonselection_glyph\":{\"id\":\"2014\"},\"view\":{\"id\":\"2017\"}},\"id\":\"2016\",\"type\":\"GlyphRenderer\"},{\"attributes\":{\"fill_alpha\":{\"value\":0.1},\"fill_color\":{\"value\":\"orange\"},\"hatch_alpha\":{\"value\":0.1},\"height\":{\"value\":6},\"line_alpha\":{\"value\":0.1},\"line_dash\":{\"value\":\"dashed\"},\"line_width\":{\"value\":3},\"width\":{\"value\":5},\"x\":{\"field\":\"x\"},\"y\":{\"field\":\"y\"}},\"id\":\"2050\",\"type\":\"Ellipse\"},{\"attributes\":{\"line_alpha\":0.2,\"line_color\":\"red\",\"x\":{\"field\":\"x\"},\"y\":{\"field\":\"y\"}},\"id\":\"2003\",\"type\":\"Line\"},{\"attributes\":{},\"id\":\"2169\",\"type\":\"Selection\"},{\"attributes\":{\"line_color\":\"red\",\"x\":{\"field\":\"x\"},\"y\":{\"field\":\"y\"}},\"id\":\"2019\",\"type\":\"Line\"},{\"attributes\":{\"line_alpha\":0.1,\"line_color\":\"red\",\"x\":{\"field\":\"x\"},\"y\":{\"field\":\"y\"}},\"id\":\"2020\",\"type\":\"Line\"},{\"attributes\":{\"source\":{\"id\":\"2018\"}},\"id\":\"2023\",\"type\":\"CDSView\"},{\"attributes\":{},\"id\":\"2164\",\"type\":\"UnionRenderers\"},{\"attributes\":{},\"id\":\"2165\",\"type\":\"Selection\"},{\"attributes\":{\"data\":{\"x\":[9,9,7,6,7,9],\"y\":[7,4,4,2,0,0]},\"selected\":{\"id\":\"2159\"},\"selection_policy\":{\"id\":\"2158\"}},\"id\":\"2018\",\"type\":\"ColumnDataSource\"},{\"attributes\":{\"data\":{\"x\":[7],\"y\":[19]},\"selected\":{\"id\":\"2165\"},\"selection_policy\":{\"id\":\"2164\"}},\"id\":\"2036\",\"type\":\"ColumnDataSource\"},{\"attributes\":{\"data\":{\"x\":[2,3,4,3,4,3.5,5,4.5,2.5,2.5,3.5,2.5,3,3.5,4,4.5],\"y\":[15,16,17,15,15,15,15,15,15,15.5,16.5,14.5,14,13.5,13]},\"selected\":{\"id\":\"2161\"},\"selection_policy\":{\"id\":\"2160\"}},\"id\":\"2024\",\"type\":\"ColumnDataSource\"},{\"attributes\":{\"line_alpha\":0.2,\"line_color\":\"red\",\"x\":{\"field\":\"x\"},\"y\":{\"field\":\"y\"}},\"id\":\"2021\",\"type\":\"Line\"},{\"attributes\":{\"line_color\":\"brown\",\"x\":{\"field\":\"x\"},\"y\":{\"field\":\"y\"}},\"id\":\"2013\",\"type\":\"Line\"},{\"attributes\":{\"line_alpha\":0.1,\"line_color\":\"brown\",\"x\":{\"field\":\"x\"},\"y\":{\"field\":\"y\"}},\"id\":\"2014\",\"type\":\"Line\"},{\"attributes\":{\"source\":{\"id\":\"2006\"}},\"id\":\"2011\",\"type\":\"CDSView\"},{\"attributes\":{},\"id\":\"2158\",\"type\":\"UnionRenderers\"},{\"attributes\":{},\"id\":\"2159\",\"type\":\"Selection\"},{\"attributes\":{\"fill_alpha\":{\"value\":0.2},\"fill_color\":{\"value\":\"white\"},\"hatch_alpha\":{\"value\":0.2},\"hatch_color\":{\"value\":\"blue\"},\"line_alpha\":{\"value\":0.2},\"line_color\":{\"value\":\"blue\"},\"line_width\":{\"value\":3},\"size\":{\"value\":14},\"x\":{\"field\":\"x\"},\"y\":{\"field\":\"y\"}},\"id\":\"2033\",\"type\":\"Circle\"},{\"attributes\":{},\"id\":\"2162\",\"type\":\"UnionRenderers\"},{\"attributes\":{\"angle\":{\"value\":-0.7},\"fill_alpha\":{\"value\":0.1},\"fill_color\":{\"value\":\"purple\"},\"hatch_alpha\":{\"value\":0.1},\"hatch_color\":{\"value\":\"purple\"},\"line_alpha\":{\"value\":0.1},\"line_color\":{\"value\":\"purple\"},\"marker\":{\"value\":\"square\"},\"size\":{\"value\":2},\"x\":{\"field\":\"x\"},\"y\":{\"field\":\"y\"}},\"id\":\"2026\",\"type\":\"Scatter\"},{\"attributes\":{\"angle\":{\"value\":-0.7},\"fill_color\":{\"value\":\"purple\"},\"hatch_color\":{\"value\":\"purple\"},\"line_color\":{\"value\":\"purple\"},\"marker\":{\"value\":\"square\"},\"size\":{\"value\":2},\"x\":{\"field\":\"x\"},\"y\":{\"field\":\"y\"}},\"id\":\"2025\",\"type\":\"Scatter\"},{\"attributes\":{},\"id\":\"2157\",\"type\":\"Selection\"},{\"attributes\":{},\"id\":\"2156\",\"type\":\"UnionRenderers\"},{\"attributes\":{},\"id\":\"2155\",\"type\":\"Selection\"},{\"attributes\":{},\"id\":\"2154\",\"type\":\"UnionRenderers\"},{\"attributes\":{},\"id\":\"2160\",\"type\":\"UnionRenderers\"},{\"attributes\":{\"source\":{\"id\":\"2048\"}},\"id\":\"2053\",\"type\":\"CDSView\"},{\"attributes\":{\"fill_color\":{\"value\":\"green\"},\"hatch_color\":{\"value\":\"green\"},\"line_color\":{\"value\":\"green\"},\"top\":{\"field\":\"top\"},\"width\":{\"value\":0.5},\"x\":{\"field\":\"x\"}},\"id\":\"2043\",\"type\":\"VBar\"},{\"attributes\":{},\"id\":\"2153\",\"type\":\"Selection\"},{\"attributes\":{\"source\":{\"id\":\"2024\"}},\"id\":\"2029\",\"type\":\"CDSView\"},{\"attributes\":{\"source\":{\"id\":\"2030\"}},\"id\":\"2035\",\"type\":\"CDSView\"},{\"attributes\":{\"fill_color\":{\"value\":\"white\"},\"hatch_color\":{\"value\":\"blue\"},\"line_color\":{\"value\":\"blue\"},\"line_width\":{\"value\":3},\"x\":{\"field\":\"x\"},\"y\":{\"field\":\"y\"}},\"id\":\"2037\",\"type\":\"Circle\"},{\"attributes\":{},\"id\":\"2152\",\"type\":\"UnionRenderers\"},{\"attributes\":{\"data\":{\"top\":[1,2,3,4,3,4,1,2,1,2,4,2,1,2,1,2,4,3,2,2,3,1,2,1,3,2,1,2,3,2,1,2,3,4,2],\"x\":[0,1,2,3,4,5,6,7,8,9,10,11,12,13,14,15,16,17,18,19,20,21,22,23,24,25,26,27,28,29,30,31,32,33,34]},\"selected\":{\"id\":\"2167\"},\"selection_policy\":{\"id\":\"2166\"}},\"id\":\"2042\",\"type\":\"ColumnDataSource\"},{\"attributes\":{\"coordinates\":null,\"data_source\":{\"id\":\"2030\"},\"glyph\":{\"id\":\"2031\"},\"group\":null,\"hover_glyph\":null,\"muted_glyph\":{\"id\":\"2033\"},\"nonselection_glyph\":{\"id\":\"2032\"},\"view\":{\"id\":\"2035\"}},\"id\":\"2034\",\"type\":\"GlyphRenderer\"},{\"attributes\":{\"tools\":[{\"id\":\"1986\"},{\"id\":\"1987\"},{\"id\":\"1988\"},{\"id\":\"1989\"},{\"id\":\"1990\"},{\"id\":\"1991\"}]},\"id\":\"1993\",\"type\":\"Toolbar\"},{\"attributes\":{\"fill_alpha\":{\"value\":0.1},\"fill_color\":{\"value\":\"white\"},\"hatch_alpha\":{\"value\":0.1},\"hatch_color\":{\"value\":\"blue\"},\"line_alpha\":{\"value\":0.1},\"line_color\":{\"value\":\"blue\"},\"line_width\":{\"value\":3},\"size\":{\"value\":14},\"x\":{\"field\":\"x\"},\"y\":{\"field\":\"y\"}},\"id\":\"2032\",\"type\":\"Circle\"},{\"attributes\":{\"source\":{\"id\":\"2042\"}},\"id\":\"2047\",\"type\":\"CDSView\"},{\"attributes\":{\"fill_alpha\":{\"value\":0.1},\"fill_color\":{\"value\":\"green\"},\"hatch_alpha\":{\"value\":0.1},\"hatch_color\":{\"value\":\"green\"},\"line_alpha\":{\"value\":0.1},\"line_color\":{\"value\":\"green\"},\"top\":{\"field\":\"top\"},\"width\":{\"value\":0.5},\"x\":{\"field\":\"x\"}},\"id\":\"2044\",\"type\":\"VBar\"},{\"attributes\":{\"coordinates\":null,\"data_source\":{\"id\":\"2048\"},\"glyph\":{\"id\":\"2049\"},\"group\":null,\"hover_glyph\":null,\"muted_glyph\":{\"id\":\"2051\"},\"nonselection_glyph\":{\"id\":\"2050\"},\"view\":{\"id\":\"2053\"}},\"id\":\"2052\",\"type\":\"GlyphRenderer\"},{\"attributes\":{\"coordinates\":null,\"data_source\":{\"id\":\"2042\"},\"glyph\":{\"id\":\"2043\"},\"group\":null,\"hover_glyph\":null,\"muted_glyph\":{\"id\":\"2045\"},\"nonselection_glyph\":{\"id\":\"2044\"},\"view\":{\"id\":\"2047\"}},\"id\":\"2046\",\"type\":\"GlyphRenderer\"},{\"attributes\":{\"fill_color\":{\"value\":\"orange\"},\"height\":{\"value\":6},\"line_dash\":{\"value\":\"dashed\"},\"line_width\":{\"value\":3},\"width\":{\"value\":5},\"x\":{\"field\":\"x\"},\"y\":{\"field\":\"y\"}},\"id\":\"2049\",\"type\":\"Ellipse\"},{\"attributes\":{\"coordinates\":null,\"data_source\":{\"id\":\"2036\"},\"glyph\":{\"id\":\"2037\"},\"group\":null,\"hover_glyph\":null,\"muted_glyph\":{\"id\":\"2039\"},\"nonselection_glyph\":{\"id\":\"2038\"},\"view\":{\"id\":\"2041\"}},\"id\":\"2040\",\"type\":\"GlyphRenderer\"},{\"attributes\":{},\"id\":\"2151\",\"type\":\"AllLabels\"},{\"attributes\":{\"fill_alpha\":{\"value\":0.2},\"fill_color\":{\"value\":\"orange\"},\"hatch_alpha\":{\"value\":0.2},\"height\":{\"value\":6},\"line_alpha\":{\"value\":0.2},\"line_dash\":{\"value\":\"dashed\"},\"line_width\":{\"value\":3},\"width\":{\"value\":5},\"x\":{\"field\":\"x\"},\"y\":{\"field\":\"y\"}},\"id\":\"2051\",\"type\":\"Ellipse\"},{\"attributes\":{\"line_color\":\"red\",\"x\":{\"field\":\"x\"},\"y\":{\"field\":\"y\"}},\"id\":\"2001\",\"type\":\"Line\"},{\"attributes\":{},\"id\":\"2150\",\"type\":\"BasicTickFormatter\"},{\"attributes\":{\"data\":{\"x\":[15,14,14,14,13,12,10,9,8,8,9,10,11,11,12,11,11,9,8,7,7],\"y\":[3,3,5,3,2,0,0,0,1,3,3,3,4,7,8,7,5,7,8,10,11]},\"selected\":{\"id\":\"2157\"},\"selection_policy\":{\"id\":\"2156\"}},\"id\":\"2012\",\"type\":\"ColumnDataSource\"},{\"attributes\":{},\"id\":\"2148\",\"type\":\"AllLabels\"},{\"attributes\":{\"line_alpha\":0.1,\"line_color\":\"red\",\"x\":{\"field\":\"x\"},\"y\":{\"field\":\"y\"}},\"id\":\"2002\",\"type\":\"Line\"},{\"attributes\":{\"bottom_units\":\"screen\",\"coordinates\":null,\"fill_alpha\":0.5,\"fill_color\":\"lightgrey\",\"group\":null,\"left_units\":\"screen\",\"level\":\"overlay\",\"line_alpha\":1.0,\"line_color\":\"black\",\"line_dash\":[4,4],\"line_width\":2,\"right_units\":\"screen\",\"syncable\":false,\"top_units\":\"screen\"},\"id\":\"1992\",\"type\":\"BoxAnnotation\"},{\"attributes\":{},\"id\":\"2147\",\"type\":\"BasicTickFormatter\"},{\"attributes\":{},\"id\":\"2163\",\"type\":\"Selection\"},{\"attributes\":{},\"id\":\"1990\",\"type\":\"ResetTool\"},{\"attributes\":{\"fill_alpha\":{\"value\":0.2},\"fill_color\":{\"value\":\"white\"},\"hatch_alpha\":{\"value\":0.2},\"hatch_color\":{\"value\":\"blue\"},\"line_alpha\":{\"value\":0.2},\"line_color\":{\"value\":\"blue\"},\"line_width\":{\"value\":3},\"x\":{\"field\":\"x\"},\"y\":{\"field\":\"y\"}},\"id\":\"2039\",\"type\":\"Circle\"},{\"attributes\":{},\"id\":\"1989\",\"type\":\"SaveTool\"},{\"attributes\":{\"fill_alpha\":{\"value\":0.1},\"fill_color\":{\"value\":\"white\"},\"hatch_alpha\":{\"value\":0.1},\"hatch_color\":{\"value\":\"blue\"},\"line_alpha\":{\"value\":0.1},\"line_color\":{\"value\":\"blue\"},\"line_width\":{\"value\":3},\"x\":{\"field\":\"x\"},\"y\":{\"field\":\"y\"}},\"id\":\"2038\",\"type\":\"Circle\"},{\"attributes\":{\"overlay\":{\"id\":\"1992\"}},\"id\":\"1988\",\"type\":\"BoxZoomTool\"},{\"attributes\":{\"source\":{\"id\":\"2036\"}},\"id\":\"2041\",\"type\":\"CDSView\"},{\"attributes\":{},\"id\":\"1986\",\"type\":\"PanTool\"},{\"attributes\":{},\"id\":\"1987\",\"type\":\"WheelZoomTool\"},{\"attributes\":{\"data\":{\"x\":[4],\"y\":[3]},\"selected\":{\"id\":\"2169\"},\"selection_policy\":{\"id\":\"2168\"}},\"id\":\"2048\",\"type\":\"ColumnDataSource\"},{\"attributes\":{\"coordinates\":null,\"data_source\":{\"id\":\"2006\"},\"glyph\":{\"id\":\"2007\"},\"group\":null,\"hover_glyph\":null,\"muted_glyph\":{\"id\":\"2009\"},\"nonselection_glyph\":{\"id\":\"2008\"},\"view\":{\"id\":\"2011\"}},\"id\":\"2010\",\"type\":\"GlyphRenderer\"},{\"attributes\":{},\"id\":\"1983\",\"type\":\"BasicTicker\"},{\"attributes\":{\"fill_alpha\":{\"value\":0.2},\"fill_color\":{\"value\":\"green\"},\"hatch_alpha\":{\"value\":0.2},\"hatch_color\":{\"value\":\"green\"},\"line_alpha\":{\"value\":0.2},\"line_color\":{\"value\":\"green\"},\"top\":{\"field\":\"top\"},\"width\":{\"value\":0.5},\"x\":{\"field\":\"x\"}},\"id\":\"2045\",\"type\":\"VBar\"},{\"attributes\":{\"axis\":{\"id\":\"1982\"},\"coordinates\":null,\"dimension\":1,\"group\":null,\"ticker\":null},\"id\":\"1985\",\"type\":\"Grid\"},{\"attributes\":{\"coordinates\":null,\"data_source\":{\"id\":\"2018\"},\"glyph\":{\"id\":\"2019\"},\"group\":null,\"hover_glyph\":null,\"muted_glyph\":{\"id\":\"2021\"},\"nonselection_glyph\":{\"id\":\"2020\"},\"view\":{\"id\":\"2023\"}},\"id\":\"2022\",\"type\":\"GlyphRenderer\"},{\"attributes\":{\"line_color\":\"brown\",\"x\":{\"field\":\"x\"},\"y\":{\"field\":\"y\"}},\"id\":\"2007\",\"type\":\"Line\"},{\"attributes\":{\"line_alpha\":0.2,\"line_color\":\"brown\",\"x\":{\"field\":\"x\"},\"y\":{\"field\":\"y\"}},\"id\":\"2009\",\"type\":\"Line\"},{\"attributes\":{\"axis\":{\"id\":\"1978\"},\"coordinates\":null,\"group\":null,\"ticker\":null},\"id\":\"1981\",\"type\":\"Grid\"},{\"attributes\":{\"data\":{\"x\":[7],\"y\":[19]},\"selected\":{\"id\":\"2163\"},\"selection_policy\":{\"id\":\"2162\"}},\"id\":\"2030\",\"type\":\"ColumnDataSource\"},{\"attributes\":{},\"id\":\"1979\",\"type\":\"BasicTicker\"},{\"attributes\":{\"fill_color\":{\"value\":\"white\"},\"hatch_color\":{\"value\":\"blue\"},\"line_color\":{\"value\":\"blue\"},\"line_width\":{\"value\":3},\"size\":{\"value\":14},\"x\":{\"field\":\"x\"},\"y\":{\"field\":\"y\"}},\"id\":\"2031\",\"type\":\"Circle\"},{\"attributes\":{},\"id\":\"1991\",\"type\":\"HelpTool\"},{\"attributes\":{\"line_alpha\":0.2,\"line_color\":\"brown\",\"x\":{\"field\":\"x\"},\"y\":{\"field\":\"y\"}},\"id\":\"2015\",\"type\":\"Line\"},{\"attributes\":{},\"id\":\"1974\",\"type\":\"LinearScale\"},{\"attributes\":{},\"id\":\"1976\",\"type\":\"LinearScale\"},{\"attributes\":{\"source\":{\"id\":\"2012\"}},\"id\":\"2017\",\"type\":\"CDSView\"},{\"attributes\":{\"coordinates\":null,\"formatter\":{\"id\":\"2150\"},\"group\":null,\"major_label_policy\":{\"id\":\"2151\"},\"ticker\":{\"id\":\"1979\"}},\"id\":\"1978\",\"type\":\"LinearAxis\"},{\"attributes\":{\"coordinates\":null,\"group\":null},\"id\":\"2144\",\"type\":\"Title\"},{\"attributes\":{\"coordinates\":null,\"formatter\":{\"id\":\"2147\"},\"group\":null,\"major_label_policy\":{\"id\":\"2148\"},\"ticker\":{\"id\":\"1983\"}},\"id\":\"1982\",\"type\":\"LinearAxis\"},{\"attributes\":{},\"id\":\"1972\",\"type\":\"DataRange1d\"},{\"attributes\":{\"data\":{\"x\":[9,15,16,18,18,15,13,10,12,13,13,13,15,18,20,23,24,25,27,28,29,29,29,31,33,33,27,22,17,15,14,14,15,17,18,18,17,16,17,19,22],\"y\":[22,31,32,32,30,26,24,22,22,21,19,21,23,24,24,23,23,22,19,16,12,5,6,7,5,2,0,0,0,1,2,3,4,3,4,6,8,11,14,15]},\"selected\":{\"id\":\"2155\"},\"selection_policy\":{\"id\":\"2154\"}},\"id\":\"2006\",\"type\":\"ColumnDataSource\"},{\"attributes\":{},\"id\":\"1970\",\"type\":\"DataRange1d\"},{\"attributes\":{\"coordinates\":null,\"data_source\":{\"id\":\"2000\"},\"glyph\":{\"id\":\"2001\"},\"group\":null,\"hover_glyph\":null,\"muted_glyph\":{\"id\":\"2003\"},\"nonselection_glyph\":{\"id\":\"2002\"},\"view\":{\"id\":\"2005\"}},\"id\":\"2004\",\"type\":\"GlyphRenderer\"},{\"attributes\":{\"data\":{\"x\":[10,8,6,5,4,3,2,3,4,5,8,9,10,11,13,14,15,14,9],\"y\":[12,11,11,12,12,13,15,18,20,22,23,27,29,32,34,34,33,32,22]},\"selected\":{\"id\":\"2153\"},\"selection_policy\":{\"id\":\"2152\"}},\"id\":\"2000\",\"type\":\"ColumnDataSource\"},{\"attributes\":{},\"id\":\"2166\",\"type\":\"UnionRenderers\"},{\"attributes\":{},\"id\":\"2167\",\"type\":\"Selection\"},{\"attributes\":{},\"id\":\"2161\",\"type\":\"Selection\"}],\"root_ids\":[\"1969\"]},\"title\":\"Bokeh Application\",\"version\":\"2.4.3\"}};\n",
       "  const render_items = [{\"docid\":\"8d1aea94-7bca-4333-8cc5-15955bca9f5c\",\"root_ids\":[\"1969\"],\"roots\":{\"1969\":\"6c642a34-d207-4462-8561-fc07e2fbcd38\"}}];\n",
       "  root.Bokeh.embed.embed_items_notebook(docs_json, render_items);\n",
       "  }\n",
       "  if (root.Bokeh !== undefined) {\n",
       "    embed_document(root);\n",
       "  } else {\n",
       "    let attempts = 0;\n",
       "    const timer = setInterval(function(root) {\n",
       "      if (root.Bokeh !== undefined) {\n",
       "        clearInterval(timer);\n",
       "        embed_document(root);\n",
       "      } else {\n",
       "        attempts++;\n",
       "        if (attempts > 100) {\n",
       "          clearInterval(timer);\n",
       "          console.log(\"Bokeh: ERROR: Unable to run BokehJS code because BokehJS library is missing\");\n",
       "        }\n",
       "      }\n",
       "    }, 10, root)\n",
       "  }\n",
       "})(window);"
      ],
      "application/vnd.bokehjs_exec.v0+json": ""
     },
     "metadata": {
      "application/vnd.bokehjs_exec.v0+json": {
       "id": "1969"
      }
     },
     "output_type": "display_data"
    }
   ],
   "source": [
    "p = figure(plot_width=400, plot_height=400)\n",
    "\n",
    "p.line([10, 8, 6, 5, 4, 3, 2, 3, 4, 5, 8, 9, 10, 11, 13, 14, 15, 14, 9],\n",
    "       [12, 11, 11, 12, 12, 13, 15, 18, 20, 22, 23, 27, 29, 32, 34, 34, 33, 32, 22], \n",
    "       color=\"red\")\n",
    "\n",
    "p.line([9, 15, 16, 18, 18, 15, 13, 10, 12, 13, 13, 13, 15, 18, 20, 23, 24, 25, \n",
    "        27, 28, 29, 29, 29, 31, 33, 33, 27, 22, 17, 15, 14, 14, 15, 17, 18, 18, 17, 16, 17, 19, 22],\n",
    "       [22, 31, 32, 32, 30, 26, 24, 22, 22, 21, 19, 21, 23, 24, 24, 23, 23, 22, 19, 16, 12, \n",
    "        5, 6, 7, 5, 2, 0, 0, 0, 1, 2, 3, 4, 3, 4, 6, 8, 11, 14, 15], \n",
    "       color=\"brown\")\n",
    "\n",
    "p.line([15, 14, 14, 14, 13, 12, 10, 9, 8, 8, 9, 10, 11, 11, 12, 11, 11, 9, 8, 7, 7],\n",
    "       [3, 3, 5, 3, 2, 0, 0, 0, 1, 3, 3, 3, 4, 7, 8, 7, 5, 7, 8, 10, 11], \n",
    "       color='brown')\n",
    "\n",
    "p.line([9, 9, 7, 6, 7, 9], \n",
    "       [7, 4, 4, 2, 0, 0], \n",
    "       color='red')\n",
    "\n",
    "p.square([2, 3, 4, 3, 4, 3.5, 5, 4.5, 2.5, 2.5, 3.5, 2.5, 3, 3.5, 4, 4.5],\n",
    "         [15, 16, 17, 15, 15, 15, 15, 15, 15, 15.5, 16.5, 14.5, 14, 13.5, 13], \n",
    "         color='purple', \n",
    "         size=2, \n",
    "         angle=-0.7)\n",
    "\n",
    "p.circle([7], [19], color='blue', size=14, fill_color=\"white\", line_width=3)\n",
    "p.circle([7], [19], color='blue', size=4, fill_color=\"white\", line_width=3)\n",
    "\n",
    "p.vbar(x=range(35), \n",
    "       top=[1, 2, 3, 4, 3, \n",
    "            4, 1, 2, 1, 2, \n",
    "            4, 2, 1, 2, 1, \n",
    "            2, 4, 3, 2, 2, \n",
    "            3, 1, 2, 1, 3, \n",
    "            2, 1, 2, 3, 2,  \n",
    "            1, 2, 3, 4, 2], \n",
    "       width=0.5, \n",
    "       color='green')\n",
    "\n",
    "p.ellipse(x=[4], \n",
    "          y=[3], \n",
    "          width=5, \n",
    "          height=6, \n",
    "          line_color=\"black\", \n",
    "          fill_color='orange', \n",
    "          line_width=3, \n",
    "          line_dash='dashed')\n",
    "\n",
    "show(p)"
   ]
  },
  {
   "cell_type": "markdown",
   "metadata": {},
   "source": [
    "### <b><font color='blue'>Your Turn: Glyphs</font></b><a id='first_act'></a>\n",
    "\n",
    "Try out any of the glyphs. Change color and shape to your liking.\n",
    "\n",
    "Don't forget to start by defining the figure, e.g. with `p = figure()`. Show your plot with `show(p)`.\n"
   ]
  },
  {
   "cell_type": "markdown",
   "metadata": {},
   "source": [
    "## Plotting data<a id='plotting'></a>\n",
    "[[back to top]](#top)\n",
    "\n",
    "Load the easter egg dataset and plot the data in scatter plot."
   ]
  },
  {
   "cell_type": "code",
   "execution_count": 7,
   "metadata": {},
   "outputs": [
    {
     "data": {
      "text/html": [
       "<div>\n",
       "<style scoped>\n",
       "    .dataframe tbody tr th:only-of-type {\n",
       "        vertical-align: middle;\n",
       "    }\n",
       "\n",
       "    .dataframe tbody tr th {\n",
       "        vertical-align: top;\n",
       "    }\n",
       "\n",
       "    .dataframe thead th {\n",
       "        text-align: right;\n",
       "    }\n",
       "</style>\n",
       "<table border=\"1\" class=\"dataframe\">\n",
       "  <thead>\n",
       "    <tr style=\"text-align: right;\">\n",
       "      <th></th>\n",
       "      <th>fat</th>\n",
       "      <th>protein</th>\n",
       "      <th>length</th>\n",
       "      <th>width</th>\n",
       "      <th>type</th>\n",
       "    </tr>\n",
       "  </thead>\n",
       "  <tbody>\n",
       "    <tr>\n",
       "      <th>0</th>\n",
       "      <td>5.1</td>\n",
       "      <td>3.5</td>\n",
       "      <td>1.4</td>\n",
       "      <td>0.2</td>\n",
       "      <td>Vegan chocolate egg</td>\n",
       "    </tr>\n",
       "    <tr>\n",
       "      <th>1</th>\n",
       "      <td>4.9</td>\n",
       "      <td>3.0</td>\n",
       "      <td>1.4</td>\n",
       "      <td>0.2</td>\n",
       "      <td>Vegan chocolate egg</td>\n",
       "    </tr>\n",
       "    <tr>\n",
       "      <th>2</th>\n",
       "      <td>4.7</td>\n",
       "      <td>3.2</td>\n",
       "      <td>1.3</td>\n",
       "      <td>0.2</td>\n",
       "      <td>Vegan chocolate egg</td>\n",
       "    </tr>\n",
       "    <tr>\n",
       "      <th>3</th>\n",
       "      <td>4.6</td>\n",
       "      <td>3.1</td>\n",
       "      <td>1.5</td>\n",
       "      <td>0.2</td>\n",
       "      <td>Vegan chocolate egg</td>\n",
       "    </tr>\n",
       "    <tr>\n",
       "      <th>4</th>\n",
       "      <td>5.0</td>\n",
       "      <td>3.6</td>\n",
       "      <td>1.4</td>\n",
       "      <td>0.2</td>\n",
       "      <td>Vegan chocolate egg</td>\n",
       "    </tr>\n",
       "  </tbody>\n",
       "</table>\n",
       "</div>"
      ],
      "text/plain": [
       "   fat  protein  length  width                 type\n",
       "0  5.1      3.5     1.4    0.2  Vegan chocolate egg\n",
       "1  4.9      3.0     1.4    0.2  Vegan chocolate egg\n",
       "2  4.7      3.2     1.3    0.2  Vegan chocolate egg\n",
       "3  4.6      3.1     1.5    0.2  Vegan chocolate egg\n",
       "4  5.0      3.6     1.4    0.2  Vegan chocolate egg"
      ]
     },
     "execution_count": 7,
     "metadata": {},
     "output_type": "execute_result"
    }
   ],
   "source": [
    "egg_data = pd.read_csv(\"../data/easter_eggs.csv\")\n",
    "egg_data.head()"
   ]
  },
  {
   "cell_type": "markdown",
   "metadata": {},
   "source": [
    "### First scatter plot<a id='first_plot'></a>\n",
    "[[back to top]](#top)\n",
    "\n",
    "First, we're plotting a simple scatter plot, showing the relation of width and length for the different egg types."
   ]
  },
  {
   "cell_type": "code",
   "execution_count": 8,
   "metadata": {},
   "outputs": [
    {
     "data": {
      "text/html": [
       "\n",
       "  <div class=\"bk-root\" id=\"05f0d1fa-1186-4b73-8145-bf1a6760ed28\" data-root-id=\"2306\"></div>\n"
      ]
     },
     "metadata": {},
     "output_type": "display_data"
    },
    {
     "data": {
      "application/javascript": [
       "(function(root) {\n",
       "  function embed_document(root) {\n",
       "  const docs_json = {\"8cac0ce4-fdb3-46d9-af25-67592b9b5939\":{\"defs\":[],\"roots\":{\"references\":[{\"attributes\":{\"below\":[{\"id\":\"2317\"}],\"center\":[{\"id\":\"2320\"},{\"id\":\"2324\"},{\"id\":\"2358\"}],\"left\":[{\"id\":\"2321\"}],\"renderers\":[{\"id\":\"2346\"}],\"title\":{\"id\":\"2307\"},\"toolbar\":{\"id\":\"2332\"},\"x_range\":{\"id\":\"2309\"},\"x_scale\":{\"id\":\"2313\"},\"y_range\":{\"id\":\"2311\"},\"y_scale\":{\"id\":\"2315\"}},\"id\":\"2306\",\"subtype\":\"Figure\",\"type\":\"Plot\"},{\"attributes\":{\"tools\":[{\"id\":\"2325\"},{\"id\":\"2326\"},{\"id\":\"2327\"},{\"id\":\"2328\"},{\"id\":\"2329\"},{\"id\":\"2330\"}]},\"id\":\"2332\",\"type\":\"Toolbar\"},{\"attributes\":{\"coordinates\":null,\"group\":null,\"items\":[{\"id\":\"2359\"}],\"location\":\"top_left\"},\"id\":\"2358\",\"type\":\"Legend\"},{\"attributes\":{},\"id\":\"2330\",\"type\":\"HelpTool\"},{\"attributes\":{},\"id\":\"2354\",\"type\":\"AllLabels\"},{\"attributes\":{\"coordinates\":null,\"data_source\":{\"id\":\"2341\"},\"glyph\":{\"id\":\"2343\"},\"group\":null,\"hover_glyph\":null,\"muted_glyph\":{\"id\":\"2345\"},\"nonselection_glyph\":{\"id\":\"2344\"},\"view\":{\"id\":\"2347\"}},\"id\":\"2346\",\"type\":\"GlyphRenderer\"},{\"attributes\":{\"fill_alpha\":{\"value\":0.4},\"fill_color\":{\"field\":\"type\",\"transform\":{\"id\":\"2340\"}},\"hatch_color\":{\"field\":\"type\",\"transform\":{\"id\":\"2340\"}},\"line_color\":{\"field\":\"type\",\"transform\":{\"id\":\"2340\"}},\"marker\":{\"field\":\"type\",\"transform\":{\"id\":\"2339\"}},\"size\":{\"value\":12},\"x\":{\"field\":\"length\"},\"y\":{\"field\":\"width\"}},\"id\":\"2343\",\"type\":\"Scatter\"},{\"attributes\":{},\"id\":\"2351\",\"type\":\"AllLabels\"},{\"attributes\":{\"label\":{\"field\":\"type\"},\"renderers\":[{\"id\":\"2346\"}]},\"id\":\"2359\",\"type\":\"LegendItem\"},{\"attributes\":{\"axis_label\":\"Length (cm)\",\"coordinates\":null,\"formatter\":{\"id\":\"2353\"},\"group\":null,\"major_label_policy\":{\"id\":\"2354\"},\"ticker\":{\"id\":\"2318\"}},\"id\":\"2317\",\"type\":\"LinearAxis\"},{\"attributes\":{},\"id\":\"2329\",\"type\":\"ResetTool\"},{\"attributes\":{},\"id\":\"2313\",\"type\":\"LinearScale\"},{\"attributes\":{\"source\":{\"id\":\"2341\"}},\"id\":\"2347\",\"type\":\"CDSView\"},{\"attributes\":{\"axis\":{\"id\":\"2317\"},\"coordinates\":null,\"group\":null,\"ticker\":null},\"id\":\"2320\",\"type\":\"Grid\"},{\"attributes\":{},\"id\":\"2318\",\"type\":\"BasicTicker\"},{\"attributes\":{\"axis_label\":\"Width (cm)\",\"coordinates\":null,\"formatter\":{\"id\":\"2350\"},\"group\":null,\"major_label_policy\":{\"id\":\"2351\"},\"ticker\":{\"id\":\"2322\"}},\"id\":\"2321\",\"type\":\"LinearAxis\"},{\"attributes\":{},\"id\":\"2356\",\"type\":\"Selection\"},{\"attributes\":{\"coordinates\":null,\"group\":null,\"text\":\"Egg width and length\"},\"id\":\"2307\",\"type\":\"Title\"},{\"attributes\":{\"overlay\":{\"id\":\"2331\"}},\"id\":\"2327\",\"type\":\"BoxZoomTool\"},{\"attributes\":{\"bottom_units\":\"screen\",\"coordinates\":null,\"fill_alpha\":0.5,\"fill_color\":\"lightgrey\",\"group\":null,\"left_units\":\"screen\",\"level\":\"overlay\",\"line_alpha\":1.0,\"line_color\":\"black\",\"line_dash\":[4,4],\"line_width\":2,\"right_units\":\"screen\",\"syncable\":false,\"top_units\":\"screen\"},\"id\":\"2331\",\"type\":\"BoxAnnotation\"},{\"attributes\":{},\"id\":\"2355\",\"type\":\"UnionRenderers\"},{\"attributes\":{},\"id\":\"2353\",\"type\":\"BasicTickFormatter\"},{\"attributes\":{},\"id\":\"2328\",\"type\":\"SaveTool\"},{\"attributes\":{},\"id\":\"2325\",\"type\":\"PanTool\"},{\"attributes\":{},\"id\":\"2326\",\"type\":\"WheelZoomTool\"},{\"attributes\":{},\"id\":\"2309\",\"type\":\"DataRange1d\"},{\"attributes\":{},\"id\":\"2350\",\"type\":\"BasicTickFormatter\"},{\"attributes\":{},\"id\":\"2311\",\"type\":\"DataRange1d\"},{\"attributes\":{\"factors\":[\"Chocolate egg\",\"Vegan chocolate egg\",\"Real egg\"],\"palette\":[\"#2b83ba\",\"#abdda4\",\"#fdae61\",\"#d7191c\"]},\"id\":\"2340\",\"type\":\"CategoricalColorMapper\"},{\"attributes\":{},\"id\":\"2315\",\"type\":\"LinearScale\"},{\"attributes\":{\"fill_alpha\":{\"value\":0.2},\"fill_color\":{\"field\":\"type\",\"transform\":{\"id\":\"2340\"}},\"hatch_alpha\":{\"value\":0.2},\"hatch_color\":{\"field\":\"type\",\"transform\":{\"id\":\"2340\"}},\"line_alpha\":{\"value\":0.2},\"line_color\":{\"field\":\"type\",\"transform\":{\"id\":\"2340\"}},\"marker\":{\"field\":\"type\",\"transform\":{\"id\":\"2339\"}},\"size\":{\"value\":12},\"x\":{\"field\":\"length\"},\"y\":{\"field\":\"width\"}},\"id\":\"2345\",\"type\":\"Scatter\"},{\"attributes\":{\"factors\":[\"Chocolate egg\",\"Vegan chocolate egg\",\"Real egg\"],\"markers\":[\"circle\",\"hex_dot\",\"inverted_triangle\"]},\"id\":\"2339\",\"type\":\"CategoricalMarkerMapper\"},{\"attributes\":{\"fill_alpha\":{\"value\":0.1},\"fill_color\":{\"field\":\"type\",\"transform\":{\"id\":\"2340\"}},\"hatch_alpha\":{\"value\":0.1},\"hatch_color\":{\"field\":\"type\",\"transform\":{\"id\":\"2340\"}},\"line_alpha\":{\"value\":0.1},\"line_color\":{\"field\":\"type\",\"transform\":{\"id\":\"2340\"}},\"marker\":{\"field\":\"type\",\"transform\":{\"id\":\"2339\"}},\"size\":{\"value\":12},\"x\":{\"field\":\"length\"},\"y\":{\"field\":\"width\"}},\"id\":\"2344\",\"type\":\"Scatter\"},{\"attributes\":{},\"id\":\"2322\",\"type\":\"BasicTicker\"},{\"attributes\":{\"axis\":{\"id\":\"2321\"},\"coordinates\":null,\"dimension\":1,\"group\":null,\"ticker\":null},\"id\":\"2324\",\"type\":\"Grid\"},{\"attributes\":{\"data\":{\"fat\":{\"__ndarray__\":\"ZmZmZmZmFECamZmZmZkTQM3MzMzMzBJAZmZmZmZmEkAAAAAAAAAUQJqZmZmZmRVAZmZmZmZmEkAAAAAAAAAUQJqZmZmZmRFAmpmZmZmZE0CamZmZmZkVQDMzMzMzMxNAMzMzMzMzE0AzMzMzMzMRQDMzMzMzMxdAzczMzMzMFkCamZmZmZkVQGZmZmZmZhRAzczMzMzMFkBmZmZmZmYUQJqZmZmZmRVAZmZmZmZmFEBmZmZmZmYSQGZmZmZmZhRAMzMzMzMzE0AAAAAAAAAUQAAAAAAAABRAzczMzMzMFEDNzMzMzMwUQM3MzMzMzBJAMzMzMzMzE0CamZmZmZkVQM3MzMzMzBRAAAAAAAAAFkCamZmZmZkTQAAAAAAAABRAAAAAAAAAFkCamZmZmZkTQJqZmZmZmRFAZmZmZmZmFEAAAAAAAAAUQAAAAAAAABJAmpmZmZmZEUAAAAAAAAAUQGZmZmZmZhRAMzMzMzMzE0BmZmZmZmYUQGZmZmZmZhJAMzMzMzMzFUAAAAAAAAAUQAAAAAAAABxAmpmZmZmZGUCamZmZmZkbQAAAAAAAABZAAAAAAAAAGkDNzMzMzMwWQDMzMzMzMxlAmpmZmZmZE0BmZmZmZmYaQM3MzMzMzBRAAAAAAAAAFECamZmZmZkXQAAAAAAAABhAZmZmZmZmGEBmZmZmZmYWQM3MzMzMzBpAZmZmZmZmFkAzMzMzMzMXQM3MzMzMzBhAZmZmZmZmFkCamZmZmZkXQGZmZmZmZhhAMzMzMzMzGUBmZmZmZmYYQJqZmZmZmRlAZmZmZmZmGkAzMzMzMzMbQM3MzMzMzBpAAAAAAAAAGEDNzMzMzMwWQAAAAAAAABZAAAAAAAAAFkAzMzMzMzMXQAAAAAAAABhAmpmZmZmZFUAAAAAAAAAYQM3MzMzMzBpAMzMzMzMzGUBmZmZmZmYWQAAAAAAAABZAAAAAAAAAFkBmZmZmZmYYQDMzMzMzMxdAAAAAAAAAFEBmZmZmZmYWQM3MzMzMzBZAzczMzMzMFkDNzMzMzMwYQGZmZmZmZhRAzczMzMzMFkAzMzMzMzMZQDMzMzMzMxdAZmZmZmZmHEAzMzMzMzMZQAAAAAAAABpAZmZmZmZmHkCamZmZmZkTQDMzMzMzMx1AzczMzMzMGkDNzMzMzMwcQAAAAAAAABpAmpmZmZmZGUAzMzMzMzMbQM3MzMzMzBZAMzMzMzMzF0CamZmZmZkZQAAAAAAAABpAzczMzMzMHkDNzMzMzMweQAAAAAAAABhAmpmZmZmZG0BmZmZmZmYWQM3MzMzMzB5AMzMzMzMzGUDNzMzMzMwaQM3MzMzMzBxAzczMzMzMGEBmZmZmZmYYQJqZmZmZmRlAzczMzMzMHECamZmZmZkdQJqZmZmZmR9AmpmZmZmZGUAzMzMzMzMZQGZmZmZmZhhAzczMzMzMHkAzMzMzMzMZQJqZmZmZmRlAAAAAAAAAGECamZmZmZkbQM3MzMzMzBpAmpmZmZmZG0AzMzMzMzMXQDMzMzMzMxtAzczMzMzMGkDNzMzMzMwaQDMzMzMzMxlAAAAAAAAAGkDNzMzMzMwYQJqZmZmZmRdA\",\"dtype\":\"float64\",\"order\":\"little\",\"shape\":[150]},\"index\":[0,1,2,3,4,5,6,7,8,9,10,11,12,13,14,15,16,17,18,19,20,21,22,23,24,25,26,27,28,29,30,31,32,33,34,35,36,37,38,39,40,41,42,43,44,45,46,47,48,49,50,51,52,53,54,55,56,57,58,59,60,61,62,63,64,65,66,67,68,69,70,71,72,73,74,75,76,77,78,79,80,81,82,83,84,85,86,87,88,89,90,91,92,93,94,95,96,97,98,99,100,101,102,103,104,105,106,107,108,109,110,111,112,113,114,115,116,117,118,119,120,121,122,123,124,125,126,127,128,129,130,131,132,133,134,135,136,137,138,139,140,141,142,143,144,145,146,147,148,149],\"length\":{\"__ndarray__\":\"ZmZmZmZm9j9mZmZmZmb2P83MzMzMzPQ/AAAAAAAA+D9mZmZmZmb2PzMzMzMzM/s/ZmZmZmZm9j8AAAAAAAD4P2ZmZmZmZvY/AAAAAAAA+D8AAAAAAAD4P5qZmZmZmfk/ZmZmZmZm9j+amZmZmZnxPzMzMzMzM/M/AAAAAAAA+D/NzMzMzMz0P2ZmZmZmZvY/MzMzMzMz+z8AAAAAAAD4PzMzMzMzM/s/AAAAAAAA+D8AAAAAAADwPzMzMzMzM/s/ZmZmZmZm/j+amZmZmZn5P5qZmZmZmfk/AAAAAAAA+D9mZmZmZmb2P5qZmZmZmfk/mpmZmZmZ+T8AAAAAAAD4PwAAAAAAAPg/ZmZmZmZm9j8AAAAAAAD4PzMzMzMzM/M/zczMzMzM9D9mZmZmZmb2P83MzMzMzPQ/AAAAAAAA+D/NzMzMzMz0P83MzMzMzPQ/zczMzMzM9D+amZmZmZn5P2ZmZmZmZv4/ZmZmZmZm9j+amZmZmZn5P2ZmZmZmZvY/AAAAAAAA+D9mZmZmZmb2P83MzMzMzBJAAAAAAAAAEkCamZmZmZkTQAAAAAAAABBAZmZmZmZmEkAAAAAAAAASQM3MzMzMzBJAZmZmZmZmCkBmZmZmZmYSQDMzMzMzMw9AAAAAAAAADEDNzMzMzMwQQAAAAAAAABBAzczMzMzMEkDNzMzMzMwMQJqZmZmZmRFAAAAAAAAAEkBmZmZmZmYQQAAAAAAAABJAMzMzMzMzD0AzMzMzMzMTQAAAAAAAABBAmpmZmZmZE0DNzMzMzMwSQDMzMzMzMxFAmpmZmZmZEUAzMzMzMzMTQAAAAAAAABRAAAAAAAAAEkAAAAAAAAAMQGZmZmZmZg5AmpmZmZmZDUAzMzMzMzMPQGZmZmZmZhRAAAAAAAAAEkAAAAAAAAASQM3MzMzMzBJAmpmZmZmZEUBmZmZmZmYQQAAAAAAAABBAmpmZmZmZEUBmZmZmZmYSQAAAAAAAABBAZmZmZmZmCkDNzMzMzMwQQM3MzMzMzBBAzczMzMzMEEAzMzMzMzMRQAAAAAAAAAhAZmZmZmZmEEAAAAAAAAAYQGZmZmZmZhRAmpmZmZmZF0BmZmZmZmYWQDMzMzMzMxdAZmZmZmZmGkAAAAAAAAASQDMzMzMzMxlAMzMzMzMzF0BmZmZmZmYYQGZmZmZmZhRAMzMzMzMzFUAAAAAAAAAWQAAAAAAAABRAZmZmZmZmFEAzMzMzMzMVQAAAAAAAABZAzczMzMzMGkCamZmZmZkbQAAAAAAAABRAzczMzMzMFkCamZmZmZkTQM3MzMzMzBpAmpmZmZmZE0DNzMzMzMwWQAAAAAAAABhAMzMzMzMzE0CamZmZmZkTQGZmZmZmZhZAMzMzMzMzF0BmZmZmZmYYQJqZmZmZmRlAZmZmZmZmFkBmZmZmZmYUQGZmZmZmZhZAZmZmZmZmGEBmZmZmZmYWQAAAAAAAABZAMzMzMzMzE0CamZmZmZkVQGZmZmZmZhZAZmZmZmZmFEBmZmZmZmYUQJqZmZmZmRdAzczMzMzMFkDNzMzMzMwUQAAAAAAAABRAzczMzMzMFECamZmZmZkVQGZmZmZmZhRA\",\"dtype\":\"float64\",\"order\":\"little\",\"shape\":[150]},\"protein\":{\"__ndarray__\":\"AAAAAAAADEAAAAAAAAAIQJqZmZmZmQlAzczMzMzMCEDNzMzMzMwMQDMzMzMzMw9AMzMzMzMzC0AzMzMzMzMLQDMzMzMzMwdAzczMzMzMCECamZmZmZkNQDMzMzMzMwtAAAAAAAAACEAAAAAAAAAIQAAAAAAAABBAmpmZmZmZEUAzMzMzMzMPQAAAAAAAAAxAZmZmZmZmDkBmZmZmZmYOQDMzMzMzMwtAmpmZmZmZDUDNzMzMzMwMQGZmZmZmZgpAMzMzMzMzC0AAAAAAAAAIQDMzMzMzMwtAAAAAAAAADEAzMzMzMzMLQJqZmZmZmQlAzczMzMzMCEAzMzMzMzMLQGZmZmZmZhBAzczMzMzMEEDNzMzMzMwIQJqZmZmZmQlAAAAAAAAADEDNzMzMzMwMQAAAAAAAAAhAMzMzMzMzC0AAAAAAAAAMQGZmZmZmZgJAmpmZmZmZCUAAAAAAAAAMQGZmZmZmZg5AAAAAAAAACEBmZmZmZmYOQJqZmZmZmQlAmpmZmZmZDUBmZmZmZmYKQJqZmZmZmQlAmpmZmZmZCUDNzMzMzMwIQGZmZmZmZgJAZmZmZmZmBkBmZmZmZmYGQGZmZmZmZgpAMzMzMzMzA0AzMzMzMzMHQJqZmZmZmQVAAAAAAAAAAEAAAAAAAAAIQJqZmZmZmQFAMzMzMzMzB0AzMzMzMzMHQM3MzMzMzAhAAAAAAAAACECamZmZmZkFQJqZmZmZmQFAAAAAAAAABECamZmZmZkJQGZmZmZmZgZAAAAAAAAABEBmZmZmZmYGQDMzMzMzMwdAAAAAAAAACEBmZmZmZmYGQAAAAAAAAAhAMzMzMzMzB0DNzMzMzMwEQDMzMzMzMwNAMzMzMzMzA0CamZmZmZkFQJqZmZmZmQVAAAAAAAAACEAzMzMzMzMLQM3MzMzMzAhAZmZmZmZmAkAAAAAAAAAIQAAAAAAAAARAzczMzMzMBEAAAAAAAAAIQM3MzMzMzARAZmZmZmZmAkCamZmZmZkFQAAAAAAAAAhAMzMzMzMzB0AzMzMzMzMHQAAAAAAAAARAZmZmZmZmBkBmZmZmZmYKQJqZmZmZmQVAAAAAAAAACEAzMzMzMzMHQAAAAAAAAAhAAAAAAAAACEAAAAAAAAAEQDMzMzMzMwdAAAAAAAAABEDNzMzMzMwMQJqZmZmZmQlAmpmZmZmZBUAAAAAAAAAIQAAAAAAAAARAZmZmZmZmBkCamZmZmZkJQAAAAAAAAAhAZmZmZmZmDkDNzMzMzMwEQJqZmZmZmQFAmpmZmZmZCUBmZmZmZmYGQGZmZmZmZgZAmpmZmZmZBUBmZmZmZmYKQJqZmZmZmQlAZmZmZmZmBkAAAAAAAAAIQGZmZmZmZgZAAAAAAAAACEBmZmZmZmYGQGZmZmZmZg5AZmZmZmZmBkBmZmZmZmYGQM3MzMzMzARAAAAAAAAACEAzMzMzMzMLQM3MzMzMzAhAAAAAAAAACEDNzMzMzMwIQM3MzMzMzAhAzczMzMzMCECamZmZmZkFQJqZmZmZmQlAZmZmZmZmCkAAAAAAAAAIQAAAAAAAAARAAAAAAAAACEAzMzMzMzMLQAAAAAAAAAhA\",\"dtype\":\"float64\",\"order\":\"little\",\"shape\":[150]},\"type\":[\"Vegan chocolate egg\",\"Vegan chocolate egg\",\"Vegan chocolate egg\",\"Vegan chocolate egg\",\"Vegan chocolate egg\",\"Vegan chocolate egg\",\"Vegan chocolate egg\",\"Vegan chocolate egg\",\"Vegan chocolate egg\",\"Vegan chocolate egg\",\"Vegan chocolate egg\",\"Vegan chocolate egg\",\"Vegan chocolate egg\",\"Vegan chocolate egg\",\"Vegan chocolate egg\",\"Vegan chocolate egg\",\"Vegan chocolate egg\",\"Vegan chocolate egg\",\"Vegan chocolate egg\",\"Vegan chocolate egg\",\"Vegan chocolate egg\",\"Vegan chocolate egg\",\"Vegan chocolate egg\",\"Vegan chocolate egg\",\"Vegan chocolate egg\",\"Vegan chocolate egg\",\"Vegan chocolate egg\",\"Vegan chocolate egg\",\"Vegan chocolate egg\",\"Vegan chocolate egg\",\"Vegan chocolate egg\",\"Vegan chocolate egg\",\"Vegan chocolate egg\",\"Vegan chocolate egg\",\"Vegan chocolate egg\",\"Vegan chocolate egg\",\"Vegan chocolate egg\",\"Vegan chocolate egg\",\"Vegan chocolate egg\",\"Vegan chocolate egg\",\"Vegan chocolate egg\",\"Vegan chocolate egg\",\"Vegan chocolate egg\",\"Vegan chocolate egg\",\"Vegan chocolate egg\",\"Vegan chocolate egg\",\"Vegan chocolate egg\",\"Vegan chocolate egg\",\"Vegan chocolate egg\",\"Vegan chocolate egg\",\"Chocolate egg\",\"Chocolate egg\",\"Chocolate egg\",\"Chocolate egg\",\"Chocolate egg\",\"Chocolate egg\",\"Chocolate egg\",\"Chocolate egg\",\"Chocolate egg\",\"Chocolate egg\",\"Chocolate egg\",\"Chocolate egg\",\"Chocolate egg\",\"Chocolate egg\",\"Chocolate egg\",\"Chocolate egg\",\"Chocolate egg\",\"Chocolate egg\",\"Chocolate egg\",\"Chocolate egg\",\"Chocolate egg\",\"Chocolate egg\",\"Chocolate egg\",\"Chocolate egg\",\"Chocolate egg\",\"Chocolate egg\",\"Chocolate egg\",\"Chocolate egg\",\"Chocolate egg\",\"Chocolate egg\",\"Chocolate egg\",\"Chocolate egg\",\"Chocolate egg\",\"Chocolate egg\",\"Chocolate egg\",\"Chocolate egg\",\"Chocolate egg\",\"Chocolate egg\",\"Chocolate egg\",\"Chocolate egg\",\"Chocolate egg\",\"Chocolate egg\",\"Chocolate egg\",\"Chocolate egg\",\"Chocolate egg\",\"Chocolate egg\",\"Chocolate egg\",\"Chocolate egg\",\"Chocolate egg\",\"Chocolate egg\",\"Real egg\",\"Real egg\",\"Real egg\",\"Real egg\",\"Real egg\",\"Real egg\",\"Real egg\",\"Real egg\",\"Real egg\",\"Real egg\",\"Real egg\",\"Real egg\",\"Real egg\",\"Real egg\",\"Real egg\",\"Real egg\",\"Real egg\",\"Real egg\",\"Real egg\",\"Real egg\",\"Real egg\",\"Real egg\",\"Real egg\",\"Real egg\",\"Real egg\",\"Real egg\",\"Real egg\",\"Real egg\",\"Real egg\",\"Real egg\",\"Real egg\",\"Real egg\",\"Real egg\",\"Real egg\",\"Real egg\",\"Real egg\",\"Real egg\",\"Real egg\",\"Real egg\",\"Real egg\",\"Real egg\",\"Real egg\",\"Real egg\",\"Real egg\",\"Real egg\",\"Real egg\",\"Real egg\",\"Real egg\",\"Real egg\",\"Real egg\"],\"width\":{\"__ndarray__\":\"mpmZmZmZyT+amZmZmZnJP5qZmZmZmck/mpmZmZmZyT+amZmZmZnJP5qZmZmZmdk/MzMzMzMz0z+amZmZmZnJP5qZmZmZmck/mpmZmZmZuT+amZmZmZnJP5qZmZmZmck/mpmZmZmZuT+amZmZmZm5P5qZmZmZmck/mpmZmZmZ2T+amZmZmZnZPzMzMzMzM9M/MzMzMzMz0z8zMzMzMzPTP5qZmZmZmck/mpmZmZmZ2T+amZmZmZnJPwAAAAAAAOA/mpmZmZmZyT+amZmZmZnJP5qZmZmZmdk/mpmZmZmZyT+amZmZmZnJP5qZmZmZmck/mpmZmZmZyT+amZmZmZnZP5qZmZmZmbk/mpmZmZmZyT+amZmZmZnJP5qZmZmZmck/mpmZmZmZyT+amZmZmZm5P5qZmZmZmck/mpmZmZmZyT8zMzMzMzPTPzMzMzMzM9M/mpmZmZmZyT8zMzMzMzPjP5qZmZmZmdk/MzMzMzMz0z+amZmZmZnJP5qZmZmZmck/mpmZmZmZyT+amZmZmZnJP2ZmZmZmZvY/AAAAAAAA+D8AAAAAAAD4P83MzMzMzPQ/AAAAAAAA+D/NzMzMzMz0P5qZmZmZmfk/AAAAAAAA8D/NzMzMzMz0P2ZmZmZmZvY/AAAAAAAA8D8AAAAAAAD4PwAAAAAAAPA/ZmZmZmZm9j/NzMzMzMz0P2ZmZmZmZvY/AAAAAAAA+D8AAAAAAADwPwAAAAAAAPg/mpmZmZmZ8T/NzMzMzMz8P83MzMzMzPQ/AAAAAAAA+D8zMzMzMzPzP83MzMzMzPQ/ZmZmZmZm9j9mZmZmZmb2PzMzMzMzM/s/AAAAAAAA+D8AAAAAAADwP5qZmZmZmfE/AAAAAAAA8D8zMzMzMzPzP5qZmZmZmfk/AAAAAAAA+D+amZmZmZn5PwAAAAAAAPg/zczMzMzM9D/NzMzMzMz0P83MzMzMzPQ/MzMzMzMz8z9mZmZmZmb2PzMzMzMzM/M/AAAAAAAA8D/NzMzMzMz0PzMzMzMzM/M/zczMzMzM9D/NzMzMzMz0P5qZmZmZmfE/zczMzMzM9D8AAAAAAAAEQGZmZmZmZv4/zczMzMzMAEDNzMzMzMz8P5qZmZmZmQFAzczMzMzMAEAzMzMzMzP7P83MzMzMzPw/zczMzMzM/D8AAAAAAAAEQAAAAAAAAABAZmZmZmZm/j/NzMzMzMwAQAAAAAAAAABAMzMzMzMzA0BmZmZmZmYCQM3MzMzMzPw/mpmZmZmZAUBmZmZmZmYCQAAAAAAAAPg/ZmZmZmZmAkAAAAAAAAAAQAAAAAAAAABAzczMzMzM/D/NzMzMzMwAQM3MzMzMzPw/zczMzMzM/D/NzMzMzMz8P83MzMzMzABAmpmZmZmZ+T9mZmZmZmb+PwAAAAAAAABAmpmZmZmZAUAAAAAAAAD4P2ZmZmZmZvY/ZmZmZmZmAkAzMzMzMzMDQM3MzMzMzPw/zczMzMzM/D/NzMzMzMwAQDMzMzMzMwNAZmZmZmZmAkBmZmZmZmb+P2ZmZmZmZgJAAAAAAAAABEBmZmZmZmYCQGZmZmZmZv4/AAAAAAAAAEBmZmZmZmYCQM3MzMzMzPw/\",\"dtype\":\"float64\",\"order\":\"little\",\"shape\":[150]}},\"selected\":{\"id\":\"2356\"},\"selection_policy\":{\"id\":\"2355\"}},\"id\":\"2341\",\"type\":\"ColumnDataSource\"}],\"root_ids\":[\"2306\"]},\"title\":\"Bokeh Application\",\"version\":\"2.4.3\"}};\n",
       "  const render_items = [{\"docid\":\"8cac0ce4-fdb3-46d9-af25-67592b9b5939\",\"root_ids\":[\"2306\"],\"roots\":{\"2306\":\"05f0d1fa-1186-4b73-8145-bf1a6760ed28\"}}];\n",
       "  root.Bokeh.embed.embed_items_notebook(docs_json, render_items);\n",
       "  }\n",
       "  if (root.Bokeh !== undefined) {\n",
       "    embed_document(root);\n",
       "  } else {\n",
       "    let attempts = 0;\n",
       "    const timer = setInterval(function(root) {\n",
       "      if (root.Bokeh !== undefined) {\n",
       "        clearInterval(timer);\n",
       "        embed_document(root);\n",
       "      } else {\n",
       "        attempts++;\n",
       "        if (attempts > 100) {\n",
       "          clearInterval(timer);\n",
       "          console.log(\"Bokeh: ERROR: Unable to run BokehJS code because BokehJS library is missing\");\n",
       "        }\n",
       "      }\n",
       "    }, 10, root)\n",
       "  }\n",
       "})(window);"
      ],
      "application/vnd.bokehjs_exec.v0+json": ""
     },
     "metadata": {
      "application/vnd.bokehjs_exec.v0+json": {
       "id": "2306"
      }
     },
     "output_type": "display_data"
    }
   ],
   "source": [
    "color_map = Spectral[4] # Change something here\n",
    "\n",
    "types = [\"Chocolate egg\", \"Vegan chocolate egg\", \"Real egg\"]\n",
    "markers = [\"circle\", \"hex_dot\", \"inverted_triangle\"] # Change something here\n",
    "\n",
    "p = figure(title = \"Egg width and length\")\n",
    "p.xaxis.axis_label = \"Length (cm)\"\n",
    "p.yaxis.axis_label = \"Width (cm)\"\n",
    "\n",
    "fm = factor_mark(\"type\", markers, types)\n",
    "fc = factor_cmap(\"type\", color_map, types)\n",
    "\n",
    "p.scatter(\"length\", \n",
    "          \"width\",\n",
    "          source=egg_data, \n",
    "          legend_field=\"type\",\n",
    "          fill_alpha=0.4, \n",
    "          size=12,\n",
    "          marker=fm,\n",
    "          color=fc,\n",
    "          )\n",
    "\n",
    "p.legend.location = \"top_left\" # Change something here\n",
    "\n",
    "\n",
    "show(p)"
   ]
  },
  {
   "cell_type": "markdown",
   "metadata": {},
   "source": [
    "### <b><font color='blue'>Your Turn: Adapt layout</font></b><a id='sec_act'></a>\n",
    "[[back to top]](#top)\n",
    "\n",
    "- Try out different color maps, e.g. Dark2, Pastel1, Paired. You can find more bokeh color palettes and information [here](https://docs.bokeh.org/en/latest/docs/reference/palettes.html#module-bokeh.palettes).\n",
    "\n",
    "- Try out different [marker types](https://docs.bokeh.org/en/latest/docs/examples/basic/scatters/markers.html#index-0).\n",
    "\n",
    "- Move the legend to the bottom right instead.\n"
   ]
  },
  {
   "cell_type": "markdown",
   "metadata": {},
   "source": [
    "### Add tooltips<a id='tooltips'></a>\n",
    "[[back to top]](#top)\n",
    "\n",
    "\n",
    "The hover tool by default generates a tabular tooltip of label-value pairs. You can find more information and example for Bokeh tooltips [here](https://docs.bokeh.org/en/latest/docs/user_guide/interaction/tools.html#hovertool)."
   ]
  },
  {
   "cell_type": "code",
   "execution_count": 9,
   "metadata": {},
   "outputs": [
    {
     "data": {
      "text/html": [
       "\n",
       "  <div class=\"bk-root\" id=\"027f5219-2848-45a7-a37c-45fb1397957e\" data-root-id=\"2306\"></div>\n"
      ]
     },
     "metadata": {},
     "output_type": "display_data"
    },
    {
     "data": {
      "application/javascript": [
       "(function(root) {\n",
       "  function embed_document(root) {\n",
       "  const docs_json = {\"2902ee7b-ce29-41db-8e92-56157c1c6350\":{\"defs\":[],\"roots\":{\"references\":[{\"attributes\":{\"below\":[{\"id\":\"2317\"}],\"center\":[{\"id\":\"2320\"},{\"id\":\"2324\"},{\"id\":\"2358\"}],\"left\":[{\"id\":\"2321\"}],\"renderers\":[{\"id\":\"2346\"}],\"title\":{\"id\":\"2307\"},\"toolbar\":{\"id\":\"2332\"},\"x_range\":{\"id\":\"2309\"},\"x_scale\":{\"id\":\"2313\"},\"y_range\":{\"id\":\"2311\"},\"y_scale\":{\"id\":\"2315\"}},\"id\":\"2306\",\"subtype\":\"Figure\",\"type\":\"Plot\"},{\"attributes\":{\"tools\":[{\"id\":\"2325\"},{\"id\":\"2326\"},{\"id\":\"2327\"},{\"id\":\"2328\"},{\"id\":\"2329\"},{\"id\":\"2330\"},{\"id\":\"2537\"}]},\"id\":\"2332\",\"type\":\"Toolbar\"},{\"attributes\":{\"coordinates\":null,\"group\":null,\"items\":[{\"id\":\"2359\"}],\"location\":\"top_left\"},\"id\":\"2358\",\"type\":\"Legend\"},{\"attributes\":{},\"id\":\"2330\",\"type\":\"HelpTool\"},{\"attributes\":{},\"id\":\"2354\",\"type\":\"AllLabels\"},{\"attributes\":{\"coordinates\":null,\"data_source\":{\"id\":\"2341\"},\"glyph\":{\"id\":\"2343\"},\"group\":null,\"hover_glyph\":null,\"muted_glyph\":{\"id\":\"2345\"},\"nonselection_glyph\":{\"id\":\"2344\"},\"view\":{\"id\":\"2347\"}},\"id\":\"2346\",\"type\":\"GlyphRenderer\"},{\"attributes\":{\"fill_alpha\":{\"value\":0.4},\"fill_color\":{\"field\":\"type\",\"transform\":{\"id\":\"2340\"}},\"hatch_color\":{\"field\":\"type\",\"transform\":{\"id\":\"2340\"}},\"line_color\":{\"field\":\"type\",\"transform\":{\"id\":\"2340\"}},\"marker\":{\"field\":\"type\",\"transform\":{\"id\":\"2339\"}},\"size\":{\"value\":12},\"x\":{\"field\":\"length\"},\"y\":{\"field\":\"width\"}},\"id\":\"2343\",\"type\":\"Scatter\"},{\"attributes\":{},\"id\":\"2351\",\"type\":\"AllLabels\"},{\"attributes\":{\"label\":{\"field\":\"type\"},\"renderers\":[{\"id\":\"2346\"}]},\"id\":\"2359\",\"type\":\"LegendItem\"},{\"attributes\":{\"axis_label\":\"Length (cm)\",\"coordinates\":null,\"formatter\":{\"id\":\"2353\"},\"group\":null,\"major_label_policy\":{\"id\":\"2354\"},\"ticker\":{\"id\":\"2318\"}},\"id\":\"2317\",\"type\":\"LinearAxis\"},{\"attributes\":{},\"id\":\"2329\",\"type\":\"ResetTool\"},{\"attributes\":{},\"id\":\"2313\",\"type\":\"LinearScale\"},{\"attributes\":{\"source\":{\"id\":\"2341\"}},\"id\":\"2347\",\"type\":\"CDSView\"},{\"attributes\":{\"axis\":{\"id\":\"2317\"},\"coordinates\":null,\"group\":null,\"ticker\":null},\"id\":\"2320\",\"type\":\"Grid\"},{\"attributes\":{},\"id\":\"2318\",\"type\":\"BasicTicker\"},{\"attributes\":{\"axis_label\":\"Width (cm)\",\"coordinates\":null,\"formatter\":{\"id\":\"2350\"},\"group\":null,\"major_label_policy\":{\"id\":\"2351\"},\"ticker\":{\"id\":\"2322\"}},\"id\":\"2321\",\"type\":\"LinearAxis\"},{\"attributes\":{},\"id\":\"2356\",\"type\":\"Selection\"},{\"attributes\":{\"coordinates\":null,\"group\":null,\"text\":\"Egg width and length\"},\"id\":\"2307\",\"type\":\"Title\"},{\"attributes\":{\"overlay\":{\"id\":\"2331\"}},\"id\":\"2327\",\"type\":\"BoxZoomTool\"},{\"attributes\":{\"bottom_units\":\"screen\",\"coordinates\":null,\"fill_alpha\":0.5,\"fill_color\":\"lightgrey\",\"group\":null,\"left_units\":\"screen\",\"level\":\"overlay\",\"line_alpha\":1.0,\"line_color\":\"black\",\"line_dash\":[4,4],\"line_width\":2,\"right_units\":\"screen\",\"syncable\":false,\"top_units\":\"screen\"},\"id\":\"2331\",\"type\":\"BoxAnnotation\"},{\"attributes\":{},\"id\":\"2355\",\"type\":\"UnionRenderers\"},{\"attributes\":{},\"id\":\"2353\",\"type\":\"BasicTickFormatter\"},{\"attributes\":{},\"id\":\"2328\",\"type\":\"SaveTool\"},{\"attributes\":{},\"id\":\"2325\",\"type\":\"PanTool\"},{\"attributes\":{},\"id\":\"2326\",\"type\":\"WheelZoomTool\"},{\"attributes\":{},\"id\":\"2309\",\"type\":\"DataRange1d\"},{\"attributes\":{},\"id\":\"2350\",\"type\":\"BasicTickFormatter\"},{\"attributes\":{},\"id\":\"2311\",\"type\":\"DataRange1d\"},{\"attributes\":{\"factors\":[\"Chocolate egg\",\"Vegan chocolate egg\",\"Real egg\"],\"palette\":[\"#2b83ba\",\"#abdda4\",\"#fdae61\",\"#d7191c\"]},\"id\":\"2340\",\"type\":\"CategoricalColorMapper\"},{\"attributes\":{},\"id\":\"2315\",\"type\":\"LinearScale\"},{\"attributes\":{\"fill_alpha\":{\"value\":0.2},\"fill_color\":{\"field\":\"type\",\"transform\":{\"id\":\"2340\"}},\"hatch_alpha\":{\"value\":0.2},\"hatch_color\":{\"field\":\"type\",\"transform\":{\"id\":\"2340\"}},\"line_alpha\":{\"value\":0.2},\"line_color\":{\"field\":\"type\",\"transform\":{\"id\":\"2340\"}},\"marker\":{\"field\":\"type\",\"transform\":{\"id\":\"2339\"}},\"size\":{\"value\":12},\"x\":{\"field\":\"length\"},\"y\":{\"field\":\"width\"}},\"id\":\"2345\",\"type\":\"Scatter\"},{\"attributes\":{\"factors\":[\"Chocolate egg\",\"Vegan chocolate egg\",\"Real egg\"],\"markers\":[\"circle\",\"hex_dot\",\"inverted_triangle\"]},\"id\":\"2339\",\"type\":\"CategoricalMarkerMapper\"},{\"attributes\":{\"callback\":null,\"tooltips\":[[\"Egg type\",\"@type\"],[\"Length\",\"@length{0.0} cm\"]]},\"id\":\"2537\",\"type\":\"HoverTool\"},{\"attributes\":{\"fill_alpha\":{\"value\":0.1},\"fill_color\":{\"field\":\"type\",\"transform\":{\"id\":\"2340\"}},\"hatch_alpha\":{\"value\":0.1},\"hatch_color\":{\"field\":\"type\",\"transform\":{\"id\":\"2340\"}},\"line_alpha\":{\"value\":0.1},\"line_color\":{\"field\":\"type\",\"transform\":{\"id\":\"2340\"}},\"marker\":{\"field\":\"type\",\"transform\":{\"id\":\"2339\"}},\"size\":{\"value\":12},\"x\":{\"field\":\"length\"},\"y\":{\"field\":\"width\"}},\"id\":\"2344\",\"type\":\"Scatter\"},{\"attributes\":{},\"id\":\"2322\",\"type\":\"BasicTicker\"},{\"attributes\":{\"axis\":{\"id\":\"2321\"},\"coordinates\":null,\"dimension\":1,\"group\":null,\"ticker\":null},\"id\":\"2324\",\"type\":\"Grid\"},{\"attributes\":{\"data\":{\"fat\":{\"__ndarray__\":\"ZmZmZmZmFECamZmZmZkTQM3MzMzMzBJAZmZmZmZmEkAAAAAAAAAUQJqZmZmZmRVAZmZmZmZmEkAAAAAAAAAUQJqZmZmZmRFAmpmZmZmZE0CamZmZmZkVQDMzMzMzMxNAMzMzMzMzE0AzMzMzMzMRQDMzMzMzMxdAzczMzMzMFkCamZmZmZkVQGZmZmZmZhRAzczMzMzMFkBmZmZmZmYUQJqZmZmZmRVAZmZmZmZmFEBmZmZmZmYSQGZmZmZmZhRAMzMzMzMzE0AAAAAAAAAUQAAAAAAAABRAzczMzMzMFEDNzMzMzMwUQM3MzMzMzBJAMzMzMzMzE0CamZmZmZkVQM3MzMzMzBRAAAAAAAAAFkCamZmZmZkTQAAAAAAAABRAAAAAAAAAFkCamZmZmZkTQJqZmZmZmRFAZmZmZmZmFEAAAAAAAAAUQAAAAAAAABJAmpmZmZmZEUAAAAAAAAAUQGZmZmZmZhRAMzMzMzMzE0BmZmZmZmYUQGZmZmZmZhJAMzMzMzMzFUAAAAAAAAAUQAAAAAAAABxAmpmZmZmZGUCamZmZmZkbQAAAAAAAABZAAAAAAAAAGkDNzMzMzMwWQDMzMzMzMxlAmpmZmZmZE0BmZmZmZmYaQM3MzMzMzBRAAAAAAAAAFECamZmZmZkXQAAAAAAAABhAZmZmZmZmGEBmZmZmZmYWQM3MzMzMzBpAZmZmZmZmFkAzMzMzMzMXQM3MzMzMzBhAZmZmZmZmFkCamZmZmZkXQGZmZmZmZhhAMzMzMzMzGUBmZmZmZmYYQJqZmZmZmRlAZmZmZmZmGkAzMzMzMzMbQM3MzMzMzBpAAAAAAAAAGEDNzMzMzMwWQAAAAAAAABZAAAAAAAAAFkAzMzMzMzMXQAAAAAAAABhAmpmZmZmZFUAAAAAAAAAYQM3MzMzMzBpAMzMzMzMzGUBmZmZmZmYWQAAAAAAAABZAAAAAAAAAFkBmZmZmZmYYQDMzMzMzMxdAAAAAAAAAFEBmZmZmZmYWQM3MzMzMzBZAzczMzMzMFkDNzMzMzMwYQGZmZmZmZhRAzczMzMzMFkAzMzMzMzMZQDMzMzMzMxdAZmZmZmZmHEAzMzMzMzMZQAAAAAAAABpAZmZmZmZmHkCamZmZmZkTQDMzMzMzMx1AzczMzMzMGkDNzMzMzMwcQAAAAAAAABpAmpmZmZmZGUAzMzMzMzMbQM3MzMzMzBZAMzMzMzMzF0CamZmZmZkZQAAAAAAAABpAzczMzMzMHkDNzMzMzMweQAAAAAAAABhAmpmZmZmZG0BmZmZmZmYWQM3MzMzMzB5AMzMzMzMzGUDNzMzMzMwaQM3MzMzMzBxAzczMzMzMGEBmZmZmZmYYQJqZmZmZmRlAzczMzMzMHECamZmZmZkdQJqZmZmZmR9AmpmZmZmZGUAzMzMzMzMZQGZmZmZmZhhAzczMzMzMHkAzMzMzMzMZQJqZmZmZmRlAAAAAAAAAGECamZmZmZkbQM3MzMzMzBpAmpmZmZmZG0AzMzMzMzMXQDMzMzMzMxtAzczMzMzMGkDNzMzMzMwaQDMzMzMzMxlAAAAAAAAAGkDNzMzMzMwYQJqZmZmZmRdA\",\"dtype\":\"float64\",\"order\":\"little\",\"shape\":[150]},\"index\":[0,1,2,3,4,5,6,7,8,9,10,11,12,13,14,15,16,17,18,19,20,21,22,23,24,25,26,27,28,29,30,31,32,33,34,35,36,37,38,39,40,41,42,43,44,45,46,47,48,49,50,51,52,53,54,55,56,57,58,59,60,61,62,63,64,65,66,67,68,69,70,71,72,73,74,75,76,77,78,79,80,81,82,83,84,85,86,87,88,89,90,91,92,93,94,95,96,97,98,99,100,101,102,103,104,105,106,107,108,109,110,111,112,113,114,115,116,117,118,119,120,121,122,123,124,125,126,127,128,129,130,131,132,133,134,135,136,137,138,139,140,141,142,143,144,145,146,147,148,149],\"length\":{\"__ndarray__\":\"ZmZmZmZm9j9mZmZmZmb2P83MzMzMzPQ/AAAAAAAA+D9mZmZmZmb2PzMzMzMzM/s/ZmZmZmZm9j8AAAAAAAD4P2ZmZmZmZvY/AAAAAAAA+D8AAAAAAAD4P5qZmZmZmfk/ZmZmZmZm9j+amZmZmZnxPzMzMzMzM/M/AAAAAAAA+D/NzMzMzMz0P2ZmZmZmZvY/MzMzMzMz+z8AAAAAAAD4PzMzMzMzM/s/AAAAAAAA+D8AAAAAAADwPzMzMzMzM/s/ZmZmZmZm/j+amZmZmZn5P5qZmZmZmfk/AAAAAAAA+D9mZmZmZmb2P5qZmZmZmfk/mpmZmZmZ+T8AAAAAAAD4PwAAAAAAAPg/ZmZmZmZm9j8AAAAAAAD4PzMzMzMzM/M/zczMzMzM9D9mZmZmZmb2P83MzMzMzPQ/AAAAAAAA+D/NzMzMzMz0P83MzMzMzPQ/zczMzMzM9D+amZmZmZn5P2ZmZmZmZv4/ZmZmZmZm9j+amZmZmZn5P2ZmZmZmZvY/AAAAAAAA+D9mZmZmZmb2P83MzMzMzBJAAAAAAAAAEkCamZmZmZkTQAAAAAAAABBAZmZmZmZmEkAAAAAAAAASQM3MzMzMzBJAZmZmZmZmCkBmZmZmZmYSQDMzMzMzMw9AAAAAAAAADEDNzMzMzMwQQAAAAAAAABBAzczMzMzMEkDNzMzMzMwMQJqZmZmZmRFAAAAAAAAAEkBmZmZmZmYQQAAAAAAAABJAMzMzMzMzD0AzMzMzMzMTQAAAAAAAABBAmpmZmZmZE0DNzMzMzMwSQDMzMzMzMxFAmpmZmZmZEUAzMzMzMzMTQAAAAAAAABRAAAAAAAAAEkAAAAAAAAAMQGZmZmZmZg5AmpmZmZmZDUAzMzMzMzMPQGZmZmZmZhRAAAAAAAAAEkAAAAAAAAASQM3MzMzMzBJAmpmZmZmZEUBmZmZmZmYQQAAAAAAAABBAmpmZmZmZEUBmZmZmZmYSQAAAAAAAABBAZmZmZmZmCkDNzMzMzMwQQM3MzMzMzBBAzczMzMzMEEAzMzMzMzMRQAAAAAAAAAhAZmZmZmZmEEAAAAAAAAAYQGZmZmZmZhRAmpmZmZmZF0BmZmZmZmYWQDMzMzMzMxdAZmZmZmZmGkAAAAAAAAASQDMzMzMzMxlAMzMzMzMzF0BmZmZmZmYYQGZmZmZmZhRAMzMzMzMzFUAAAAAAAAAWQAAAAAAAABRAZmZmZmZmFEAzMzMzMzMVQAAAAAAAABZAzczMzMzMGkCamZmZmZkbQAAAAAAAABRAzczMzMzMFkCamZmZmZkTQM3MzMzMzBpAmpmZmZmZE0DNzMzMzMwWQAAAAAAAABhAMzMzMzMzE0CamZmZmZkTQGZmZmZmZhZAMzMzMzMzF0BmZmZmZmYYQJqZmZmZmRlAZmZmZmZmFkBmZmZmZmYUQGZmZmZmZhZAZmZmZmZmGEBmZmZmZmYWQAAAAAAAABZAMzMzMzMzE0CamZmZmZkVQGZmZmZmZhZAZmZmZmZmFEBmZmZmZmYUQJqZmZmZmRdAzczMzMzMFkDNzMzMzMwUQAAAAAAAABRAzczMzMzMFECamZmZmZkVQGZmZmZmZhRA\",\"dtype\":\"float64\",\"order\":\"little\",\"shape\":[150]},\"protein\":{\"__ndarray__\":\"AAAAAAAADEAAAAAAAAAIQJqZmZmZmQlAzczMzMzMCEDNzMzMzMwMQDMzMzMzMw9AMzMzMzMzC0AzMzMzMzMLQDMzMzMzMwdAzczMzMzMCECamZmZmZkNQDMzMzMzMwtAAAAAAAAACEAAAAAAAAAIQAAAAAAAABBAmpmZmZmZEUAzMzMzMzMPQAAAAAAAAAxAZmZmZmZmDkBmZmZmZmYOQDMzMzMzMwtAmpmZmZmZDUDNzMzMzMwMQGZmZmZmZgpAMzMzMzMzC0AAAAAAAAAIQDMzMzMzMwtAAAAAAAAADEAzMzMzMzMLQJqZmZmZmQlAzczMzMzMCEAzMzMzMzMLQGZmZmZmZhBAzczMzMzMEEDNzMzMzMwIQJqZmZmZmQlAAAAAAAAADEDNzMzMzMwMQAAAAAAAAAhAMzMzMzMzC0AAAAAAAAAMQGZmZmZmZgJAmpmZmZmZCUAAAAAAAAAMQGZmZmZmZg5AAAAAAAAACEBmZmZmZmYOQJqZmZmZmQlAmpmZmZmZDUBmZmZmZmYKQJqZmZmZmQlAmpmZmZmZCUDNzMzMzMwIQGZmZmZmZgJAZmZmZmZmBkBmZmZmZmYGQGZmZmZmZgpAMzMzMzMzA0AzMzMzMzMHQJqZmZmZmQVAAAAAAAAAAEAAAAAAAAAIQJqZmZmZmQFAMzMzMzMzB0AzMzMzMzMHQM3MzMzMzAhAAAAAAAAACECamZmZmZkFQJqZmZmZmQFAAAAAAAAABECamZmZmZkJQGZmZmZmZgZAAAAAAAAABEBmZmZmZmYGQDMzMzMzMwdAAAAAAAAACEBmZmZmZmYGQAAAAAAAAAhAMzMzMzMzB0DNzMzMzMwEQDMzMzMzMwNAMzMzMzMzA0CamZmZmZkFQJqZmZmZmQVAAAAAAAAACEAzMzMzMzMLQM3MzMzMzAhAZmZmZmZmAkAAAAAAAAAIQAAAAAAAAARAzczMzMzMBEAAAAAAAAAIQM3MzMzMzARAZmZmZmZmAkCamZmZmZkFQAAAAAAAAAhAMzMzMzMzB0AzMzMzMzMHQAAAAAAAAARAZmZmZmZmBkBmZmZmZmYKQJqZmZmZmQVAAAAAAAAACEAzMzMzMzMHQAAAAAAAAAhAAAAAAAAACEAAAAAAAAAEQDMzMzMzMwdAAAAAAAAABEDNzMzMzMwMQJqZmZmZmQlAmpmZmZmZBUAAAAAAAAAIQAAAAAAAAARAZmZmZmZmBkCamZmZmZkJQAAAAAAAAAhAZmZmZmZmDkDNzMzMzMwEQJqZmZmZmQFAmpmZmZmZCUBmZmZmZmYGQGZmZmZmZgZAmpmZmZmZBUBmZmZmZmYKQJqZmZmZmQlAZmZmZmZmBkAAAAAAAAAIQGZmZmZmZgZAAAAAAAAACEBmZmZmZmYGQGZmZmZmZg5AZmZmZmZmBkBmZmZmZmYGQM3MzMzMzARAAAAAAAAACEAzMzMzMzMLQM3MzMzMzAhAAAAAAAAACEDNzMzMzMwIQM3MzMzMzAhAzczMzMzMCECamZmZmZkFQJqZmZmZmQlAZmZmZmZmCkAAAAAAAAAIQAAAAAAAAARAAAAAAAAACEAzMzMzMzMLQAAAAAAAAAhA\",\"dtype\":\"float64\",\"order\":\"little\",\"shape\":[150]},\"type\":[\"Vegan chocolate egg\",\"Vegan chocolate egg\",\"Vegan chocolate egg\",\"Vegan chocolate egg\",\"Vegan chocolate egg\",\"Vegan chocolate egg\",\"Vegan chocolate egg\",\"Vegan chocolate egg\",\"Vegan chocolate egg\",\"Vegan chocolate egg\",\"Vegan chocolate egg\",\"Vegan chocolate egg\",\"Vegan chocolate egg\",\"Vegan chocolate egg\",\"Vegan chocolate egg\",\"Vegan chocolate egg\",\"Vegan chocolate egg\",\"Vegan chocolate egg\",\"Vegan chocolate egg\",\"Vegan chocolate egg\",\"Vegan chocolate egg\",\"Vegan chocolate egg\",\"Vegan chocolate egg\",\"Vegan chocolate egg\",\"Vegan chocolate egg\",\"Vegan chocolate egg\",\"Vegan chocolate egg\",\"Vegan chocolate egg\",\"Vegan chocolate egg\",\"Vegan chocolate egg\",\"Vegan chocolate egg\",\"Vegan chocolate egg\",\"Vegan chocolate egg\",\"Vegan chocolate egg\",\"Vegan chocolate egg\",\"Vegan chocolate egg\",\"Vegan chocolate egg\",\"Vegan chocolate egg\",\"Vegan chocolate egg\",\"Vegan chocolate egg\",\"Vegan chocolate egg\",\"Vegan chocolate egg\",\"Vegan chocolate egg\",\"Vegan chocolate egg\",\"Vegan chocolate egg\",\"Vegan chocolate egg\",\"Vegan chocolate egg\",\"Vegan chocolate egg\",\"Vegan chocolate egg\",\"Vegan chocolate egg\",\"Chocolate egg\",\"Chocolate egg\",\"Chocolate egg\",\"Chocolate egg\",\"Chocolate egg\",\"Chocolate egg\",\"Chocolate egg\",\"Chocolate egg\",\"Chocolate egg\",\"Chocolate egg\",\"Chocolate egg\",\"Chocolate egg\",\"Chocolate egg\",\"Chocolate egg\",\"Chocolate egg\",\"Chocolate egg\",\"Chocolate egg\",\"Chocolate egg\",\"Chocolate egg\",\"Chocolate egg\",\"Chocolate egg\",\"Chocolate egg\",\"Chocolate egg\",\"Chocolate egg\",\"Chocolate egg\",\"Chocolate egg\",\"Chocolate egg\",\"Chocolate egg\",\"Chocolate egg\",\"Chocolate egg\",\"Chocolate egg\",\"Chocolate egg\",\"Chocolate egg\",\"Chocolate egg\",\"Chocolate egg\",\"Chocolate egg\",\"Chocolate egg\",\"Chocolate egg\",\"Chocolate egg\",\"Chocolate egg\",\"Chocolate egg\",\"Chocolate egg\",\"Chocolate egg\",\"Chocolate egg\",\"Chocolate egg\",\"Chocolate egg\",\"Chocolate egg\",\"Chocolate egg\",\"Chocolate egg\",\"Chocolate egg\",\"Real egg\",\"Real egg\",\"Real egg\",\"Real egg\",\"Real egg\",\"Real egg\",\"Real egg\",\"Real egg\",\"Real egg\",\"Real egg\",\"Real egg\",\"Real egg\",\"Real egg\",\"Real egg\",\"Real egg\",\"Real egg\",\"Real egg\",\"Real egg\",\"Real egg\",\"Real egg\",\"Real egg\",\"Real egg\",\"Real egg\",\"Real egg\",\"Real egg\",\"Real egg\",\"Real egg\",\"Real egg\",\"Real egg\",\"Real egg\",\"Real egg\",\"Real egg\",\"Real egg\",\"Real egg\",\"Real egg\",\"Real egg\",\"Real egg\",\"Real egg\",\"Real egg\",\"Real egg\",\"Real egg\",\"Real egg\",\"Real egg\",\"Real egg\",\"Real egg\",\"Real egg\",\"Real egg\",\"Real egg\",\"Real egg\",\"Real egg\"],\"width\":{\"__ndarray__\":\"mpmZmZmZyT+amZmZmZnJP5qZmZmZmck/mpmZmZmZyT+amZmZmZnJP5qZmZmZmdk/MzMzMzMz0z+amZmZmZnJP5qZmZmZmck/mpmZmZmZuT+amZmZmZnJP5qZmZmZmck/mpmZmZmZuT+amZmZmZm5P5qZmZmZmck/mpmZmZmZ2T+amZmZmZnZPzMzMzMzM9M/MzMzMzMz0z8zMzMzMzPTP5qZmZmZmck/mpmZmZmZ2T+amZmZmZnJPwAAAAAAAOA/mpmZmZmZyT+amZmZmZnJP5qZmZmZmdk/mpmZmZmZyT+amZmZmZnJP5qZmZmZmck/mpmZmZmZyT+amZmZmZnZP5qZmZmZmbk/mpmZmZmZyT+amZmZmZnJP5qZmZmZmck/mpmZmZmZyT+amZmZmZm5P5qZmZmZmck/mpmZmZmZyT8zMzMzMzPTPzMzMzMzM9M/mpmZmZmZyT8zMzMzMzPjP5qZmZmZmdk/MzMzMzMz0z+amZmZmZnJP5qZmZmZmck/mpmZmZmZyT+amZmZmZnJP2ZmZmZmZvY/AAAAAAAA+D8AAAAAAAD4P83MzMzMzPQ/AAAAAAAA+D/NzMzMzMz0P5qZmZmZmfk/AAAAAAAA8D/NzMzMzMz0P2ZmZmZmZvY/AAAAAAAA8D8AAAAAAAD4PwAAAAAAAPA/ZmZmZmZm9j/NzMzMzMz0P2ZmZmZmZvY/AAAAAAAA+D8AAAAAAADwPwAAAAAAAPg/mpmZmZmZ8T/NzMzMzMz8P83MzMzMzPQ/AAAAAAAA+D8zMzMzMzPzP83MzMzMzPQ/ZmZmZmZm9j9mZmZmZmb2PzMzMzMzM/s/AAAAAAAA+D8AAAAAAADwP5qZmZmZmfE/AAAAAAAA8D8zMzMzMzPzP5qZmZmZmfk/AAAAAAAA+D+amZmZmZn5PwAAAAAAAPg/zczMzMzM9D/NzMzMzMz0P83MzMzMzPQ/MzMzMzMz8z9mZmZmZmb2PzMzMzMzM/M/AAAAAAAA8D/NzMzMzMz0PzMzMzMzM/M/zczMzMzM9D/NzMzMzMz0P5qZmZmZmfE/zczMzMzM9D8AAAAAAAAEQGZmZmZmZv4/zczMzMzMAEDNzMzMzMz8P5qZmZmZmQFAzczMzMzMAEAzMzMzMzP7P83MzMzMzPw/zczMzMzM/D8AAAAAAAAEQAAAAAAAAABAZmZmZmZm/j/NzMzMzMwAQAAAAAAAAABAMzMzMzMzA0BmZmZmZmYCQM3MzMzMzPw/mpmZmZmZAUBmZmZmZmYCQAAAAAAAAPg/ZmZmZmZmAkAAAAAAAAAAQAAAAAAAAABAzczMzMzM/D/NzMzMzMwAQM3MzMzMzPw/zczMzMzM/D/NzMzMzMz8P83MzMzMzABAmpmZmZmZ+T9mZmZmZmb+PwAAAAAAAABAmpmZmZmZAUAAAAAAAAD4P2ZmZmZmZvY/ZmZmZmZmAkAzMzMzMzMDQM3MzMzMzPw/zczMzMzM/D/NzMzMzMwAQDMzMzMzMwNAZmZmZmZmAkBmZmZmZmb+P2ZmZmZmZgJAAAAAAAAABEBmZmZmZmYCQGZmZmZmZv4/AAAAAAAAAEBmZmZmZmYCQM3MzMzMzPw/\",\"dtype\":\"float64\",\"order\":\"little\",\"shape\":[150]}},\"selected\":{\"id\":\"2356\"},\"selection_policy\":{\"id\":\"2355\"}},\"id\":\"2341\",\"type\":\"ColumnDataSource\"}],\"root_ids\":[\"2306\"]},\"title\":\"Bokeh Application\",\"version\":\"2.4.3\"}};\n",
       "  const render_items = [{\"docid\":\"2902ee7b-ce29-41db-8e92-56157c1c6350\",\"root_ids\":[\"2306\"],\"roots\":{\"2306\":\"027f5219-2848-45a7-a37c-45fb1397957e\"}}];\n",
       "  root.Bokeh.embed.embed_items_notebook(docs_json, render_items);\n",
       "  }\n",
       "  if (root.Bokeh !== undefined) {\n",
       "    embed_document(root);\n",
       "  } else {\n",
       "    let attempts = 0;\n",
       "    const timer = setInterval(function(root) {\n",
       "      if (root.Bokeh !== undefined) {\n",
       "        clearInterval(timer);\n",
       "        embed_document(root);\n",
       "      } else {\n",
       "        attempts++;\n",
       "        if (attempts > 100) {\n",
       "          clearInterval(timer);\n",
       "          console.log(\"Bokeh: ERROR: Unable to run BokehJS code because BokehJS library is missing\");\n",
       "        }\n",
       "      }\n",
       "    }, 10, root)\n",
       "  }\n",
       "})(window);"
      ],
      "application/vnd.bokehjs_exec.v0+json": ""
     },
     "metadata": {
      "application/vnd.bokehjs_exec.v0+json": {
       "id": "2306"
      }
     },
     "output_type": "display_data"
    }
   ],
   "source": [
    "p.add_tools(\n",
    "    HoverTool(\n",
    "        tooltips=[\n",
    "            (\"Egg type\", \"@type\"),\n",
    "            (\"Length\", \"@length{0.0} cm\"),\n",
    "            # Add something here\n",
    "        ],\n",
    "    )\n",
    ")\n",
    "\n",
    "show(p)"
   ]
  },
  {
   "cell_type": "markdown",
   "metadata": {},
   "source": [
    "### <b><font color='blue'>Your Turn: Tooltips</font></b><a id='third_act'></a>\n",
    "[[back to top]](#top)\n",
    "\n",
    "\n",
    "Add tooltip information for egg width as well. Round the width to 1 decimal point."
   ]
  },
  {
   "cell_type": "markdown",
   "metadata": {},
   "source": [
    "### Exploring your plots: Tipps and tricks<a id='exploring'></a>\n",
    "[[back to top]](#top)\n",
    "\n",
    "\n",
    "There are [tools](https://docs.bokeh.org/en/2.4.2/docs/user_guide/tools.html) for you to explore your data more easily. A variety of tools in the toolbar, e.g. the lasso select, can help you select and explore data points across plots. Futhermore, you can use [legends](https://docs.bokeh.org/en/latest/docs/first_steps/first_steps_3.html) to select, hide or mute sets of data points. "
   ]
  },
  {
   "cell_type": "code",
   "execution_count": 10,
   "metadata": {},
   "outputs": [
    {
     "data": {
      "text/html": [
       "\n",
       "  <div class=\"bk-root\" id=\"bd1e6b33-56bd-40b1-be75-c838eb8c8cd1\" data-root-id=\"2932\"></div>\n"
      ]
     },
     "metadata": {},
     "output_type": "display_data"
    },
    {
     "data": {
      "application/javascript": [
       "(function(root) {\n",
       "  function embed_document(root) {\n",
       "  const docs_json = {\"5eb5d006-3429-496a-a4bf-e10df38234eb\":{\"defs\":[],\"roots\":{\"references\":[{\"attributes\":{\"children\":[{\"id\":\"2931\"},{\"id\":\"2929\"}]},\"id\":\"2932\",\"type\":\"Column\"},{\"attributes\":{},\"id\":\"2830\",\"type\":\"Selection\"},{\"attributes\":{\"label\":{\"value\":\"Chocolate egg\"},\"renderers\":[{\"id\":\"2799\"}]},\"id\":\"2812\",\"type\":\"LegendItem\"},{\"attributes\":{\"data\":{\"fat\":{\"__ndarray__\":\"ZmZmZmZmFECamZmZmZkTQM3MzMzMzBJAZmZmZmZmEkAAAAAAAAAUQJqZmZmZmRVAZmZmZmZmEkAAAAAAAAAUQJqZmZmZmRFAmpmZmZmZE0CamZmZmZkVQDMzMzMzMxNAMzMzMzMzE0AzMzMzMzMRQDMzMzMzMxdAzczMzMzMFkCamZmZmZkVQGZmZmZmZhRAzczMzMzMFkBmZmZmZmYUQJqZmZmZmRVAZmZmZmZmFEBmZmZmZmYSQGZmZmZmZhRAMzMzMzMzE0AAAAAAAAAUQAAAAAAAABRAzczMzMzMFEDNzMzMzMwUQM3MzMzMzBJAMzMzMzMzE0CamZmZmZkVQM3MzMzMzBRAAAAAAAAAFkCamZmZmZkTQAAAAAAAABRAAAAAAAAAFkCamZmZmZkTQJqZmZmZmRFAZmZmZmZmFEAAAAAAAAAUQAAAAAAAABJAmpmZmZmZEUAAAAAAAAAUQGZmZmZmZhRAMzMzMzMzE0BmZmZmZmYUQGZmZmZmZhJAMzMzMzMzFUAAAAAAAAAUQA==\",\"dtype\":\"float64\",\"order\":\"little\",\"shape\":[50]},\"index\":[0,1,2,3,4,5,6,7,8,9,10,11,12,13,14,15,16,17,18,19,20,21,22,23,24,25,26,27,28,29,30,31,32,33,34,35,36,37,38,39,40,41,42,43,44,45,46,47,48,49],\"length\":{\"__ndarray__\":\"ZmZmZmZm9j9mZmZmZmb2P83MzMzMzPQ/AAAAAAAA+D9mZmZmZmb2PzMzMzMzM/s/ZmZmZmZm9j8AAAAAAAD4P2ZmZmZmZvY/AAAAAAAA+D8AAAAAAAD4P5qZmZmZmfk/ZmZmZmZm9j+amZmZmZnxPzMzMzMzM/M/AAAAAAAA+D/NzMzMzMz0P2ZmZmZmZvY/MzMzMzMz+z8AAAAAAAD4PzMzMzMzM/s/AAAAAAAA+D8AAAAAAADwPzMzMzMzM/s/ZmZmZmZm/j+amZmZmZn5P5qZmZmZmfk/AAAAAAAA+D9mZmZmZmb2P5qZmZmZmfk/mpmZmZmZ+T8AAAAAAAD4PwAAAAAAAPg/ZmZmZmZm9j8AAAAAAAD4PzMzMzMzM/M/zczMzMzM9D9mZmZmZmb2P83MzMzMzPQ/AAAAAAAA+D/NzMzMzMz0P83MzMzMzPQ/zczMzMzM9D+amZmZmZn5P2ZmZmZmZv4/ZmZmZmZm9j+amZmZmZn5P2ZmZmZmZvY/AAAAAAAA+D9mZmZmZmb2Pw==\",\"dtype\":\"float64\",\"order\":\"little\",\"shape\":[50]},\"protein\":{\"__ndarray__\":\"AAAAAAAADEAAAAAAAAAIQJqZmZmZmQlAzczMzMzMCEDNzMzMzMwMQDMzMzMzMw9AMzMzMzMzC0AzMzMzMzMLQDMzMzMzMwdAzczMzMzMCECamZmZmZkNQDMzMzMzMwtAAAAAAAAACEAAAAAAAAAIQAAAAAAAABBAmpmZmZmZEUAzMzMzMzMPQAAAAAAAAAxAZmZmZmZmDkBmZmZmZmYOQDMzMzMzMwtAmpmZmZmZDUDNzMzMzMwMQGZmZmZmZgpAMzMzMzMzC0AAAAAAAAAIQDMzMzMzMwtAAAAAAAAADEAzMzMzMzMLQJqZmZmZmQlAzczMzMzMCEAzMzMzMzMLQGZmZmZmZhBAzczMzMzMEEDNzMzMzMwIQJqZmZmZmQlAAAAAAAAADEDNzMzMzMwMQAAAAAAAAAhAMzMzMzMzC0AAAAAAAAAMQGZmZmZmZgJAmpmZmZmZCUAAAAAAAAAMQGZmZmZmZg5AAAAAAAAACEBmZmZmZmYOQJqZmZmZmQlAmpmZmZmZDUBmZmZmZmYKQA==\",\"dtype\":\"float64\",\"order\":\"little\",\"shape\":[50]},\"type\":[\"Vegan chocolate egg\",\"Vegan chocolate egg\",\"Vegan chocolate egg\",\"Vegan chocolate egg\",\"Vegan chocolate egg\",\"Vegan chocolate egg\",\"Vegan chocolate egg\",\"Vegan chocolate egg\",\"Vegan chocolate egg\",\"Vegan chocolate egg\",\"Vegan chocolate egg\",\"Vegan chocolate egg\",\"Vegan chocolate egg\",\"Vegan chocolate egg\",\"Vegan chocolate egg\",\"Vegan chocolate egg\",\"Vegan chocolate egg\",\"Vegan chocolate egg\",\"Vegan chocolate egg\",\"Vegan chocolate egg\",\"Vegan chocolate egg\",\"Vegan chocolate egg\",\"Vegan chocolate egg\",\"Vegan chocolate egg\",\"Vegan chocolate egg\",\"Vegan chocolate egg\",\"Vegan chocolate egg\",\"Vegan chocolate egg\",\"Vegan chocolate egg\",\"Vegan chocolate egg\",\"Vegan chocolate egg\",\"Vegan chocolate egg\",\"Vegan chocolate egg\",\"Vegan chocolate egg\",\"Vegan chocolate egg\",\"Vegan chocolate egg\",\"Vegan chocolate egg\",\"Vegan chocolate egg\",\"Vegan chocolate egg\",\"Vegan chocolate egg\",\"Vegan chocolate egg\",\"Vegan chocolate egg\",\"Vegan chocolate egg\",\"Vegan chocolate egg\",\"Vegan chocolate egg\",\"Vegan chocolate egg\",\"Vegan chocolate egg\",\"Vegan chocolate egg\",\"Vegan chocolate egg\",\"Vegan chocolate egg\"],\"width\":{\"__ndarray__\":\"mpmZmZmZyT+amZmZmZnJP5qZmZmZmck/mpmZmZmZyT+amZmZmZnJP5qZmZmZmdk/MzMzMzMz0z+amZmZmZnJP5qZmZmZmck/mpmZmZmZuT+amZmZmZnJP5qZmZmZmck/mpmZmZmZuT+amZmZmZm5P5qZmZmZmck/mpmZmZmZ2T+amZmZmZnZPzMzMzMzM9M/MzMzMzMz0z8zMzMzMzPTP5qZmZmZmck/mpmZmZmZ2T+amZmZmZnJPwAAAAAAAOA/mpmZmZmZyT+amZmZmZnJP5qZmZmZmdk/mpmZmZmZyT+amZmZmZnJP5qZmZmZmck/mpmZmZmZyT+amZmZmZnZP5qZmZmZmbk/mpmZmZmZyT+amZmZmZnJP5qZmZmZmck/mpmZmZmZyT+amZmZmZm5P5qZmZmZmck/mpmZmZmZyT8zMzMzMzPTPzMzMzMzM9M/mpmZmZmZyT8zMzMzMzPjP5qZmZmZmdk/MzMzMzMz0z+amZmZmZnJP5qZmZmZmck/mpmZmZmZyT+amZmZmZnJPw==\",\"dtype\":\"float64\",\"order\":\"little\",\"shape\":[50]}},\"selected\":{\"id\":\"2830\"},\"selection_policy\":{\"id\":\"2829\"}},\"id\":\"2813\",\"type\":\"ColumnDataSource\"},{\"attributes\":{},\"id\":\"2785\",\"type\":\"BasicTickFormatter\"},{\"attributes\":{\"label\":{\"value\":\"Vegan chocolate egg\"},\"renderers\":[{\"id\":\"2818\"}]},\"id\":\"2832\",\"type\":\"LegendItem\"},{\"attributes\":{\"tools\":[{\"id\":\"2737\"},{\"id\":\"2738\"},{\"id\":\"2739\"},{\"id\":\"2740\"},{\"id\":\"2895\"}]},\"id\":\"2742\",\"type\":\"Toolbar\"},{\"attributes\":{},\"id\":\"2786\",\"type\":\"AllLabels\"},{\"attributes\":{\"fill_alpha\":{\"value\":0.4},\"fill_color\":{\"value\":\"#abdda4\"},\"hatch_color\":{\"value\":\"#abdda4\"},\"line_color\":{\"value\":\"#abdda4\"},\"marker\":{\"value\":\"hex_dot\"},\"size\":{\"value\":12},\"x\":{\"field\":\"length\"},\"y\":{\"field\":\"width\"}},\"id\":\"2815\",\"type\":\"Scatter\"},{\"attributes\":{\"fill_alpha\":{\"value\":0.15},\"fill_color\":{\"value\":\"#fdae61\"},\"hatch_alpha\":{\"value\":0.15},\"hatch_color\":{\"value\":\"#fdae61\"},\"line_alpha\":{\"value\":0.15},\"line_color\":{\"value\":\"#fdae61\"},\"marker\":{\"value\":\"inverted_triangle\"},\"size\":{\"value\":12},\"x\":{\"field\":\"length\"},\"y\":{\"field\":\"width\"}},\"id\":\"2856\",\"type\":\"Scatter\"},{\"attributes\":{\"data\":{\"fat\":{\"__ndarray__\":\"MzMzMzMzGUAzMzMzMzMXQGZmZmZmZhxAMzMzMzMzGUAAAAAAAAAaQGZmZmZmZh5AmpmZmZmZE0AzMzMzMzMdQM3MzMzMzBpAzczMzMzMHEAAAAAAAAAaQJqZmZmZmRlAMzMzMzMzG0DNzMzMzMwWQDMzMzMzMxdAmpmZmZmZGUAAAAAAAAAaQM3MzMzMzB5AzczMzMzMHkAAAAAAAAAYQJqZmZmZmRtAZmZmZmZmFkDNzMzMzMweQDMzMzMzMxlAzczMzMzMGkDNzMzMzMwcQM3MzMzMzBhAZmZmZmZmGECamZmZmZkZQM3MzMzMzBxAmpmZmZmZHUCamZmZmZkfQJqZmZmZmRlAMzMzMzMzGUBmZmZmZmYYQM3MzMzMzB5AMzMzMzMzGUCamZmZmZkZQAAAAAAAABhAmpmZmZmZG0DNzMzMzMwaQJqZmZmZmRtAMzMzMzMzF0AzMzMzMzMbQM3MzMzMzBpAzczMzMzMGkAzMzMzMzMZQAAAAAAAABpAzczMzMzMGECamZmZmZkXQA==\",\"dtype\":\"float64\",\"order\":\"little\",\"shape\":[50]},\"index\":[100,101,102,103,104,105,106,107,108,109,110,111,112,113,114,115,116,117,118,119,120,121,122,123,124,125,126,127,128,129,130,131,132,133,134,135,136,137,138,139,140,141,142,143,144,145,146,147,148,149],\"length\":{\"__ndarray__\":\"AAAAAAAAGEBmZmZmZmYUQJqZmZmZmRdAZmZmZmZmFkAzMzMzMzMXQGZmZmZmZhpAAAAAAAAAEkAzMzMzMzMZQDMzMzMzMxdAZmZmZmZmGEBmZmZmZmYUQDMzMzMzMxVAAAAAAAAAFkAAAAAAAAAUQGZmZmZmZhRAMzMzMzMzFUAAAAAAAAAWQM3MzMzMzBpAmpmZmZmZG0AAAAAAAAAUQM3MzMzMzBZAmpmZmZmZE0DNzMzMzMwaQJqZmZmZmRNAzczMzMzMFkAAAAAAAAAYQDMzMzMzMxNAmpmZmZmZE0BmZmZmZmYWQDMzMzMzMxdAZmZmZmZmGECamZmZmZkZQGZmZmZmZhZAZmZmZmZmFEBmZmZmZmYWQGZmZmZmZhhAZmZmZmZmFkAAAAAAAAAWQDMzMzMzMxNAmpmZmZmZFUBmZmZmZmYWQGZmZmZmZhRAZmZmZmZmFECamZmZmZkXQM3MzMzMzBZAzczMzMzMFEAAAAAAAAAUQM3MzMzMzBRAmpmZmZmZFUBmZmZmZmYUQA==\",\"dtype\":\"float64\",\"order\":\"little\",\"shape\":[50]},\"protein\":{\"__ndarray__\":\"ZmZmZmZmCkCamZmZmZkFQAAAAAAAAAhAMzMzMzMzB0AAAAAAAAAIQAAAAAAAAAhAAAAAAAAABEAzMzMzMzMHQAAAAAAAAARAzczMzMzMDECamZmZmZkJQJqZmZmZmQVAAAAAAAAACEAAAAAAAAAEQGZmZmZmZgZAmpmZmZmZCUAAAAAAAAAIQGZmZmZmZg5AzczMzMzMBECamZmZmZkBQJqZmZmZmQlAZmZmZmZmBkBmZmZmZmYGQJqZmZmZmQVAZmZmZmZmCkCamZmZmZkJQGZmZmZmZgZAAAAAAAAACEBmZmZmZmYGQAAAAAAAAAhAZmZmZmZmBkBmZmZmZmYOQGZmZmZmZgZAZmZmZmZmBkDNzMzMzMwEQAAAAAAAAAhAMzMzMzMzC0DNzMzMzMwIQAAAAAAAAAhAzczMzMzMCEDNzMzMzMwIQM3MzMzMzAhAmpmZmZmZBUCamZmZmZkJQGZmZmZmZgpAAAAAAAAACEAAAAAAAAAEQAAAAAAAAAhAMzMzMzMzC0AAAAAAAAAIQA==\",\"dtype\":\"float64\",\"order\":\"little\",\"shape\":[50]},\"type\":[\"Real egg\",\"Real egg\",\"Real egg\",\"Real egg\",\"Real egg\",\"Real egg\",\"Real egg\",\"Real egg\",\"Real egg\",\"Real egg\",\"Real egg\",\"Real egg\",\"Real egg\",\"Real egg\",\"Real egg\",\"Real egg\",\"Real egg\",\"Real egg\",\"Real egg\",\"Real egg\",\"Real egg\",\"Real egg\",\"Real egg\",\"Real egg\",\"Real egg\",\"Real egg\",\"Real egg\",\"Real egg\",\"Real egg\",\"Real egg\",\"Real egg\",\"Real egg\",\"Real egg\",\"Real egg\",\"Real egg\",\"Real egg\",\"Real egg\",\"Real egg\",\"Real egg\",\"Real egg\",\"Real egg\",\"Real egg\",\"Real egg\",\"Real egg\",\"Real egg\",\"Real egg\",\"Real egg\",\"Real egg\",\"Real egg\",\"Real egg\"],\"width\":{\"__ndarray__\":\"AAAAAAAABEBmZmZmZmb+P83MzMzMzABAzczMzMzM/D+amZmZmZkBQM3MzMzMzABAMzMzMzMz+z/NzMzMzMz8P83MzMzMzPw/AAAAAAAABEAAAAAAAAAAQGZmZmZmZv4/zczMzMzMAEAAAAAAAAAAQDMzMzMzMwNAZmZmZmZmAkDNzMzMzMz8P5qZmZmZmQFAZmZmZmZmAkAAAAAAAAD4P2ZmZmZmZgJAAAAAAAAAAEAAAAAAAAAAQM3MzMzMzPw/zczMzMzMAEDNzMzMzMz8P83MzMzMzPw/zczMzMzM/D/NzMzMzMwAQJqZmZmZmfk/ZmZmZmZm/j8AAAAAAAAAQJqZmZmZmQFAAAAAAAAA+D9mZmZmZmb2P2ZmZmZmZgJAMzMzMzMzA0DNzMzMzMz8P83MzMzMzPw/zczMzMzMAEAzMzMzMzMDQGZmZmZmZgJAZmZmZmZm/j9mZmZmZmYCQAAAAAAAAARAZmZmZmZmAkBmZmZmZmb+PwAAAAAAAABAZmZmZmZmAkDNzMzMzMz8Pw==\",\"dtype\":\"float64\",\"order\":\"little\",\"shape\":[50]}},\"selected\":{\"id\":\"2871\"},\"selection_policy\":{\"id\":\"2870\"}},\"id\":\"2852\",\"type\":\"ColumnDataSource\"},{\"attributes\":{\"tools\":[{\"id\":\"2766\"},{\"id\":\"2767\"},{\"id\":\"2768\"},{\"id\":\"2769\"},{\"id\":\"2897\"}]},\"id\":\"2771\",\"type\":\"Toolbar\"},{\"attributes\":{},\"id\":\"2788\",\"type\":\"BasicTickFormatter\"},{\"attributes\":{\"fill_alpha\":{\"value\":0.1},\"fill_color\":{\"value\":\"#abdda4\"},\"hatch_alpha\":{\"value\":0.1},\"hatch_color\":{\"value\":\"#abdda4\"},\"line_alpha\":{\"value\":0.1},\"line_color\":{\"value\":\"#abdda4\"},\"marker\":{\"value\":\"hex_dot\"},\"size\":{\"value\":12},\"x\":{\"field\":\"length\"},\"y\":{\"field\":\"width\"}},\"id\":\"2816\",\"type\":\"Scatter\"},{\"attributes\":{},\"id\":\"2789\",\"type\":\"AllLabels\"},{\"attributes\":{\"data\":{\"fat\":{\"__ndarray__\":\"AAAAAAAAHECamZmZmZkZQJqZmZmZmRtAAAAAAAAAFkAAAAAAAAAaQM3MzMzMzBZAMzMzMzMzGUCamZmZmZkTQGZmZmZmZhpAzczMzMzMFEAAAAAAAAAUQJqZmZmZmRdAAAAAAAAAGEBmZmZmZmYYQGZmZmZmZhZAzczMzMzMGkBmZmZmZmYWQDMzMzMzMxdAzczMzMzMGEBmZmZmZmYWQJqZmZmZmRdAZmZmZmZmGEAzMzMzMzMZQGZmZmZmZhhAmpmZmZmZGUBmZmZmZmYaQDMzMzMzMxtAzczMzMzMGkAAAAAAAAAYQM3MzMzMzBZAAAAAAAAAFkAAAAAAAAAWQDMzMzMzMxdAAAAAAAAAGECamZmZmZkVQAAAAAAAABhAzczMzMzMGkAzMzMzMzMZQGZmZmZmZhZAAAAAAAAAFkAAAAAAAAAWQGZmZmZmZhhAMzMzMzMzF0AAAAAAAAAUQGZmZmZmZhZAzczMzMzMFkDNzMzMzMwWQM3MzMzMzBhAZmZmZmZmFEDNzMzMzMwWQA==\",\"dtype\":\"float64\",\"order\":\"little\",\"shape\":[50]},\"index\":[50,51,52,53,54,55,56,57,58,59,60,61,62,63,64,65,66,67,68,69,70,71,72,73,74,75,76,77,78,79,80,81,82,83,84,85,86,87,88,89,90,91,92,93,94,95,96,97,98,99],\"length\":{\"__ndarray__\":\"zczMzMzMEkAAAAAAAAASQJqZmZmZmRNAAAAAAAAAEEBmZmZmZmYSQAAAAAAAABJAzczMzMzMEkBmZmZmZmYKQGZmZmZmZhJAMzMzMzMzD0AAAAAAAAAMQM3MzMzMzBBAAAAAAAAAEEDNzMzMzMwSQM3MzMzMzAxAmpmZmZmZEUAAAAAAAAASQGZmZmZmZhBAAAAAAAAAEkAzMzMzMzMPQDMzMzMzMxNAAAAAAAAAEECamZmZmZkTQM3MzMzMzBJAMzMzMzMzEUCamZmZmZkRQDMzMzMzMxNAAAAAAAAAFEAAAAAAAAASQAAAAAAAAAxAZmZmZmZmDkCamZmZmZkNQDMzMzMzMw9AZmZmZmZmFEAAAAAAAAASQAAAAAAAABJAzczMzMzMEkCamZmZmZkRQGZmZmZmZhBAAAAAAAAAEECamZmZmZkRQGZmZmZmZhJAAAAAAAAAEEBmZmZmZmYKQM3MzMzMzBBAzczMzMzMEEDNzMzMzMwQQDMzMzMzMxFAAAAAAAAACEBmZmZmZmYQQA==\",\"dtype\":\"float64\",\"order\":\"little\",\"shape\":[50]},\"protein\":{\"__ndarray__\":\"mpmZmZmZCUCamZmZmZkJQM3MzMzMzAhAZmZmZmZmAkBmZmZmZmYGQGZmZmZmZgZAZmZmZmZmCkAzMzMzMzMDQDMzMzMzMwdAmpmZmZmZBUAAAAAAAAAAQAAAAAAAAAhAmpmZmZmZAUAzMzMzMzMHQDMzMzMzMwdAzczMzMzMCEAAAAAAAAAIQJqZmZmZmQVAmpmZmZmZAUAAAAAAAAAEQJqZmZmZmQlAZmZmZmZmBkAAAAAAAAAEQGZmZmZmZgZAMzMzMzMzB0AAAAAAAAAIQGZmZmZmZgZAAAAAAAAACEAzMzMzMzMHQM3MzMzMzARAMzMzMzMzA0AzMzMzMzMDQJqZmZmZmQVAmpmZmZmZBUAAAAAAAAAIQDMzMzMzMwtAzczMzMzMCEBmZmZmZmYCQAAAAAAAAAhAAAAAAAAABEDNzMzMzMwEQAAAAAAAAAhAzczMzMzMBEBmZmZmZmYCQJqZmZmZmQVAAAAAAAAACEAzMzMzMzMHQDMzMzMzMwdAAAAAAAAABEBmZmZmZmYGQA==\",\"dtype\":\"float64\",\"order\":\"little\",\"shape\":[50]},\"type\":[\"Chocolate egg\",\"Chocolate egg\",\"Chocolate egg\",\"Chocolate egg\",\"Chocolate egg\",\"Chocolate egg\",\"Chocolate egg\",\"Chocolate egg\",\"Chocolate egg\",\"Chocolate egg\",\"Chocolate egg\",\"Chocolate egg\",\"Chocolate egg\",\"Chocolate egg\",\"Chocolate egg\",\"Chocolate egg\",\"Chocolate egg\",\"Chocolate egg\",\"Chocolate egg\",\"Chocolate egg\",\"Chocolate egg\",\"Chocolate egg\",\"Chocolate egg\",\"Chocolate egg\",\"Chocolate egg\",\"Chocolate egg\",\"Chocolate egg\",\"Chocolate egg\",\"Chocolate egg\",\"Chocolate egg\",\"Chocolate egg\",\"Chocolate egg\",\"Chocolate egg\",\"Chocolate egg\",\"Chocolate egg\",\"Chocolate egg\",\"Chocolate egg\",\"Chocolate egg\",\"Chocolate egg\",\"Chocolate egg\",\"Chocolate egg\",\"Chocolate egg\",\"Chocolate egg\",\"Chocolate egg\",\"Chocolate egg\",\"Chocolate egg\",\"Chocolate egg\",\"Chocolate egg\",\"Chocolate egg\",\"Chocolate egg\"],\"width\":{\"__ndarray__\":\"ZmZmZmZm9j8AAAAAAAD4PwAAAAAAAPg/zczMzMzM9D8AAAAAAAD4P83MzMzMzPQ/mpmZmZmZ+T8AAAAAAADwP83MzMzMzPQ/ZmZmZmZm9j8AAAAAAADwPwAAAAAAAPg/AAAAAAAA8D9mZmZmZmb2P83MzMzMzPQ/ZmZmZmZm9j8AAAAAAAD4PwAAAAAAAPA/AAAAAAAA+D+amZmZmZnxP83MzMzMzPw/zczMzMzM9D8AAAAAAAD4PzMzMzMzM/M/zczMzMzM9D9mZmZmZmb2P2ZmZmZmZvY/MzMzMzMz+z8AAAAAAAD4PwAAAAAAAPA/mpmZmZmZ8T8AAAAAAADwPzMzMzMzM/M/mpmZmZmZ+T8AAAAAAAD4P5qZmZmZmfk/AAAAAAAA+D/NzMzMzMz0P83MzMzMzPQ/zczMzMzM9D8zMzMzMzPzP2ZmZmZmZvY/MzMzMzMz8z8AAAAAAADwP83MzMzMzPQ/MzMzMzMz8z/NzMzMzMz0P83MzMzMzPQ/mpmZmZmZ8T/NzMzMzMz0Pw==\",\"dtype\":\"float64\",\"order\":\"little\",\"shape\":[50]}},\"selected\":{\"id\":\"2791\"},\"selection_policy\":{\"id\":\"2790\"}},\"id\":\"2776\",\"type\":\"ColumnDataSource\"},{\"attributes\":{\"coordinates\":null,\"data_source\":{\"id\":\"2813\"},\"glyph\":{\"id\":\"2815\"},\"group\":null,\"hover_glyph\":null,\"muted_glyph\":{\"id\":\"2817\"},\"nonselection_glyph\":{\"id\":\"2816\"},\"view\":{\"id\":\"2819\"},\"visible\":false},\"id\":\"2818\",\"type\":\"GlyphRenderer\"},{\"attributes\":{},\"id\":\"2790\",\"type\":\"UnionRenderers\"},{\"attributes\":{},\"id\":\"2791\",\"type\":\"Selection\"},{\"attributes\":{},\"id\":\"2752\",\"type\":\"DataRange1d\"},{\"attributes\":{\"coordinates\":null,\"data_source\":{\"id\":\"2852\"},\"glyph\":{\"id\":\"2854\"},\"group\":null,\"hover_glyph\":null,\"muted_glyph\":{\"id\":\"2856\"},\"nonselection_glyph\":{\"id\":\"2855\"},\"view\":{\"id\":\"2858\"},\"visible\":false},\"id\":\"2857\",\"type\":\"GlyphRenderer\"},{\"attributes\":{\"overlay\":{\"id\":\"2770\"}},\"id\":\"2766\",\"type\":\"LassoSelectTool\"},{\"attributes\":{\"below\":[{\"id\":\"2758\"}],\"center\":[{\"id\":\"2761\"},{\"id\":\"2765\"},{\"id\":\"2811\"}],\"height\":450,\"left\":[{\"id\":\"2762\"}],\"renderers\":[{\"id\":\"2799\"},{\"id\":\"2837\"},{\"id\":\"2878\"}],\"title\":{\"id\":\"2748\"},\"toolbar\":{\"id\":\"2771\"},\"toolbar_location\":null,\"width\":450,\"x_range\":{\"id\":\"2750\"},\"x_scale\":{\"id\":\"2754\"},\"y_range\":{\"id\":\"2752\"},\"y_scale\":{\"id\":\"2756\"}},\"id\":\"2747\",\"subtype\":\"Figure\",\"type\":\"Plot\"},{\"attributes\":{},\"id\":\"2829\",\"type\":\"UnionRenderers\"},{\"attributes\":{\"coordinates\":null,\"data_source\":{\"id\":\"2813\"},\"glyph\":{\"id\":\"2834\"},\"group\":null,\"hover_glyph\":null,\"muted_glyph\":{\"id\":\"2836\"},\"nonselection_glyph\":{\"id\":\"2835\"},\"view\":{\"id\":\"2838\"}},\"id\":\"2837\",\"type\":\"GlyphRenderer\"},{\"attributes\":{\"source\":{\"id\":\"2813\"}},\"id\":\"2819\",\"type\":\"CDSView\"},{\"attributes\":{\"coordinates\":null,\"group\":null,\"text\":\"Egg fat and protein content\"},\"id\":\"2748\",\"type\":\"Title\"},{\"attributes\":{\"fill_alpha\":{\"value\":0.4},\"fill_color\":{\"value\":\"#abdda4\"},\"hatch_color\":{\"value\":\"#abdda4\"},\"line_color\":{\"value\":\"#abdda4\"},\"marker\":{\"value\":\"hex_dot\"},\"size\":{\"value\":12},\"x\":{\"field\":\"fat\"},\"y\":{\"field\":\"protein\"}},\"id\":\"2834\",\"type\":\"Scatter\"},{\"attributes\":{\"axis\":{\"id\":\"2758\"},\"coordinates\":null,\"group\":null,\"ticker\":null},\"id\":\"2761\",\"type\":\"Grid\"},{\"attributes\":{\"fill_alpha\":{\"value\":0.15},\"fill_color\":{\"value\":\"#abdda4\"},\"hatch_alpha\":{\"value\":0.15},\"hatch_color\":{\"value\":\"#abdda4\"},\"line_alpha\":{\"value\":0.15},\"line_color\":{\"value\":\"#abdda4\"},\"marker\":{\"value\":\"hex_dot\"},\"size\":{\"value\":12},\"x\":{\"field\":\"length\"},\"y\":{\"field\":\"width\"}},\"id\":\"2817\",\"type\":\"Scatter\"},{\"attributes\":{\"fill_alpha\":{\"value\":0.1},\"fill_color\":{\"value\":\"#abdda4\"},\"hatch_alpha\":{\"value\":0.1},\"hatch_color\":{\"value\":\"#abdda4\"},\"line_alpha\":{\"value\":0.1},\"line_color\":{\"value\":\"#abdda4\"},\"marker\":{\"value\":\"hex_dot\"},\"size\":{\"value\":12},\"x\":{\"field\":\"fat\"},\"y\":{\"field\":\"protein\"}},\"id\":\"2835\",\"type\":\"Scatter\"},{\"attributes\":{\"label\":{\"value\":\"Vegan chocolate egg\"},\"renderers\":[{\"id\":\"2837\"}]},\"id\":\"2851\",\"type\":\"LegendItem\"},{\"attributes\":{\"fill_alpha\":{\"value\":0.1},\"fill_color\":{\"value\":\"#abdda4\"},\"hatch_alpha\":{\"value\":0.1},\"hatch_color\":{\"value\":\"#abdda4\"},\"line_alpha\":{\"value\":0.1},\"line_color\":{\"value\":\"#abdda4\"},\"marker\":{\"value\":\"hex_dot\"},\"size\":{\"value\":12},\"x\":{\"field\":\"fat\"},\"y\":{\"field\":\"protein\"}},\"id\":\"2836\",\"type\":\"Scatter\"},{\"attributes\":{\"source\":{\"id\":\"2813\"}},\"id\":\"2838\",\"type\":\"CDSView\"},{\"attributes\":{\"axis_label\":\"Protein (g)\",\"coordinates\":null,\"formatter\":{\"id\":\"2803\"},\"group\":null,\"major_label_policy\":{\"id\":\"2804\"},\"ticker\":{\"id\":\"2763\"}},\"id\":\"2762\",\"type\":\"LinearAxis\"},{\"attributes\":{\"source\":{\"id\":\"2776\"}},\"id\":\"2800\",\"type\":\"CDSView\"},{\"attributes\":{\"below\":[{\"id\":\"2729\"}],\"center\":[{\"id\":\"2732\"},{\"id\":\"2736\"},{\"id\":\"2793\"}],\"height\":450,\"left\":[{\"id\":\"2733\"}],\"renderers\":[{\"id\":\"2781\"},{\"id\":\"2818\"},{\"id\":\"2857\"}],\"title\":{\"id\":\"2719\"},\"toolbar\":{\"id\":\"2742\"},\"toolbar_location\":null,\"width\":450,\"x_range\":{\"id\":\"2721\"},\"x_scale\":{\"id\":\"2725\"},\"y_range\":{\"id\":\"2723\"},\"y_scale\":{\"id\":\"2727\"}},\"id\":\"2718\",\"subtype\":\"Figure\",\"type\":\"Plot\"},{\"attributes\":{\"coordinates\":null,\"data_source\":{\"id\":\"2776\"},\"glyph\":{\"id\":\"2796\"},\"group\":null,\"hover_glyph\":null,\"muted_glyph\":{\"id\":\"2798\"},\"nonselection_glyph\":{\"id\":\"2797\"},\"view\":{\"id\":\"2800\"}},\"id\":\"2799\",\"type\":\"GlyphRenderer\"},{\"attributes\":{\"click_policy\":\"mute\",\"coordinates\":null,\"group\":null,\"items\":[{\"id\":\"2812\"},{\"id\":\"2851\"},{\"id\":\"2894\"}],\"location\":\"top_left\"},\"id\":\"2811\",\"type\":\"Legend\"},{\"attributes\":{\"source\":{\"id\":\"2776\"}},\"id\":\"2782\",\"type\":\"CDSView\"},{\"attributes\":{\"fill_alpha\":{\"value\":0.4},\"fill_color\":{\"value\":\"#2b83ba\"},\"hatch_color\":{\"value\":\"#2b83ba\"},\"line_color\":{\"value\":\"#2b83ba\"},\"size\":{\"value\":12},\"x\":{\"field\":\"fat\"},\"y\":{\"field\":\"protein\"}},\"id\":\"2796\",\"type\":\"Scatter\"},{\"attributes\":{\"fill_alpha\":{\"value\":0.1},\"fill_color\":{\"value\":\"#2b83ba\"},\"hatch_alpha\":{\"value\":0.1},\"hatch_color\":{\"value\":\"#2b83ba\"},\"line_alpha\":{\"value\":0.1},\"line_color\":{\"value\":\"#2b83ba\"},\"size\":{\"value\":12},\"x\":{\"field\":\"fat\"},\"y\":{\"field\":\"protein\"}},\"id\":\"2797\",\"type\":\"Scatter\"},{\"attributes\":{},\"id\":\"2723\",\"type\":\"DataRange1d\"},{\"attributes\":{\"coordinates\":null,\"fill_alpha\":0.5,\"fill_color\":\"lightgrey\",\"group\":null,\"level\":\"overlay\",\"line_alpha\":1.0,\"line_color\":\"black\",\"line_dash\":[4,4],\"line_width\":2,\"syncable\":false,\"xs_units\":\"screen\",\"ys_units\":\"screen\"},\"id\":\"2770\",\"type\":\"PolyAnnotation\"},{\"attributes\":{\"fill_alpha\":{\"value\":0.4},\"fill_color\":{\"value\":\"#fdae61\"},\"hatch_color\":{\"value\":\"#fdae61\"},\"line_color\":{\"value\":\"#fdae61\"},\"marker\":{\"value\":\"inverted_triangle\"},\"size\":{\"value\":12},\"x\":{\"field\":\"fat\"},\"y\":{\"field\":\"protein\"}},\"id\":\"2875\",\"type\":\"Scatter\"},{\"attributes\":{},\"id\":\"2870\",\"type\":\"UnionRenderers\"},{\"attributes\":{\"coordinates\":null,\"group\":null,\"text\":\"Egg width and length\"},\"id\":\"2719\",\"type\":\"Title\"},{\"attributes\":{},\"id\":\"2721\",\"type\":\"DataRange1d\"},{\"attributes\":{},\"id\":\"2725\",\"type\":\"LinearScale\"},{\"attributes\":{},\"id\":\"2768\",\"type\":\"ResetTool\"},{\"attributes\":{},\"id\":\"2727\",\"type\":\"LinearScale\"},{\"attributes\":{\"axis\":{\"id\":\"2729\"},\"coordinates\":null,\"group\":null,\"ticker\":null},\"id\":\"2732\",\"type\":\"Grid\"},{\"attributes\":{},\"id\":\"2730\",\"type\":\"BasicTicker\"},{\"attributes\":{},\"id\":\"2803\",\"type\":\"BasicTickFormatter\"},{\"attributes\":{\"axis_label\":\"Width (cm)\",\"coordinates\":null,\"formatter\":{\"id\":\"2785\"},\"group\":null,\"major_label_policy\":{\"id\":\"2786\"},\"ticker\":{\"id\":\"2734\"}},\"id\":\"2733\",\"type\":\"LinearAxis\"},{\"attributes\":{\"axis_label\":\"Length (cm)\",\"coordinates\":null,\"formatter\":{\"id\":\"2788\"},\"group\":null,\"major_label_policy\":{\"id\":\"2789\"},\"ticker\":{\"id\":\"2730\"}},\"id\":\"2729\",\"type\":\"LinearAxis\"},{\"attributes\":{},\"id\":\"2740\",\"type\":\"SaveTool\"},{\"attributes\":{},\"id\":\"2804\",\"type\":\"AllLabels\"},{\"attributes\":{},\"id\":\"2871\",\"type\":\"Selection\"},{\"attributes\":{},\"id\":\"2806\",\"type\":\"BasicTickFormatter\"},{\"attributes\":{\"axis\":{\"id\":\"2733\"},\"coordinates\":null,\"dimension\":1,\"group\":null,\"ticker\":null},\"id\":\"2736\",\"type\":\"Grid\"},{\"attributes\":{},\"id\":\"2734\",\"type\":\"BasicTicker\"},{\"attributes\":{\"fill_alpha\":{\"value\":0.4},\"fill_color\":{\"value\":\"#fdae61\"},\"hatch_color\":{\"value\":\"#fdae61\"},\"line_color\":{\"value\":\"#fdae61\"},\"marker\":{\"value\":\"inverted_triangle\"},\"size\":{\"value\":12},\"x\":{\"field\":\"length\"},\"y\":{\"field\":\"width\"}},\"id\":\"2854\",\"type\":\"Scatter\"},{\"attributes\":{\"source\":{\"id\":\"2852\"}},\"id\":\"2858\",\"type\":\"CDSView\"},{\"attributes\":{},\"id\":\"2807\",\"type\":\"AllLabels\"},{\"attributes\":{},\"id\":\"2739\",\"type\":\"ResetTool\"},{\"attributes\":{\"coordinates\":null,\"data_source\":{\"id\":\"2852\"},\"glyph\":{\"id\":\"2875\"},\"group\":null,\"hover_glyph\":null,\"muted_glyph\":{\"id\":\"2877\"},\"nonselection_glyph\":{\"id\":\"2876\"},\"view\":{\"id\":\"2879\"}},\"id\":\"2878\",\"type\":\"GlyphRenderer\"},{\"attributes\":{\"callback\":null},\"id\":\"2767\",\"type\":\"TapTool\"},{\"attributes\":{\"label\":{\"value\":\"Real egg\"},\"renderers\":[{\"id\":\"2857\"}]},\"id\":\"2873\",\"type\":\"LegendItem\"},{\"attributes\":{\"fill_alpha\":{\"value\":0.1},\"fill_color\":{\"value\":\"#fdae61\"},\"hatch_alpha\":{\"value\":0.1},\"hatch_color\":{\"value\":\"#fdae61\"},\"line_alpha\":{\"value\":0.1},\"line_color\":{\"value\":\"#fdae61\"},\"marker\":{\"value\":\"inverted_triangle\"},\"size\":{\"value\":12},\"x\":{\"field\":\"fat\"},\"y\":{\"field\":\"protein\"}},\"id\":\"2876\",\"type\":\"Scatter\"},{\"attributes\":{\"callback\":null,\"tooltips\":[[\"Fat\",\"@fat{0.0} g\"],[\"Protein\",\"@protein{0.0} g\"]]},\"id\":\"2897\",\"type\":\"HoverTool\"},{\"attributes\":{\"label\":{\"value\":\"Real egg\"},\"renderers\":[{\"id\":\"2878\"}]},\"id\":\"2894\",\"type\":\"LegendItem\"},{\"attributes\":{\"fill_alpha\":{\"value\":0.1},\"fill_color\":{\"value\":\"#fdae61\"},\"hatch_alpha\":{\"value\":0.1},\"hatch_color\":{\"value\":\"#fdae61\"},\"line_alpha\":{\"value\":0.1},\"line_color\":{\"value\":\"#fdae61\"},\"marker\":{\"value\":\"inverted_triangle\"},\"size\":{\"value\":12},\"x\":{\"field\":\"fat\"},\"y\":{\"field\":\"protein\"}},\"id\":\"2877\",\"type\":\"Scatter\"},{\"attributes\":{\"callback\":null,\"tooltips\":[[\"Egg type\",\"@type\"],[\"Length\",\"@length{0.0} cm\"],[\"Width\",\"@width{0.0} cm\"]]},\"id\":\"2895\",\"type\":\"HoverTool\"},{\"attributes\":{\"source\":{\"id\":\"2852\"}},\"id\":\"2879\",\"type\":\"CDSView\"},{\"attributes\":{},\"id\":\"2754\",\"type\":\"LinearScale\"},{\"attributes\":{\"fill_alpha\":{\"value\":0.4},\"fill_color\":{\"value\":\"#2b83ba\"},\"hatch_color\":{\"value\":\"#2b83ba\"},\"line_color\":{\"value\":\"#2b83ba\"},\"size\":{\"value\":12},\"x\":{\"field\":\"length\"},\"y\":{\"field\":\"width\"}},\"id\":\"2778\",\"type\":\"Scatter\"},{\"attributes\":{},\"id\":\"2756\",\"type\":\"LinearScale\"},{\"attributes\":{\"label\":{\"value\":\"Chocolate egg\"},\"renderers\":[{\"id\":\"2781\"}]},\"id\":\"2794\",\"type\":\"LegendItem\"},{\"attributes\":{\"overlay\":{\"id\":\"2741\"}},\"id\":\"2737\",\"type\":\"LassoSelectTool\"},{\"attributes\":{\"callback\":null},\"id\":\"2738\",\"type\":\"TapTool\"},{\"attributes\":{\"coordinates\":null,\"fill_alpha\":0.5,\"fill_color\":\"lightgrey\",\"group\":null,\"level\":\"overlay\",\"line_alpha\":1.0,\"line_color\":\"black\",\"line_dash\":[4,4],\"line_width\":2,\"syncable\":false,\"xs_units\":\"screen\",\"ys_units\":\"screen\"},\"id\":\"2741\",\"type\":\"PolyAnnotation\"},{\"attributes\":{\"children\":[[{\"id\":\"2718\"},0,0],[{\"id\":\"2747\"},0,1]]},\"id\":\"2929\",\"type\":\"GridBox\"},{\"attributes\":{},\"id\":\"2769\",\"type\":\"SaveTool\"},{\"attributes\":{\"fill_alpha\":{\"value\":0.1},\"fill_color\":{\"value\":\"#2b83ba\"},\"hatch_alpha\":{\"value\":0.1},\"hatch_color\":{\"value\":\"#2b83ba\"},\"line_alpha\":{\"value\":0.1},\"line_color\":{\"value\":\"#2b83ba\"},\"size\":{\"value\":12},\"x\":{\"field\":\"fat\"},\"y\":{\"field\":\"protein\"}},\"id\":\"2798\",\"type\":\"Scatter\"},{\"attributes\":{\"fill_alpha\":{\"value\":0.1},\"fill_color\":{\"value\":\"#2b83ba\"},\"hatch_alpha\":{\"value\":0.1},\"hatch_color\":{\"value\":\"#2b83ba\"},\"line_alpha\":{\"value\":0.1},\"line_color\":{\"value\":\"#2b83ba\"},\"size\":{\"value\":12},\"x\":{\"field\":\"length\"},\"y\":{\"field\":\"width\"}},\"id\":\"2779\",\"type\":\"Scatter\"},{\"attributes\":{\"toolbars\":[{\"id\":\"2742\"},{\"id\":\"2771\"}],\"tools\":[{\"id\":\"2737\"},{\"id\":\"2738\"},{\"id\":\"2739\"},{\"id\":\"2740\"},{\"id\":\"2895\"},{\"id\":\"2766\"},{\"id\":\"2767\"},{\"id\":\"2768\"},{\"id\":\"2769\"},{\"id\":\"2897\"}]},\"id\":\"2930\",\"type\":\"ProxyToolbar\"},{\"attributes\":{\"fill_alpha\":{\"value\":0.15},\"fill_color\":{\"value\":\"#2b83ba\"},\"hatch_alpha\":{\"value\":0.15},\"hatch_color\":{\"value\":\"#2b83ba\"},\"line_alpha\":{\"value\":0.15},\"line_color\":{\"value\":\"#2b83ba\"},\"size\":{\"value\":12},\"x\":{\"field\":\"length\"},\"y\":{\"field\":\"width\"}},\"id\":\"2780\",\"type\":\"Scatter\"},{\"attributes\":{\"toolbar\":{\"id\":\"2930\"},\"toolbar_location\":\"above\"},\"id\":\"2931\",\"type\":\"ToolbarBox\"},{\"attributes\":{\"fill_alpha\":{\"value\":0.1},\"fill_color\":{\"value\":\"#fdae61\"},\"hatch_alpha\":{\"value\":0.1},\"hatch_color\":{\"value\":\"#fdae61\"},\"line_alpha\":{\"value\":0.1},\"line_color\":{\"value\":\"#fdae61\"},\"marker\":{\"value\":\"inverted_triangle\"},\"size\":{\"value\":12},\"x\":{\"field\":\"length\"},\"y\":{\"field\":\"width\"}},\"id\":\"2855\",\"type\":\"Scatter\"},{\"attributes\":{},\"id\":\"2750\",\"type\":\"DataRange1d\"},{\"attributes\":{},\"id\":\"2759\",\"type\":\"BasicTicker\"},{\"attributes\":{},\"id\":\"2763\",\"type\":\"BasicTicker\"},{\"attributes\":{\"axis_label\":\"Fat (g)\",\"coordinates\":null,\"formatter\":{\"id\":\"2806\"},\"group\":null,\"major_label_policy\":{\"id\":\"2807\"},\"ticker\":{\"id\":\"2759\"}},\"id\":\"2758\",\"type\":\"LinearAxis\"},{\"attributes\":{\"click_policy\":\"hide\",\"coordinates\":null,\"group\":null,\"items\":[{\"id\":\"2794\"},{\"id\":\"2832\"},{\"id\":\"2873\"}],\"location\":\"top_left\"},\"id\":\"2793\",\"type\":\"Legend\"},{\"attributes\":{\"axis\":{\"id\":\"2762\"},\"coordinates\":null,\"dimension\":1,\"group\":null,\"ticker\":null},\"id\":\"2765\",\"type\":\"Grid\"},{\"attributes\":{\"coordinates\":null,\"data_source\":{\"id\":\"2776\"},\"glyph\":{\"id\":\"2778\"},\"group\":null,\"hover_glyph\":null,\"muted_glyph\":{\"id\":\"2780\"},\"nonselection_glyph\":{\"id\":\"2779\"},\"view\":{\"id\":\"2782\"},\"visible\":false},\"id\":\"2781\",\"type\":\"GlyphRenderer\"}],\"root_ids\":[\"2932\"]},\"title\":\"Bokeh Application\",\"version\":\"2.4.3\"}};\n",
       "  const render_items = [{\"docid\":\"5eb5d006-3429-496a-a4bf-e10df38234eb\",\"root_ids\":[\"2932\"],\"roots\":{\"2932\":\"bd1e6b33-56bd-40b1-be75-c838eb8c8cd1\"}}];\n",
       "  root.Bokeh.embed.embed_items_notebook(docs_json, render_items);\n",
       "  }\n",
       "  if (root.Bokeh !== undefined) {\n",
       "    embed_document(root);\n",
       "  } else {\n",
       "    let attempts = 0;\n",
       "    const timer = setInterval(function(root) {\n",
       "      if (root.Bokeh !== undefined) {\n",
       "        clearInterval(timer);\n",
       "        embed_document(root);\n",
       "      } else {\n",
       "        attempts++;\n",
       "        if (attempts > 100) {\n",
       "          clearInterval(timer);\n",
       "          console.log(\"Bokeh: ERROR: Unable to run BokehJS code because BokehJS library is missing\");\n",
       "        }\n",
       "      }\n",
       "    }, 10, root)\n",
       "  }\n",
       "})(window);"
      ],
      "application/vnd.bokehjs_exec.v0+json": ""
     },
     "metadata": {
      "application/vnd.bokehjs_exec.v0+json": {
       "id": "2932"
      }
     },
     "output_type": "display_data"
    }
   ],
   "source": [
    "toolList = ['lasso_select', 'tap', 'reset', 'save'] # Change something here\n",
    "\n",
    "fm = factor_mark(\"type\", markers, types)\n",
    "fc = factor_cmap(\"type\", color_map, types)\n",
    "\n",
    "p_1 = figure(title = \"Egg width and length\", \n",
    "             tools=toolList, \n",
    "             plot_width=450, \n",
    "             plot_height=450)\n",
    "\n",
    "p_1.xaxis.axis_label = \"Length (cm)\"\n",
    "p_1.yaxis.axis_label = \"Width (cm)\"\n",
    "\n",
    "p_2 = figure(title = \"Egg fat and protein content\", \n",
    "             tools=toolList, \n",
    "             plot_width=450, \n",
    "             plot_height=450)\n",
    "\n",
    "p_2.xaxis.axis_label = \"Fat (g)\"\n",
    "p_2.yaxis.axis_label = \"Protein (g)\"\n",
    "\n",
    "for i in range(3):\n",
    "    source = ColumnDataSource(egg_data.loc[egg_data['type'] == types[i]])\n",
    "    \n",
    "    p_1.scatter(\"length\", \n",
    "                \"width\",\n",
    "                source=source, \n",
    "                legend_label=types[i],\n",
    "                marker=markers[i],\n",
    "                color=color_map[i],\n",
    "                fill_alpha=0.4, \n",
    "                size=12,\n",
    "                muted_alpha=0.15,\n",
    "                visible=False\n",
    "                )\n",
    "\n",
    "    p_2.scatter(\"fat\", \n",
    "                \"protein\",\n",
    "                source=source, \n",
    "                legend_label=types[i],\n",
    "                marker=markers[i],\n",
    "                color=color_map[i],\n",
    "                fill_alpha=0.4, \n",
    "                size=12,\n",
    "                muted_alpha=0.1\n",
    "                )\n",
    "\n",
    "p_1.legend.location = \"top_left\"\n",
    "p_2.legend.location = \"top_left\"\n",
    "\n",
    "p_1.legend.click_policy = 'hide'\n",
    "p_2.legend.click_policy = 'mute'\n",
    "\n",
    "p_1.add_tools(\n",
    "    HoverTool(\n",
    "        tooltips=[\n",
    "            (\"Egg type\", \"@type\"),\n",
    "            (\"Length\", \"@length{0.0} cm\"),\n",
    "            (\"Width\", \"@width{0.0} cm\"),\n",
    "\n",
    "        ],\n",
    "    )\n",
    ")\n",
    "\n",
    "p_2.add_tools(\n",
    "    HoverTool(\n",
    "        tooltips=[\n",
    "            (\"Fat\", \"@fat{0.0} g\"),\n",
    "            (\"Protein\", \"@protein{0.0} g\"),\n",
    "\n",
    "        ],\n",
    "    )\n",
    ")\n",
    "\n",
    "grid = gridplot([[p_1, p_2]]) # Change something here\n",
    "show(grid)"
   ]
  },
  {
   "cell_type": "markdown",
   "metadata": {},
   "source": [
    "### <b><font color='blue'>Your Turn: Add 2 more plots</font></b><a id='fourth_act'></a>\n",
    "[[back to top]](#top)\n",
    "\n",
    "- Add two more plots below the existing ones showing the relation between width and fat and length and protein\n",
    "    - Make sure to adjust the title and axes names\n",
    "    - Update the tooltips\n",
    "    - Move the legends to an approriate place\n",
    "    - Feel free to play around with different settings\n",
    "- Add a box selection (in addition to lasso selection) to the toolbox    \n",
    "\n"
   ]
  },
  {
   "cell_type": "markdown",
   "metadata": {},
   "source": [
    "### Save your plot<a id='save'></a>\n",
    "[[back to top]](#top)\n",
    "\n",
    "\n",
    "Save your plot using `output_file()`.\n",
    "Note that calling `output_file()` anywhere in the Jupyter notebook activates a persistent mode that saves all outputs to files and causes `show()` to open new tabs with those files. \n",
    "You can deactivate persistent and avoid a tab bomb mode using `reset_output()`. [[Source]](https://stackoverflow.com/questions/51512907/how-to-stop-bokeh-from-opening-a-new-tab-in-jupyter-notebook) "
   ]
  },
  {
   "cell_type": "code",
   "execution_count": 11,
   "metadata": {},
   "outputs": [],
   "source": [
    "output_file(\"../outputs/easter_egg_viz.html\", title='Easter egg data')\n",
    "save(grid)\n",
    "reset_output()"
   ]
  },
  {
   "cell_type": "code",
   "execution_count": null,
   "metadata": {},
   "outputs": [],
   "source": []
  }
 ],
 "metadata": {
  "kernelspec": {
   "display_name": "bokeh_demo",
   "language": "python",
   "name": "bokeh_demo"
  },
  "language_info": {
   "codemirror_mode": {
    "name": "ipython",
    "version": 3
   },
   "file_extension": ".py",
   "mimetype": "text/x-python",
   "name": "python",
   "nbconvert_exporter": "python",
   "pygments_lexer": "ipython3",
   "version": "3.10.10"
  }
 },
 "nbformat": 4,
 "nbformat_minor": 2
}

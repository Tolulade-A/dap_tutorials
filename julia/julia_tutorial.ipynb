{
 "cells": [
  {
   "cell_type": "markdown",
   "id": "31521514",
   "metadata": {},
   "source": [
    "Welcome to the Julia tutorial 👋! \n",
    "\n",
    "We're largely going to be comparing Julia and Python 🐍 across two dimensions: syntax and speed. \n",
    "\n",
    "We will also explore one of those fundamental julia concepts: multiple dispatch."
   ]
  },
  {
   "cell_type": "markdown",
   "id": "40245067",
   "metadata": {},
   "source": [
    "## 0. Load packages"
   ]
  },
  {
   "cell_type": "markdown",
   "id": "173a97a4",
   "metadata": {},
   "source": [
    "We're going to load [BenchmarkTools](https://github.com/JuliaCI/BenchmarkTools.jl), a nice package that performance tracks Julia code and [PyCall](https://github.com/JuliaPy/PyCall.jl), a Julia package that lets you call python functions from the Julia language."
   ]
  },
  {
   "cell_type": "code",
   "execution_count": 1,
   "id": "0e40c8ca",
   "metadata": {},
   "outputs": [
    {
     "name": "stderr",
     "output_type": "stream",
     "text": [
      "\u001b[32m\u001b[1m    Updating\u001b[22m\u001b[39m registry at `~/.julia/registries/General.toml`\n",
      "\u001b[32m\u001b[1m   Resolving\u001b[22m\u001b[39m package versions...\n",
      "\u001b[32m\u001b[1m   Installed\u001b[22m\u001b[39m FFMPEG_jll ─ v4.4.2+2\n",
      "\u001b[32m\u001b[1m  No Changes\u001b[22m\u001b[39m to `~/.julia/environments/v1.7/Project.toml`\n",
      "\u001b[32m\u001b[1m    Updating\u001b[22m\u001b[39m `~/.julia/environments/v1.7/Manifest.toml`\n",
      " \u001b[90m [b22a6f82] \u001b[39m\u001b[93m↑ FFMPEG_jll v4.4.2+1 ⇒ v4.4.2+2\u001b[39m\n",
      "\u001b[32m\u001b[1mPrecompiling\u001b[22m\u001b[39m project...\n",
      "\u001b[32m  ✓ \u001b[39m\u001b[90mFFMPEG_jll\u001b[39m\n",
      "\u001b[91m  ✗ \u001b[39m\u001b[90mFFMPEG\u001b[39m\n",
      "\u001b[91m  ✗ \u001b[39m\u001b[90mGR_jll\u001b[39m\n",
      "  1 dependency successfully precompiled in 6 seconds (171 already precompiled)\n",
      "  \u001b[91m2\u001b[39m dependencies errored. To see a full report either run `import Pkg; Pkg.precompile()` or load the packages\n",
      "\u001b[32m\u001b[1m   Resolving\u001b[22m\u001b[39m package versions...\n",
      "\u001b[32m\u001b[1m  No Changes\u001b[22m\u001b[39m to `~/.julia/environments/v1.7/Project.toml`\n",
      "\u001b[32m\u001b[1m  No Changes\u001b[22m\u001b[39m to `~/.julia/environments/v1.7/Manifest.toml`\n"
     ]
    }
   ],
   "source": [
    "using Pkg\n",
    "Pkg.add(\"BenchmarkTools\")\n",
    "Pkg.add(\"PyCall\")\n",
    "\n",
    "using BenchmarkTools \n",
    "using PyCall"
   ]
  },
  {
   "cell_type": "markdown",
   "id": "e0217568",
   "metadata": {},
   "source": [
    "## Syntax"
   ]
  },
  {
   "cell_type": "markdown",
   "id": "3db8db4c",
   "metadata": {},
   "source": [
    "First up, the Julia syntax. \n",
    "\n",
    "We're going to cover the bare minimum of how to print, assign variables, comment, some basic syntax for math and some string operations in Julia."
   ]
  },
  {
   "cell_type": "markdown",
   "id": "2af8b515",
   "metadata": {},
   "source": [
    "### 0. How to print"
   ]
  },
  {
   "cell_type": "code",
   "execution_count": 2,
   "id": "db236015",
   "metadata": {},
   "outputs": [
    {
     "name": "stdout",
     "output_type": "stream",
     "text": [
      "I'm excited to learn Julia!\n"
     ]
    }
   ],
   "source": [
    "println(\"I'm excited to learn Julia!\")"
   ]
  },
  {
   "cell_type": "markdown",
   "id": "79b319f4",
   "metadata": {},
   "source": [
    "### 1. Assign variables"
   ]
  },
  {
   "cell_type": "code",
   "execution_count": 3,
   "id": "c2fdd408",
   "metadata": {},
   "outputs": [
    {
     "data": {
      "text/plain": [
       "Int64"
      ]
     },
     "execution_count": 3,
     "metadata": {},
     "output_type": "execute_result"
    }
   ],
   "source": [
    "my_answer = 42\n",
    "typeof(my_answer)"
   ]
  },
  {
   "cell_type": "code",
   "execution_count": 4,
   "id": "c5eee5d1",
   "metadata": {},
   "outputs": [
    {
     "data": {
      "text/plain": [
       "Float64"
      ]
     },
     "execution_count": 4,
     "metadata": {},
     "output_type": "execute_result"
    }
   ],
   "source": [
    "my_pi = 3.14159\n",
    "typeof(my_pi)"
   ]
  },
  {
   "cell_type": "markdown",
   "id": "6dbfa20e",
   "metadata": {},
   "source": [
    "you can assign to emojis in julia..."
   ]
  },
  {
   "cell_type": "code",
   "execution_count": 5,
   "id": "1363b224",
   "metadata": {},
   "outputs": [
    {
     "data": {
      "text/plain": [
       "String"
      ]
     },
     "execution_count": 5,
     "metadata": {},
     "output_type": "execute_result"
    }
   ],
   "source": [
    "😺 = \"smiley cat!\"\n",
    "typeof(😺)"
   ]
  },
  {
   "cell_type": "code",
   "execution_count": 6,
   "id": "0c5e3910",
   "metadata": {},
   "outputs": [
    {
     "data": {
      "text/plain": [
       "3"
      ]
     },
     "execution_count": 6,
     "metadata": {},
     "output_type": "execute_result"
    }
   ],
   "source": [
    "😀 = 3\n",
    "😀"
   ]
  },
  {
   "cell_type": "code",
   "execution_count": 7,
   "id": "160930fe",
   "metadata": {},
   "outputs": [
    {
     "data": {
      "text/plain": [
       "-1"
      ]
     },
     "execution_count": 7,
     "metadata": {},
     "output_type": "execute_result"
    }
   ],
   "source": [
    "😞 = -1\n",
    "😞"
   ]
  },
  {
   "cell_type": "code",
   "execution_count": 8,
   "id": "fd274462",
   "metadata": {},
   "outputs": [
    {
     "data": {
      "text/plain": [
       "2"
      ]
     },
     "execution_count": 8,
     "metadata": {},
     "output_type": "execute_result"
    }
   ],
   "source": [
    "emoji_math = 😀 + 😞"
   ]
  },
  {
   "cell_type": "code",
   "execution_count": 9,
   "id": "cab01dad",
   "metadata": {},
   "outputs": [
    {
     "name": "stdout",
     "output_type": "stream",
     "text": [
      "2\n"
     ]
    }
   ],
   "source": [
    "println(emoji_math)"
   ]
  },
  {
   "cell_type": "markdown",
   "id": "4a2fbfdb",
   "metadata": {},
   "source": [
    "you can comment single lines in the same way as you do in Python. For lines of code, you can:"
   ]
  },
  {
   "cell_type": "code",
   "execution_count": 10,
   "id": "cd313ba5",
   "metadata": {},
   "outputs": [],
   "source": [
    "#=\n",
    "\n",
    "For multi-line comments, \n",
    "use the '#= =#' sequence.\n",
    "\n",
    "=#"
   ]
  },
  {
   "cell_type": "markdown",
   "id": "f7543c0a",
   "metadata": {},
   "source": [
    "The basic syntax to add, subtract divide and multiple is the same in Julia. \n",
    "\n",
    "Can you assign 10 to one variable and 20 to another variable and add them together to create a new variable? Can you convert the new variable to a float?"
   ]
  },
  {
   "cell_type": "code",
   "execution_count": null,
   "id": "0ec8d9d7",
   "metadata": {},
   "outputs": [],
   "source": []
  },
  {
   "cell_type": "markdown",
   "id": "e326c4ed",
   "metadata": {},
   "source": [
    "As for strings, much like how you use f' in python, you can use the $ sign to insert existing variables into a string."
   ]
  },
  {
   "cell_type": "code",
   "execution_count": 11,
   "id": "94589190",
   "metadata": {},
   "outputs": [
    {
     "data": {
      "text/plain": [
       "10"
      ]
     },
     "execution_count": 11,
     "metadata": {},
     "output_type": "execute_result"
    }
   ],
   "source": [
    "name = \"Jane\"\n",
    "num_fingers = 10\n",
    "num_toes = 10"
   ]
  },
  {
   "cell_type": "code",
   "execution_count": 12,
   "id": "726799a2",
   "metadata": {},
   "outputs": [
    {
     "name": "stdout",
     "output_type": "stream",
     "text": [
      "Hello, my name is Jane.\n",
      "I have 10 fingers and 10 toes.\n"
     ]
    }
   ],
   "source": [
    "println(\"Hello, my name is $name.\")\n",
    "println(\"I have $num_fingers fingers and $num_toes toes.\")"
   ]
  },
  {
   "cell_type": "code",
   "execution_count": 13,
   "id": "fac70732",
   "metadata": {},
   "outputs": [
    {
     "name": "stdout",
     "output_type": "stream",
     "text": [
      "That is 20 digits in all!!\n"
     ]
    }
   ],
   "source": [
    "println(\"That is $(num_fingers + num_toes) digits in all!!\")"
   ]
  },
  {
   "cell_type": "markdown",
   "id": "073586a0",
   "metadata": {},
   "source": [
    "Can you complete the following exercise?\n",
    "\n",
    "Declare two variables\n",
    "\n",
    "```julia\n",
    "a = 3\n",
    "b = 4\n",
    "```\n",
    "and use them to create two strings:\n",
    "```julia\n",
    "\"3 + 4\"\n",
    "\"7\" \n",
    "```\n",
    "and store the results in `c` and `d` respectively"
   ]
  },
  {
   "cell_type": "markdown",
   "id": "3b18ac12",
   "metadata": {},
   "source": [
    "## Speed"
   ]
  },
  {
   "cell_type": "markdown",
   "id": "427eac8b",
   "metadata": {},
   "source": [
    "We're now going to show off Julia's speed by comparing a very simple operation in Julia and in Python.\n",
    "\n",
    "Consider the sum function sum(a), which sums all the elements of a."
   ]
  },
  {
   "cell_type": "code",
   "execution_count": 14,
   "id": "f5a808f7",
   "metadata": {},
   "outputs": [
    {
     "data": {
      "text/plain": [
       "10000000-element Vector{Float64}:\n",
       " 0.7524167785275826\n",
       " 0.8092798746574756\n",
       " 0.8483658058913708\n",
       " 0.8028556284283226\n",
       " 0.9780116405801058\n",
       " 0.5107331040023988\n",
       " 0.05231557612799609\n",
       " 0.06242203692598414\n",
       " 0.7523835858893788\n",
       " 0.17009890172762598\n",
       " 0.1170748898530064\n",
       " 0.487256085186065\n",
       " 0.3906302330651732\n",
       " ⋮\n",
       " 0.5596092740894731\n",
       " 0.018938277498184664\n",
       " 0.3733819087957816\n",
       " 0.6027001577479931\n",
       " 0.7749348881360296\n",
       " 0.5471964908401885\n",
       " 0.7424165852294232\n",
       " 0.37471839611327884\n",
       " 0.16271799379051566\n",
       " 0.38677756772407923\n",
       " 0.8621695645216663\n",
       " 0.5456069187723294"
      ]
     },
     "execution_count": 14,
     "metadata": {},
     "output_type": "execute_result"
    }
   ],
   "source": [
    "a = rand(10^7) # 1D vector of random numbers, uniform"
   ]
  },
  {
   "cell_type": "code",
   "execution_count": 15,
   "id": "8364b318",
   "metadata": {},
   "outputs": [
    {
     "data": {
      "text/plain": [
       "Dict{Any, Any} with 1 entry:\n",
       "  \"Julia built-in\" => 1.83708"
      ]
     },
     "execution_count": 15,
     "metadata": {},
     "output_type": "execute_result"
    }
   ],
   "source": [
    "sum(a)\n",
    "\n",
    "d = Dict()  # a \"dictionary\", i.e. an associative array\n",
    "j_bench = @benchmark sum(a)\n",
    "d[\"Julia built-in\"] = minimum(j_bench.times) / 1e6\n",
    "d"
   ]
  },
  {
   "cell_type": "markdown",
   "id": "4a5c4fe3",
   "metadata": {},
   "source": [
    "We can see how long this same operation will take in Python using PyCall, a package that provides a Julia interface to Python. "
   ]
  },
  {
   "cell_type": "code",
   "execution_count": 16,
   "id": "e20a18af",
   "metadata": {},
   "outputs": [
    {
     "data": {
      "text/plain": [
       "PyObject <built-in function sum>"
      ]
     },
     "execution_count": 16,
     "metadata": {},
     "output_type": "execute_result"
    }
   ],
   "source": [
    "pysum = pybuiltin(\"sum\")"
   ]
  },
  {
   "cell_type": "code",
   "execution_count": 17,
   "id": "129c943d",
   "metadata": {},
   "outputs": [
    {
     "data": {
      "text/plain": [
       "4.998709925567024e6"
      ]
     },
     "execution_count": 17,
     "metadata": {},
     "output_type": "execute_result"
    }
   ],
   "source": [
    "pysum(a)"
   ]
  },
  {
   "cell_type": "code",
   "execution_count": 18,
   "id": "0c75e079",
   "metadata": {},
   "outputs": [
    {
     "data": {
      "text/plain": [
       "true"
      ]
     },
     "execution_count": 18,
     "metadata": {},
     "output_type": "execute_result"
    }
   ],
   "source": [
    "pysum(a) ≈ sum(a)"
   ]
  },
  {
   "cell_type": "code",
   "execution_count": 19,
   "id": "821024d4",
   "metadata": {},
   "outputs": [
    {
     "data": {
      "text/plain": [
       "BenchmarkTools.Trial: 7 samples with 1 evaluation.\n",
       " Range \u001b[90m(\u001b[39m\u001b[36m\u001b[1mmin\u001b[22m\u001b[39m … \u001b[35mmax\u001b[39m\u001b[90m):  \u001b[39m\u001b[36m\u001b[1m809.914 ms\u001b[22m\u001b[39m … \u001b[35m818.890 ms\u001b[39m  \u001b[90m┊\u001b[39m GC \u001b[90m(\u001b[39mmin … max\u001b[90m): \u001b[39m0.00% … 0.00%\n",
       " Time  \u001b[90m(\u001b[39m\u001b[34m\u001b[1mmedian\u001b[22m\u001b[39m\u001b[90m):     \u001b[39m\u001b[34m\u001b[1m816.004 ms               \u001b[22m\u001b[39m\u001b[90m┊\u001b[39m GC \u001b[90m(\u001b[39mmedian\u001b[90m):    \u001b[39m0.00%\n",
       " Time  \u001b[90m(\u001b[39m\u001b[32m\u001b[1mmean\u001b[22m\u001b[39m ± \u001b[32mσ\u001b[39m\u001b[90m):   \u001b[39m\u001b[32m\u001b[1m815.285 ms\u001b[22m\u001b[39m ± \u001b[32m  3.082 ms\u001b[39m  \u001b[90m┊\u001b[39m GC \u001b[90m(\u001b[39mmean ± σ\u001b[90m):  \u001b[39m0.00% ± 0.00%\n",
       "\n",
       "  \u001b[39m█\u001b[39m \u001b[39m \u001b[39m \u001b[39m \u001b[39m \u001b[39m \u001b[39m \u001b[39m \u001b[39m \u001b[39m \u001b[39m \u001b[39m \u001b[39m \u001b[39m \u001b[39m \u001b[39m \u001b[39m█\u001b[39m \u001b[39m \u001b[39m \u001b[39m \u001b[39m \u001b[39m \u001b[39m \u001b[39m \u001b[39m \u001b[39m \u001b[39m \u001b[39m \u001b[39m \u001b[39m \u001b[39m \u001b[39m \u001b[39m \u001b[39m \u001b[39m \u001b[32m \u001b[39m\u001b[39m \u001b[39m \u001b[34m█\u001b[39m\u001b[39m█\u001b[39m█\u001b[39m \u001b[39m \u001b[39m \u001b[39m \u001b[39m \u001b[39m \u001b[39m \u001b[39m \u001b[39m \u001b[39m█\u001b[39m \u001b[39m \u001b[39m \u001b[39m \u001b[39m \u001b[39m \u001b[39m \u001b[39m█\u001b[39m \u001b[39m \n",
       "  \u001b[39m█\u001b[39m▁\u001b[39m▁\u001b[39m▁\u001b[39m▁\u001b[39m▁\u001b[39m▁\u001b[39m▁\u001b[39m▁\u001b[39m▁\u001b[39m▁\u001b[39m▁\u001b[39m▁\u001b[39m▁\u001b[39m▁\u001b[39m▁\u001b[39m▁\u001b[39m█\u001b[39m▁\u001b[39m▁\u001b[39m▁\u001b[39m▁\u001b[39m▁\u001b[39m▁\u001b[39m▁\u001b[39m▁\u001b[39m▁\u001b[39m▁\u001b[39m▁\u001b[39m▁\u001b[39m▁\u001b[39m▁\u001b[39m▁\u001b[39m▁\u001b[39m▁\u001b[39m▁\u001b[39m▁\u001b[32m▁\u001b[39m\u001b[39m▁\u001b[39m▁\u001b[34m█\u001b[39m\u001b[39m█\u001b[39m█\u001b[39m▁\u001b[39m▁\u001b[39m▁\u001b[39m▁\u001b[39m▁\u001b[39m▁\u001b[39m▁\u001b[39m▁\u001b[39m▁\u001b[39m█\u001b[39m▁\u001b[39m▁\u001b[39m▁\u001b[39m▁\u001b[39m▁\u001b[39m▁\u001b[39m▁\u001b[39m█\u001b[39m \u001b[39m▁\n",
       "  810 ms\u001b[90m           Histogram: frequency by time\u001b[39m          819 ms \u001b[0m\u001b[1m<\u001b[22m\n",
       "\n",
       " Memory estimate\u001b[90m: \u001b[39m\u001b[33m240 bytes\u001b[39m, allocs estimate\u001b[90m: \u001b[39m\u001b[33m6\u001b[39m."
      ]
     },
     "execution_count": 19,
     "metadata": {},
     "output_type": "execute_result"
    }
   ],
   "source": [
    "py_list_bench = @benchmark $pysum($a)"
   ]
  },
  {
   "cell_type": "code",
   "execution_count": 20,
   "id": "cc658b45",
   "metadata": {},
   "outputs": [
    {
     "data": {
      "text/plain": [
       "Dict{Any, Any} with 2 entries:\n",
       "  \"Julia built-in\"  => 1.83708\n",
       "  \"Python built-in\" => 809.914"
      ]
     },
     "execution_count": 20,
     "metadata": {},
     "output_type": "execute_result"
    }
   ],
   "source": [
    "d[\"Python built-in\"] = minimum(py_list_bench.times) / 1e6\n",
    "d"
   ]
  },
  {
   "cell_type": "markdown",
   "id": "b6ad7c37",
   "metadata": {},
   "source": [
    "What about in hand-written Julia?"
   ]
  },
  {
   "cell_type": "code",
   "execution_count": 21,
   "id": "5be8e673",
   "metadata": {},
   "outputs": [
    {
     "data": {
      "text/plain": [
       "mysum (generic function with 1 method)"
      ]
     },
     "execution_count": 21,
     "metadata": {},
     "output_type": "execute_result"
    }
   ],
   "source": [
    "function mysum(A)   \n",
    "    s = 0.0 # s = zero(eltype(a))\n",
    "    for a in A\n",
    "        s += a\n",
    "    end\n",
    "    s\n",
    "end"
   ]
  },
  {
   "cell_type": "code",
   "execution_count": 22,
   "id": "7027b557",
   "metadata": {},
   "outputs": [
    {
     "data": {
      "text/plain": [
       "9.382"
      ]
     },
     "execution_count": 22,
     "metadata": {},
     "output_type": "execute_result"
    }
   ],
   "source": [
    "j_bench_hand = @benchmark mysum($a)\n",
    "d[\"Julia hand-written\"] = minimum(j_bench_hand.times) / 1e6"
   ]
  },
  {
   "cell_type": "markdown",
   "id": "04f882bb",
   "metadata": {},
   "source": [
    "How do these the three methods compare? Reflect on these benchmark scores:"
   ]
  },
  {
   "cell_type": "code",
   "execution_count": 23,
   "id": "ac1ffb36",
   "metadata": {},
   "outputs": [
    {
     "name": "stdout",
     "output_type": "stream",
     "text": [
      "Julia built-in..............1.8\n",
      "Julia hand-written..........9.4\n",
      "Python built-in...........809.9\n"
     ]
    }
   ],
   "source": [
    "for (key, value) in sort(collect(d), by=last)\n",
    "    println(rpad(key, 25, \".\"), lpad(round(value; digits=1), 6, \".\"))\n",
    "end"
   ]
  },
  {
   "cell_type": "markdown",
   "id": "fb592b7a",
   "metadata": {},
   "source": [
    "meanwhile, to also explore the role defining types has in Julia's speed, consider the two following dictionaries, d1 and d2. \n",
    "\n",
    "We don't define any types in dictionary d1 but do in d2. d2 is a dictionary with string keys and array elements as values. We will pass these dictionaries into the function f1. \n"
   ]
  },
  {
   "cell_type": "code",
   "execution_count": 24,
   "id": "0d2b6d4c",
   "metadata": {},
   "outputs": [
    {
     "data": {
      "text/plain": [
       "f1 (generic function with 1 method)"
      ]
     },
     "execution_count": 24,
     "metadata": {},
     "output_type": "execute_result"
    }
   ],
   "source": [
    "d1 = Dict()\n",
    "d2 = Dict{Char, Int}()\n",
    "\n",
    "function f1(d, x::Int)\n",
    "    d[convert(Char, x)] = x\n",
    "end"
   ]
  },
  {
   "cell_type": "markdown",
   "id": "9e8dbc8f",
   "metadata": {},
   "source": [
    "lets benchmark this function with d1, the dictionary without any types declared."
   ]
  },
  {
   "cell_type": "code",
   "execution_count": 25,
   "id": "e9c130bf",
   "metadata": {},
   "outputs": [
    {
     "data": {
      "text/plain": [
       "BenchmarkTools.Trial: 10000 samples with 9 evaluations.\n",
       " Range \u001b[90m(\u001b[39m\u001b[36m\u001b[1mmin\u001b[22m\u001b[39m … \u001b[35mmax\u001b[39m\u001b[90m):  \u001b[39m\u001b[36m\u001b[1m2.838 μs\u001b[22m\u001b[39m … \u001b[35m 4.514 μs\u001b[39m  \u001b[90m┊\u001b[39m GC \u001b[90m(\u001b[39mmin … max\u001b[90m): \u001b[39m0.00% … 0.00%\n",
       " Time  \u001b[90m(\u001b[39m\u001b[34m\u001b[1mmedian\u001b[22m\u001b[39m\u001b[90m):     \u001b[39m\u001b[34m\u001b[1m2.856 μs              \u001b[22m\u001b[39m\u001b[90m┊\u001b[39m GC \u001b[90m(\u001b[39mmedian\u001b[90m):    \u001b[39m0.00%\n",
       " Time  \u001b[90m(\u001b[39m\u001b[32m\u001b[1mmean\u001b[22m\u001b[39m ± \u001b[32mσ\u001b[39m\u001b[90m):   \u001b[39m\u001b[32m\u001b[1m2.875 μs\u001b[22m\u001b[39m ± \u001b[32m99.440 ns\u001b[39m  \u001b[90m┊\u001b[39m GC \u001b[90m(\u001b[39mmean ± σ\u001b[90m):  \u001b[39m0.00% ± 0.00%\n",
       "\n",
       "  \u001b[39m▃\u001b[39m▆\u001b[39m█\u001b[34m▆\u001b[39m\u001b[39m▆\u001b[32m▂\u001b[39m\u001b[39m \u001b[39m \u001b[39m \u001b[39m \u001b[39m \u001b[39m \u001b[39m \u001b[39m \u001b[39m \u001b[39m \u001b[39m \u001b[39m \u001b[39m \u001b[39m \u001b[39m \u001b[39m \u001b[39m \u001b[39m \u001b[39m \u001b[39m \u001b[39m \u001b[39m \u001b[39m \u001b[39m \u001b[39m \u001b[39m▁\u001b[39m▁\u001b[39m▂\u001b[39m \u001b[39m \u001b[39m \u001b[39m \u001b[39m \u001b[39m \u001b[39m \u001b[39m \u001b[39m \u001b[39m \u001b[39m \u001b[39m \u001b[39m \u001b[39m \u001b[39m \u001b[39m \u001b[39m \u001b[39m \u001b[39m \u001b[39m \u001b[39m \u001b[39m \u001b[39m \u001b[39m \u001b[39m \u001b[39m▂\n",
       "  \u001b[39m█\u001b[39m█\u001b[39m█\u001b[34m█\u001b[39m\u001b[39m█\u001b[32m█\u001b[39m\u001b[39m█\u001b[39m▃\u001b[39m▄\u001b[39m▄\u001b[39m▅\u001b[39m▄\u001b[39m▅\u001b[39m▄\u001b[39m▅\u001b[39m▄\u001b[39m▇\u001b[39m▆\u001b[39m▆\u001b[39m▆\u001b[39m▆\u001b[39m▄\u001b[39m▃\u001b[39m▅\u001b[39m▆\u001b[39m▅\u001b[39m▅\u001b[39m▄\u001b[39m▄\u001b[39m▅\u001b[39m▅\u001b[39m█\u001b[39m█\u001b[39m█\u001b[39m█\u001b[39m█\u001b[39m▅\u001b[39m▆\u001b[39m▅\u001b[39m▅\u001b[39m▄\u001b[39m▁\u001b[39m▃\u001b[39m▄\u001b[39m▁\u001b[39m▆\u001b[39m▄\u001b[39m▄\u001b[39m▄\u001b[39m▄\u001b[39m▃\u001b[39m▄\u001b[39m▃\u001b[39m▄\u001b[39m▁\u001b[39m▄\u001b[39m▄\u001b[39m▃\u001b[39m \u001b[39m█\n",
       "  2.84 μs\u001b[90m      \u001b[39m\u001b[90mHistogram: \u001b[39m\u001b[90m\u001b[1mlog(\u001b[22m\u001b[39m\u001b[90mfrequency\u001b[39m\u001b[90m\u001b[1m)\u001b[22m\u001b[39m\u001b[90m by time\u001b[39m     3.24 μs \u001b[0m\u001b[1m<\u001b[22m\n",
       "\n",
       " Memory estimate\u001b[90m: \u001b[39m\u001b[33m0 bytes\u001b[39m, allocs estimate\u001b[90m: \u001b[39m\u001b[33m0\u001b[39m."
      ]
     },
     "execution_count": 25,
     "metadata": {},
     "output_type": "execute_result"
    }
   ],
   "source": [
    "@benchmark for i = 1:50\n",
    "    f1(d1, i)\n",
    "       end"
   ]
  },
  {
   "cell_type": "markdown",
   "id": "69aeae78",
   "metadata": {},
   "source": [
    "lets do the same again with d2, the dictionary with declared types."
   ]
  },
  {
   "cell_type": "code",
   "execution_count": 26,
   "id": "6bf67604",
   "metadata": {},
   "outputs": [
    {
     "data": {
      "text/plain": [
       "BenchmarkTools.Trial: 10000 samples with 10 evaluations.\n",
       " Range \u001b[90m(\u001b[39m\u001b[36m\u001b[1mmin\u001b[22m\u001b[39m … \u001b[35mmax\u001b[39m\u001b[90m):  \u001b[39m\u001b[36m\u001b[1m1.308 μs\u001b[22m\u001b[39m … \u001b[35m 12.450 μs\u001b[39m  \u001b[90m┊\u001b[39m GC \u001b[90m(\u001b[39mmin … max\u001b[90m): \u001b[39m0.00% … 0.00%\n",
       " Time  \u001b[90m(\u001b[39m\u001b[34m\u001b[1mmedian\u001b[22m\u001b[39m\u001b[90m):     \u001b[39m\u001b[34m\u001b[1m1.350 μs               \u001b[22m\u001b[39m\u001b[90m┊\u001b[39m GC \u001b[90m(\u001b[39mmedian\u001b[90m):    \u001b[39m0.00%\n",
       " Time  \u001b[90m(\u001b[39m\u001b[32m\u001b[1mmean\u001b[22m\u001b[39m ± \u001b[32mσ\u001b[39m\u001b[90m):   \u001b[39m\u001b[32m\u001b[1m1.363 μs\u001b[22m\u001b[39m ± \u001b[32m142.619 ns\u001b[39m  \u001b[90m┊\u001b[39m GC \u001b[90m(\u001b[39mmean ± σ\u001b[90m):  \u001b[39m0.00% ± 0.00%\n",
       "\n",
       "  \u001b[39m \u001b[39m█\u001b[39m \u001b[39m \u001b[39m \u001b[39m▇\u001b[34m \u001b[39m\u001b[32m \u001b[39m\u001b[39m \u001b[39m \u001b[39m \u001b[39m \u001b[39m \u001b[39m \u001b[39m \u001b[39m \u001b[39m \u001b[39m \u001b[39m \u001b[39m \u001b[39m \u001b[39m \u001b[39m \u001b[39m \u001b[39m \u001b[39m \u001b[39m \u001b[39m \u001b[39m \u001b[39m \u001b[39m \u001b[39m \u001b[39m \u001b[39m \u001b[39m \u001b[39m \u001b[39m \u001b[39m \u001b[39m \u001b[39m \u001b[39m \u001b[39m \u001b[39m \u001b[39m \u001b[39m \u001b[39m \u001b[39m \u001b[39m \u001b[39m \u001b[39m \u001b[39m \u001b[39m \u001b[39m \u001b[39m \u001b[39m \u001b[39m \u001b[39m \u001b[39m \u001b[39m \u001b[39m \u001b[39m \n",
       "  \u001b[39m▃\u001b[39m█\u001b[39m▆\u001b[39m▂\u001b[39m▅\u001b[39m█\u001b[34m▇\u001b[39m\u001b[32m▄\u001b[39m\u001b[39m▄\u001b[39m▄\u001b[39m▃\u001b[39m▃\u001b[39m▃\u001b[39m▂\u001b[39m▃\u001b[39m▃\u001b[39m▂\u001b[39m▂\u001b[39m▂\u001b[39m▃\u001b[39m▂\u001b[39m▂\u001b[39m▂\u001b[39m▂\u001b[39m▂\u001b[39m▂\u001b[39m▂\u001b[39m▁\u001b[39m▂\u001b[39m▂\u001b[39m▂\u001b[39m▂\u001b[39m▂\u001b[39m▂\u001b[39m▂\u001b[39m▁\u001b[39m▂\u001b[39m▁\u001b[39m▂\u001b[39m▂\u001b[39m▂\u001b[39m▁\u001b[39m▂\u001b[39m▂\u001b[39m▁\u001b[39m▁\u001b[39m▂\u001b[39m▂\u001b[39m▂\u001b[39m▁\u001b[39m▂\u001b[39m▂\u001b[39m▂\u001b[39m▂\u001b[39m▂\u001b[39m▁\u001b[39m▂\u001b[39m▂\u001b[39m▂\u001b[39m \u001b[39m▃\n",
       "  1.31 μs\u001b[90m         Histogram: frequency by time\u001b[39m        1.75 μs \u001b[0m\u001b[1m<\u001b[22m\n",
       "\n",
       " Memory estimate\u001b[90m: \u001b[39m\u001b[33m0 bytes\u001b[39m, allocs estimate\u001b[90m: \u001b[39m\u001b[33m0\u001b[39m."
      ]
     },
     "execution_count": 26,
     "metadata": {},
     "output_type": "execute_result"
    }
   ],
   "source": [
    "@benchmark for i = 1:50\n",
    "    f1(d2, i)\n",
    "       end"
   ]
  },
  {
   "cell_type": "markdown",
   "id": "49c2c32d",
   "metadata": {},
   "source": [
    "see? faster still! ⏩ "
   ]
  },
  {
   "cell_type": "markdown",
   "id": "6669594b",
   "metadata": {},
   "source": [
    "## Multiple Dispatch"
   ]
  },
  {
   "cell_type": "markdown",
   "id": "ec181eaa",
   "metadata": {},
   "source": [
    "remember: Multiple dispatch refers to when a function behaves differently depending on the types of its arguments. Let's follow an example of basic dispatch."
   ]
  },
  {
   "cell_type": "markdown",
   "id": "2d80e071",
   "metadata": {},
   "source": [
    "### 0. Basic Dispatch"
   ]
  },
  {
   "cell_type": "markdown",
   "id": "93bae6c7",
   "metadata": {},
   "source": [
    "One example of basic dispatch is demonstrated with the function f below: "
   ]
  },
  {
   "cell_type": "code",
   "execution_count": 27,
   "id": "570252d9",
   "metadata": {},
   "outputs": [
    {
     "data": {
      "text/plain": [
       "f (generic function with 5 methods)"
      ]
     },
     "execution_count": 27,
     "metadata": {},
     "output_type": "execute_result"
    }
   ],
   "source": [
    "f(a, b) = \"fallback\"\n",
    "f(a::Number, b::Number) = \"a and b are both numbers\"\n",
    "f(a::Number, b) = \"a is a number\"\n",
    "f(a, b::Number) = \"b is a number\"\n",
    "f(a::Integer, b::Integer) = \"a and b are both integers\""
   ]
  },
  {
   "cell_type": "code",
   "execution_count": 28,
   "id": "7a56ae03",
   "metadata": {},
   "outputs": [
    {
     "data": {
      "text/html": [
       "# 5 methods for generic function <b>f</b>:<ul><li> f(a::<b>Integer</b>, b::<b>Integer</b>) in Main at In[27]:5</li> <li> f(a::<b>Number</b>, b::<b>Number</b>) in Main at In[27]:2</li> <li> f(a::<b>Number</b>, b) in Main at In[27]:3</li> <li> f(a, b::<b>Number</b>) in Main at In[27]:4</li> <li> f(a, b) in Main at In[27]:1</li> </ul>"
      ],
      "text/plain": [
       "# 5 methods for generic function \"f\":\n",
       "[1] f(a::Integer, b::Integer) in Main at In[27]:5\n",
       "[2] f(a::Number, b::Number) in Main at In[27]:2\n",
       "[3] f(a::Number, b) in Main at In[27]:3\n",
       "[4] f(a, b::Number) in Main at In[27]:4\n",
       "[5] f(a, b) in Main at In[27]:1"
      ]
     },
     "execution_count": 28,
     "metadata": {},
     "output_type": "execute_result"
    }
   ],
   "source": [
    "methods(f)"
   ]
  },
  {
   "cell_type": "code",
   "execution_count": 29,
   "id": "67929c4a",
   "metadata": {},
   "outputs": [
    {
     "data": {
      "text/plain": [
       "\"a and b are both numbers\""
      ]
     },
     "execution_count": 29,
     "metadata": {},
     "output_type": "execute_result"
    }
   ],
   "source": [
    "f(1.5, 2)"
   ]
  },
  {
   "cell_type": "code",
   "execution_count": 30,
   "id": "2826a1da",
   "metadata": {},
   "outputs": [
    {
     "data": {
      "text/plain": [
       "\"a is a number\""
      ]
     },
     "execution_count": 30,
     "metadata": {},
     "output_type": "execute_result"
    }
   ],
   "source": [
    "f(1, \"bar\")"
   ]
  },
  {
   "cell_type": "code",
   "execution_count": 31,
   "id": "748608dc",
   "metadata": {},
   "outputs": [
    {
     "data": {
      "text/plain": [
       "\"a and b are both integers\""
      ]
     },
     "execution_count": 31,
     "metadata": {},
     "output_type": "execute_result"
    }
   ],
   "source": [
    "f(1, 2)"
   ]
  },
  {
   "cell_type": "code",
   "execution_count": 32,
   "id": "4ab0627e",
   "metadata": {},
   "outputs": [
    {
     "data": {
      "text/plain": [
       "\"fallback\""
      ]
     },
     "execution_count": 32,
     "metadata": {},
     "output_type": "execute_result"
    }
   ],
   "source": [
    "f(\"foo\", [1,2])"
   ]
  },
  {
   "cell_type": "markdown",
   "id": "aac400aa",
   "metadata": {},
   "source": [
    "Can you write a function that repeats a string an integer number of times which takes the arguments in either order?\n",
    "\n",
    "\n",
    "**hints:** you declare a type with `::`, you can use `repeat` to repeat elements n times. \n",
    "\n",
    "As a reminder, a typical function in julia looks like this:\n",
    "\n",
    "```\n",
    "function f(x,y)\n",
    "           x + y\n",
    "       end\n",
    "```\n",
    "\n",
    "where you 'end' a function, rather than 'return'.\n",
    "       \n",
    "or, the compact \"assignment form\" of the above function:\n",
    "\n",
    "```\n",
    "f(x,y) = x + y\n",
    "```\n",
    "\n",
    "both work! "
   ]
  },
  {
   "cell_type": "markdown",
   "id": "dc66b11f",
   "metadata": {},
   "source": [
    "## Julia free for alls "
   ]
  },
  {
   "cell_type": "markdown",
   "id": "7b4d153b",
   "metadata": {},
   "source": [
    "If you've finished up the exercises in this notebook, feel free to just play around with the language and write a few lines of Julia code! \n",
    "\n",
    "Perhaps try out using one of the libraries mentioned in the [Julia TL;DR](https://github.com/nestauk/ds_meetings/tree/main/tutorials/julia#libraries). "
   ]
  },
  {
   "cell_type": "code",
   "execution_count": null,
   "id": "76997c40",
   "metadata": {},
   "outputs": [],
   "source": []
  }
 ],
 "metadata": {
  "kernelspec": {
   "display_name": "Julia 1.7.3",
   "language": "julia",
   "name": "julia-1.7"
  },
  "language_info": {
   "file_extension": ".jl",
   "mimetype": "application/julia",
   "name": "julia",
   "version": "1.7.3"
  }
 },
 "nbformat": 4,
 "nbformat_minor": 5
}

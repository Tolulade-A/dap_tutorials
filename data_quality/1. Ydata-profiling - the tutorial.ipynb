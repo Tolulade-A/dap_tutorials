{
 "cells": [
  {
   "cell_type": "markdown",
   "id": "f9a5e086",
   "metadata": {},
   "source": [
    "In this tutorial we explore the **Ydata-profiling** Python package, formely known as **pandas-profiling**. It's a useful package to quickly inpect new data, perform exploratory data analysis and more generally for data profiling.\n",
    "\n",
    "The tutorial was inspired by the [official documentation](https://ydata-profiling.ydata.ai/docs/master/index.html)."
   ]
  },
  {
   "cell_type": "markdown",
   "id": "13245e79",
   "metadata": {},
   "source": [
    "# Package imports"
   ]
  },
  {
   "cell_type": "code",
   "execution_count": 1,
   "id": "8074e1dc",
   "metadata": {},
   "outputs": [],
   "source": [
    "import pandas as pd\n",
    "from ydata_profiling import ProfileReport, compare\n",
    "import numpy as np"
   ]
  },
  {
   "cell_type": "code",
   "execution_count": null,
   "id": "177626b8",
   "metadata": {},
   "outputs": [],
   "source": []
  },
  {
   "cell_type": "markdown",
   "id": "d2e04193",
   "metadata": {},
   "source": [
    "## Titanic dataset"
   ]
  },
  {
   "cell_type": "code",
   "execution_count": 2,
   "id": "7680b6a4",
   "metadata": {
    "scrolled": true
   },
   "outputs": [],
   "source": [
    "titanic = pd.read_csv(\"titanic.csv\")"
   ]
  },
  {
   "cell_type": "code",
   "execution_count": 3,
   "id": "54404ff2",
   "metadata": {},
   "outputs": [
    {
     "data": {
      "text/html": [
       "<div>\n",
       "<style scoped>\n",
       "    .dataframe tbody tr th:only-of-type {\n",
       "        vertical-align: middle;\n",
       "    }\n",
       "\n",
       "    .dataframe tbody tr th {\n",
       "        vertical-align: top;\n",
       "    }\n",
       "\n",
       "    .dataframe thead th {\n",
       "        text-align: right;\n",
       "    }\n",
       "</style>\n",
       "<table border=\"1\" class=\"dataframe\">\n",
       "  <thead>\n",
       "    <tr style=\"text-align: right;\">\n",
       "      <th></th>\n",
       "      <th>passenger_id</th>\n",
       "      <th>survived</th>\n",
       "      <th>pclass</th>\n",
       "      <th>sex</th>\n",
       "      <th>age</th>\n",
       "      <th>sibsp</th>\n",
       "      <th>parch</th>\n",
       "      <th>fare</th>\n",
       "      <th>embarked</th>\n",
       "      <th>class</th>\n",
       "      <th>who</th>\n",
       "      <th>adult_male</th>\n",
       "      <th>deck</th>\n",
       "      <th>embark_town</th>\n",
       "      <th>alive</th>\n",
       "      <th>alone</th>\n",
       "    </tr>\n",
       "  </thead>\n",
       "  <tbody>\n",
       "    <tr>\n",
       "      <th>0</th>\n",
       "      <td>0</td>\n",
       "      <td>0</td>\n",
       "      <td>3</td>\n",
       "      <td>male</td>\n",
       "      <td>22.0</td>\n",
       "      <td>1</td>\n",
       "      <td>0</td>\n",
       "      <td>7.2500</td>\n",
       "      <td>S</td>\n",
       "      <td>Third</td>\n",
       "      <td>man</td>\n",
       "      <td>True</td>\n",
       "      <td>NaN</td>\n",
       "      <td>Southampton</td>\n",
       "      <td>no</td>\n",
       "      <td>False</td>\n",
       "    </tr>\n",
       "    <tr>\n",
       "      <th>1</th>\n",
       "      <td>1</td>\n",
       "      <td>1</td>\n",
       "      <td>1</td>\n",
       "      <td>female</td>\n",
       "      <td>38.0</td>\n",
       "      <td>1</td>\n",
       "      <td>0</td>\n",
       "      <td>71.2833</td>\n",
       "      <td>C</td>\n",
       "      <td>First</td>\n",
       "      <td>woman</td>\n",
       "      <td>False</td>\n",
       "      <td>C</td>\n",
       "      <td>Cherbourg</td>\n",
       "      <td>yes</td>\n",
       "      <td>False</td>\n",
       "    </tr>\n",
       "    <tr>\n",
       "      <th>2</th>\n",
       "      <td>2</td>\n",
       "      <td>1</td>\n",
       "      <td>3</td>\n",
       "      <td>female</td>\n",
       "      <td>26.0</td>\n",
       "      <td>0</td>\n",
       "      <td>0</td>\n",
       "      <td>7.9250</td>\n",
       "      <td>S</td>\n",
       "      <td>Third</td>\n",
       "      <td>woman</td>\n",
       "      <td>False</td>\n",
       "      <td>NaN</td>\n",
       "      <td>Southampton</td>\n",
       "      <td>yes</td>\n",
       "      <td>True</td>\n",
       "    </tr>\n",
       "    <tr>\n",
       "      <th>3</th>\n",
       "      <td>3</td>\n",
       "      <td>1</td>\n",
       "      <td>1</td>\n",
       "      <td>female</td>\n",
       "      <td>35.0</td>\n",
       "      <td>1</td>\n",
       "      <td>0</td>\n",
       "      <td>53.1000</td>\n",
       "      <td>S</td>\n",
       "      <td>First</td>\n",
       "      <td>woman</td>\n",
       "      <td>False</td>\n",
       "      <td>C</td>\n",
       "      <td>Southampton</td>\n",
       "      <td>yes</td>\n",
       "      <td>False</td>\n",
       "    </tr>\n",
       "    <tr>\n",
       "      <th>4</th>\n",
       "      <td>4</td>\n",
       "      <td>0</td>\n",
       "      <td>3</td>\n",
       "      <td>male</td>\n",
       "      <td>35.0</td>\n",
       "      <td>0</td>\n",
       "      <td>0</td>\n",
       "      <td>8.0500</td>\n",
       "      <td>S</td>\n",
       "      <td>Third</td>\n",
       "      <td>man</td>\n",
       "      <td>True</td>\n",
       "      <td>NaN</td>\n",
       "      <td>Southampton</td>\n",
       "      <td>no</td>\n",
       "      <td>True</td>\n",
       "    </tr>\n",
       "  </tbody>\n",
       "</table>\n",
       "</div>"
      ],
      "text/plain": [
       "   passenger_id  survived  pclass     sex   age  sibsp  parch     fare  \\\n",
       "0             0         0       3    male  22.0      1      0   7.2500   \n",
       "1             1         1       1  female  38.0      1      0  71.2833   \n",
       "2             2         1       3  female  26.0      0      0   7.9250   \n",
       "3             3         1       1  female  35.0      1      0  53.1000   \n",
       "4             4         0       3    male  35.0      0      0   8.0500   \n",
       "\n",
       "  embarked  class    who  adult_male deck  embark_town alive  alone  \n",
       "0        S  Third    man        True  NaN  Southampton    no  False  \n",
       "1        C  First  woman       False    C    Cherbourg   yes  False  \n",
       "2        S  Third  woman       False  NaN  Southampton   yes   True  \n",
       "3        S  First  woman       False    C  Southampton   yes  False  \n",
       "4        S  Third    man        True  NaN  Southampton    no   True  "
      ]
     },
     "execution_count": 3,
     "metadata": {},
     "output_type": "execute_result"
    }
   ],
   "source": [
    "titanic.head()"
   ]
  },
  {
   "cell_type": "code",
   "execution_count": null,
   "id": "133188c2",
   "metadata": {},
   "outputs": [],
   "source": []
  },
  {
   "cell_type": "code",
   "execution_count": null,
   "id": "98748bf0",
   "metadata": {},
   "outputs": [],
   "source": []
  },
  {
   "cell_type": "markdown",
   "id": "66770ee4",
   "metadata": {},
   "source": [
    "# Creating a data profile\n",
    "\n",
    "It's very easy to create a profile report for your data and there are a couple of different ways you can do it.\n"
   ]
  },
  {
   "cell_type": "markdown",
   "id": "c2592c98",
   "metadata": {},
   "source": [
    "## Different ways of creating a profile"
   ]
  },
  {
   "cell_type": "code",
   "execution_count": 4,
   "id": "01872d4e",
   "metadata": {},
   "outputs": [],
   "source": [
    "profile = ProfileReport(titanic, title=\"Titanic data\")"
   ]
  },
  {
   "cell_type": "code",
   "execution_count": 5,
   "id": "d8cbf31d",
   "metadata": {},
   "outputs": [],
   "source": [
    "profile = titanic.profile_report()"
   ]
  },
  {
   "cell_type": "code",
   "execution_count": 6,
   "id": "659be271",
   "metadata": {},
   "outputs": [],
   "source": [
    "profile = ProfileReport()\n",
    "profile.df = titanic\n",
    "profile.title = \"Titanic data\""
   ]
  },
  {
   "cell_type": "markdown",
   "id": "8ea006c5",
   "metadata": {},
   "source": [
    "## Different ways of visualising a profile\n",
    "\n",
    "Similarly, you can visualise the data profiling results in different ways, within your jupyter notebook or by storing them as an HTML file.\n",
    "\n",
    "You get different types of alerts, which are describe in the [docs](https://ydata-profiling.ydata.ai/docs/master/pages/getting_started/concepts.html)."
   ]
  },
  {
   "cell_type": "markdown",
   "id": "c2b6c882",
   "metadata": {},
   "source": [
    "### Creating an html file"
   ]
  },
  {
   "cell_type": "code",
   "execution_count": 7,
   "id": "3ac04e20",
   "metadata": {},
   "outputs": [
    {
     "data": {
      "application/vnd.jupyter.widget-view+json": {
       "model_id": "324c2d0f3ce3405b904f00292ca998d8",
       "version_major": 2,
       "version_minor": 0
      },
      "text/plain": [
       "Summarize dataset:   0%|          | 0/5 [00:00<?, ?it/s]"
      ]
     },
     "metadata": {},
     "output_type": "display_data"
    },
    {
     "name": "stderr",
     "output_type": "stream",
     "text": [
      "/Users/anasofiapinto/opt/anaconda3/envs/data_quality/lib/python3.9/site-packages/ydata_profiling/model/pandas/correlations_pandas.py:29: FutureWarning: The default value of numeric_only in DataFrame.corr is deprecated. In a future version, it will default to False. Select only valid columns or specify the value of numeric_only to silence this warning.\n",
      "  return df.corr(method=\"spearman\")\n",
      "/Users/anasofiapinto/opt/anaconda3/envs/data_quality/lib/python3.9/site-packages/ydata_profiling/model/pandas/correlations_pandas.py:36: FutureWarning: The default value of numeric_only in DataFrame.corr is deprecated. In a future version, it will default to False. Select only valid columns or specify the value of numeric_only to silence this warning.\n",
      "  return df.corr(method=\"pearson\")\n"
     ]
    },
    {
     "data": {
      "application/vnd.jupyter.widget-view+json": {
       "model_id": "fd7ef0f11078473e8548391493569944",
       "version_major": 2,
       "version_minor": 0
      },
      "text/plain": [
       "Generate report structure:   0%|          | 0/1 [00:00<?, ?it/s]"
      ]
     },
     "metadata": {},
     "output_type": "display_data"
    },
    {
     "data": {
      "application/vnd.jupyter.widget-view+json": {
       "model_id": "405512acb7554dceb2b08fc54656023b",
       "version_major": 2,
       "version_minor": 0
      },
      "text/plain": [
       "Render HTML:   0%|          | 0/1 [00:00<?, ?it/s]"
      ]
     },
     "metadata": {},
     "output_type": "display_data"
    },
    {
     "data": {
      "application/vnd.jupyter.widget-view+json": {
       "model_id": "2568101c864c446c985240aed376ad94",
       "version_major": 2,
       "version_minor": 0
      },
      "text/plain": [
       "Export report to file:   0%|          | 0/1 [00:00<?, ?it/s]"
      ]
     },
     "metadata": {},
     "output_type": "display_data"
    }
   ],
   "source": [
    "profile.to_file(\"titanic.html\")"
   ]
  },
  {
   "cell_type": "markdown",
   "id": "31b92b42",
   "metadata": {},
   "source": [
    "### Widgets within a jupyter notebook"
   ]
  },
  {
   "cell_type": "code",
   "execution_count": 8,
   "id": "baa15075",
   "metadata": {},
   "outputs": [
    {
     "data": {
      "application/vnd.jupyter.widget-view+json": {
       "model_id": "915981d36b3a4d45ba30c3cfc95c14a9",
       "version_major": 2,
       "version_minor": 0
      },
      "text/plain": [
       "Render widgets:   0%|          | 0/1 [00:00<?, ?it/s]"
      ]
     },
     "metadata": {},
     "output_type": "display_data"
    },
    {
     "name": "stderr",
     "output_type": "stream",
     "text": [
      "IOPub message rate exceeded.\n",
      "The notebook server will temporarily stop sending output\n",
      "to the client in order to avoid crashing it.\n",
      "To change this limit, set the config variable\n",
      "`--NotebookApp.iopub_msg_rate_limit`.\n",
      "\n",
      "Current values:\n",
      "NotebookApp.iopub_msg_rate_limit=1000.0 (msgs/sec)\n",
      "NotebookApp.rate_limit_window=3.0 (secs)\n",
      "\n"
     ]
    }
   ],
   "source": [
    "profile.to_widgets()"
   ]
  },
  {
   "cell_type": "markdown",
   "id": "944df928",
   "metadata": {},
   "source": [
    "### An html report embedded in your jupyter notebook"
   ]
  },
  {
   "cell_type": "code",
   "execution_count": 9,
   "id": "128635a2",
   "metadata": {
    "scrolled": false
   },
   "outputs": [],
   "source": [
    "profile.to_notebook_iframe()"
   ]
  },
  {
   "cell_type": "code",
   "execution_count": null,
   "id": "f4ea2e75",
   "metadata": {},
   "outputs": [],
   "source": []
  },
  {
   "cell_type": "markdown",
   "id": "98089144",
   "metadata": {},
   "source": [
    "# Profiling large datasets\n",
    "\n",
    "Large datasets can be lead to expensive computations, but there are still ways we can create a data profile for large datasets."
   ]
  },
  {
   "cell_type": "markdown",
   "id": "6d3b3176",
   "metadata": {},
   "source": [
    "## Minimal mode\n",
    "\n",
    "When setting `minimal=True`, the most expensive computations are turned off by default."
   ]
  },
  {
   "cell_type": "code",
   "execution_count": 10,
   "id": "99187721",
   "metadata": {},
   "outputs": [],
   "source": [
    "profile = ProfileReport(titanic, title =\"Titanic data (minimal profiling)\", minimal=True)\n",
    "profile.to_file(\"titanic_minimal.html\")"
   ]
  },
  {
   "cell_type": "markdown",
   "id": "937508ff",
   "metadata": {},
   "source": [
    "## Sampling the data\n",
    "\n",
    "Alternatively you can sample your data and provide a disclaimer in your report."
   ]
  },
  {
   "cell_type": "code",
   "execution_count": 11,
   "id": "020ac02e",
   "metadata": {},
   "outputs": [],
   "source": [
    "description = \"Disclaimer: this profiling report was generated using a sample of 10% of the original dataset.\"\n",
    "sample = titanic.sample(frac=0.1)\n",
    "\n",
    "profile = sample.profile_report(dataset={\"description\": description}, minimal=True)\n",
    "profile.to_file(\"titanic_minimal_description.html\")"
   ]
  },
  {
   "cell_type": "code",
   "execution_count": 12,
   "id": "ba6cf47f",
   "metadata": {},
   "outputs": [],
   "source": [
    "titanic"
   ]
  },
  {
   "cell_type": "markdown",
   "id": "ce9f9273",
   "metadata": {},
   "source": [
    "## Only allow expensive computations for a set of variables\n",
    "\n",
    "Another alternative is to only allow expensive computations to happen for a certain number of variables"
   ]
  },
  {
   "cell_type": "code",
   "execution_count": 13,
   "id": "e3aff5ee",
   "metadata": {},
   "outputs": [],
   "source": [
    "# We start by creating the profile without specifying the data source and we configure it\n",
    "profile = ProfileReport()\n",
    "profile.config.interactions.targets = [\"sex\", \"age\", \"fare\"]\n",
    "\n",
    "# We then assign the dataset\n",
    "profile.df = titanic\n",
    "profile.to_file(\"titanic_interactions_defined.html\")"
   ]
  },
  {
   "cell_type": "code",
   "execution_count": null,
   "id": "1ecfa680",
   "metadata": {},
   "outputs": [],
   "source": []
  },
  {
   "cell_type": "markdown",
   "id": "6e2e9942",
   "metadata": {},
   "source": [
    "# Spark\n",
    "`ydata-profiling` now supports Spark Dataframes profiling. To know more [read this Medium blog post](https://medium.com/the-techlife/the-1-python-package-to-profile-your-spark-dataframes-89b09e37eeb9)."
   ]
  },
  {
   "cell_type": "code",
   "execution_count": null,
   "id": "f557ef86",
   "metadata": {},
   "outputs": [],
   "source": []
  },
  {
   "cell_type": "markdown",
   "id": "ea42725a",
   "metadata": {},
   "source": [
    "# Handling sensitive data\n",
    "\n",
    "If you set `sensitive=True`, only aggregate information is provided in the report and no individual records are shown.\n",
    "\n",
    "According to the [data docs](https://ydata-profiling.ydata.ai/docs/master/pages/use_cases/sensitive_data.html) `ydata-profiling` does not send data to external services, making it suitable for private/sensitive data."
   ]
  },
  {
   "cell_type": "code",
   "execution_count": 14,
   "id": "69c62677",
   "metadata": {},
   "outputs": [],
   "source": [
    "profile = titanic.profile_report(sensitive=True)\n",
    "profile.to_file(\"titanic_sensitive.html\")"
   ]
  },
  {
   "cell_type": "markdown",
   "id": "33ab828b",
   "metadata": {},
   "source": [
    "## Not showing a sample or duplicates info"
   ]
  },
  {
   "cell_type": "code",
   "execution_count": 15,
   "id": "d6a388ce",
   "metadata": {},
   "outputs": [],
   "source": [
    "profile = titanic.profile_report(duplicates=None, samples=None)\n",
    "profile.to_file(\"titanic_no_duplicates_no_samples.html\")"
   ]
  },
  {
   "cell_type": "markdown",
   "id": "f67f8100",
   "metadata": {},
   "source": [
    "## Showing a sample consisting of mock/synthetic data\n",
    "Alternatively, you can show mock/synthetic data in the dataset sample sections by passing a `sample` dictionary. Note that the `name` and `caption` keys are optional."
   ]
  },
  {
   "cell_type": "code",
   "execution_count": null,
   "id": "d566a570",
   "metadata": {},
   "outputs": [],
   "source": []
  },
  {
   "cell_type": "code",
   "execution_count": 16,
   "id": "ceb0793e",
   "metadata": {},
   "outputs": [],
   "source": [
    "# the row below needs to be replaced by actual mock data\n",
    "mock_data = titanic[10:20].reset_index(drop=True)\n",
    "\n",
    "mock_data_description = \"Disclaimer: the following sample consists of mock data.\"\n",
    "\n",
    "profile = titanic.profile_report(\n",
    "    sample={\n",
    "        \"name\": \"A sample of mock data\",\n",
    "        \"data\": mock_data,\n",
    "        \"caption\": mock_data_description,\n",
    "    }\n",
    ")\n",
    "\n",
    "profile.to_file(\"titanic_no_duplicates_no_samples.html\")"
   ]
  },
  {
   "cell_type": "code",
   "execution_count": null,
   "id": "b5c83bbe",
   "metadata": {},
   "outputs": [],
   "source": []
  },
  {
   "cell_type": "markdown",
   "id": "6e441872",
   "metadata": {},
   "source": [
    "# Comparing datasets\n",
    "\n",
    "`ydata-profiling` can also be used to compare multiple datasets/multiple versions of the same dataset. Examples of use cases are:\n",
    "- The same data batch shared by partners in different times;\n",
    "- The same data source, but data from different time periods;\n",
    "- Training vs validation vs test sets in machine learning."
   ]
  },
  {
   "cell_type": "code",
   "execution_count": 17,
   "id": "36a7eba4",
   "metadata": {},
   "outputs": [],
   "source": [
    "len(titanic)*0.8"
   ]
  },
  {
   "cell_type": "code",
   "execution_count": 18,
   "id": "87beb698",
   "metadata": {},
   "outputs": [],
   "source": [
    "train_df = titanic[:713]\n",
    "train_report = ProfileReport(train_df, title=\"Train\")\n",
    "\n",
    "test_df = titanic[713:]\n",
    "test_report = ProfileReport(test_df, title=\"Test\")\n",
    "\n",
    "train_vs_test = train_report.compare(test_report)\n",
    "train_vs_test.to_file(\"train_vs_test.html\")"
   ]
  },
  {
   "cell_type": "markdown",
   "id": "9cc13b86",
   "metadata": {},
   "source": [
    "When comparing multiple datasets:"
   ]
  },
  {
   "cell_type": "code",
   "execution_count": 19,
   "id": "88b4750b",
   "metadata": {},
   "outputs": [],
   "source": [
    "validation_df = titanic[100:200]\n",
    "validation_report = ProfileReport(validation_df, title=\"Validation\")"
   ]
  },
  {
   "cell_type": "code",
   "execution_count": 20,
   "id": "7ac15481",
   "metadata": {},
   "outputs": [],
   "source": [
    "comparison_report = compare([train_report, validation_report, test_report])\n",
    "\n",
    "comparison_report.to_file(\"train_test_validation.html\")"
   ]
  },
  {
   "cell_type": "code",
   "execution_count": null,
   "id": "1f95ff0c",
   "metadata": {},
   "outputs": [],
   "source": []
  },
  {
   "cell_type": "markdown",
   "id": "319ffd93",
   "metadata": {},
   "source": [
    "# Adding metadata to your report\n",
    "\n",
    "You can customise your data profiling report by:\n",
    "- adding general information about what the report is showing;\n",
    "- add column descriptions/metadata;\n",
    "- changing its appearance."
   ]
  },
  {
   "cell_type": "markdown",
   "id": "c20617c2",
   "metadata": {},
   "source": [
    "## General information"
   ]
  },
  {
   "cell_type": "code",
   "execution_count": 21,
   "id": "8893a2ee",
   "metadata": {},
   "outputs": [],
   "source": [
    "profile = titanic.profile_report(\n",
    "    title=\"TITLE\",\n",
    "    dataset={\n",
    "        \"description\": \"This profiling report shows the X data profile\",\n",
    "        \"copyright_holder\": \"Nesta UK\",\n",
    "        \"copyright_year\": 2023,\n",
    "        \"url\": \"https://www.nesta.org.uk/\",\n",
    "    },\n",
    ")\n",
    "\n",
    "profile.to_file(\"titanic_with_description.html\")"
   ]
  },
  {
   "cell_type": "markdown",
   "id": "e21c46da",
   "metadata": {},
   "source": [
    "## Column descriptions\n",
    "These will appear in the overview section."
   ]
  },
  {
   "cell_type": "code",
   "execution_count": 22,
   "id": "2b208c7d",
   "metadata": {},
   "outputs": [],
   "source": [
    "variables={\n",
    "        \"descriptions\": {\n",
    "            \"files\": \"Files in the filesystem, # variable name: variable description\",\n",
    "            \"datec\": \"Creation date\",\n",
    "            \"datem\": \"Modification date\",\n",
    "        }\n",
    "    }"
   ]
  },
  {
   "cell_type": "code",
   "execution_count": 23,
   "id": "b88a576a",
   "metadata": {},
   "outputs": [],
   "source": [
    "metadata = {\"passenger_id\":\"Unique identifier for passenger\", \"age\": \"Age of passenger\"}\n",
    "\n",
    "profile = titanic.profile_report(variables={\"descriptions\": metadata})\n",
    "\n",
    "profile.to_file('titanic_var_metadata.html')"
   ]
  },
  {
   "cell_type": "markdown",
   "id": "1179e6d1",
   "metadata": {},
   "source": [
    "## Customising the appearance of your report\n",
    "\n",
    "You can customise: the theme, the visualisations and the colour paletts.\n",
    "\n",
    "More informtion here: https://ydata-profiling.ydata.ai/docs/master/pages/use_cases/custom_report_appearance.html"
   ]
  },
  {
   "cell_type": "code",
   "execution_count": null,
   "id": "e6d4643b",
   "metadata": {},
   "outputs": [],
   "source": []
  },
  {
   "cell_type": "markdown",
   "id": "95065a4c",
   "metadata": {},
   "source": [
    "# A few issues I have come across..\n",
    "\n",
    "- Doesn't deal well with values that are lists, dictionaries, etc so it's better to remove them from the data profiling;\n",
    "- The widgests don't always render... so I always prefer to save the html file;\n",
    "- When computing the full report (instead of minimal), it can sometimes reach a RuntimeError for no apparent reason."
   ]
  },
  {
   "cell_type": "code",
   "execution_count": null,
   "id": "60436543",
   "metadata": {},
   "outputs": [],
   "source": []
  }
 ],
 "metadata": {
  "kernelspec": {
   "display_name": "data_quality",
   "language": "python",
   "name": "data_quality"
  },
  "language_info": {
   "codemirror_mode": {
    "name": "ipython",
    "version": 3
   },
   "file_extension": ".py",
   "mimetype": "text/x-python",
   "name": "python",
   "nbconvert_exporter": "python",
   "pygments_lexer": "ipython3",
   "version": "3.9.16"
  },
  "vscode": {
   "interpreter": {
    "hash": "fae8ce7f23eef6f06087204d8922b538aab1dd633c812e2388abf96efcb1d4cf"
   }
  }
 },
 "nbformat": 4,
 "nbformat_minor": 5
}

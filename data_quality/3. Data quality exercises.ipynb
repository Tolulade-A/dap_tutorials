{
 "cells": [
  {
   "cell_type": "markdown",
   "id": "330761d0",
   "metadata": {},
   "source": [
    "## Exercises"
   ]
  },
  {
   "cell_type": "code",
   "execution_count": null,
   "id": "5f090931",
   "metadata": {},
   "outputs": [],
   "source": [
    "import pandas as pd"
   ]
  },
  {
   "cell_type": "code",
   "execution_count": null,
   "id": "8a21bfbd",
   "metadata": {},
   "outputs": [],
   "source": [
    "heart_data = pd.read_csv(\"heart.csv\")"
   ]
  },
  {
   "cell_type": "markdown",
   "id": "8d929195",
   "metadata": {},
   "source": [
    "### 1. Use ydata-profiling to explore the dataset"
   ]
  },
  {
   "cell_type": "code",
   "execution_count": null,
   "id": "e25e5739",
   "metadata": {},
   "outputs": [],
   "source": [
    "from ydata_profiling import ProfileReport"
   ]
  },
  {
   "cell_type": "code",
   "execution_count": null,
   "id": "02941386",
   "metadata": {},
   "outputs": [],
   "source": []
  },
  {
   "cell_type": "code",
   "execution_count": null,
   "id": "dacb75f7",
   "metadata": {},
   "outputs": [],
   "source": []
  },
  {
   "cell_type": "markdown",
   "id": "1d5871d0",
   "metadata": {},
   "source": [
    "### 2. Create and save an expectation suite based on the results from the previous exercise."
   ]
  },
  {
   "cell_type": "code",
   "execution_count": null,
   "id": "8faa51db",
   "metadata": {},
   "outputs": [],
   "source": [
    "import great_expectations as gx"
   ]
  },
  {
   "cell_type": "markdown",
   "id": "a4a2fc00",
   "metadata": {},
   "source": [
    "Step 1: your data needs to be of type `PandasDataset`."
   ]
  },
  {
   "cell_type": "code",
   "execution_count": null,
   "id": "d3a50a24",
   "metadata": {},
   "outputs": [],
   "source": []
  },
  {
   "cell_type": "code",
   "execution_count": null,
   "id": "d15fb9c1",
   "metadata": {},
   "outputs": [],
   "source": []
  },
  {
   "cell_type": "markdown",
   "id": "a2faa9a5",
   "metadata": {},
   "source": [
    "Step 2: define your expectations. You can check the different types of expectations [here](https://legacy.docs.greatexpectations.io/en/latest/reference/glossary_of_expectations.html#expectation-glossary). Don't forget to add metadata information, if your expectation is based on your expert domain knowledge."
   ]
  },
  {
   "cell_type": "code",
   "execution_count": null,
   "id": "19336635",
   "metadata": {},
   "outputs": [],
   "source": []
  },
  {
   "cell_type": "code",
   "execution_count": null,
   "id": "81777acb",
   "metadata": {},
   "outputs": [],
   "source": []
  },
  {
   "cell_type": "markdown",
   "id": "0fa5f13f",
   "metadata": {},
   "source": [
    "Step 3: create an expectation suite."
   ]
  },
  {
   "cell_type": "code",
   "execution_count": null,
   "id": "5f98ee99",
   "metadata": {},
   "outputs": [],
   "source": []
  },
  {
   "cell_type": "markdown",
   "id": "18a65b6b",
   "metadata": {},
   "source": [
    "Step 4: save your expectation suite as a json file."
   ]
  },
  {
   "cell_type": "code",
   "execution_count": null,
   "id": "99ba4eb3",
   "metadata": {},
   "outputs": [],
   "source": []
  },
  {
   "cell_type": "code",
   "execution_count": null,
   "id": "08074938",
   "metadata": {},
   "outputs": [],
   "source": []
  },
  {
   "cell_type": "markdown",
   "id": "57588ed9",
   "metadata": {},
   "source": [
    "### 3. We received a new batch of data from our partner. Check if the new batch of data behaves according to the expectations you defined."
   ]
  },
  {
   "cell_type": "code",
   "execution_count": null,
   "id": "72a906d9",
   "metadata": {},
   "outputs": [],
   "source": [
    "heart_data_new = pd.read_csv(\"heart_new_batch.csv\")"
   ]
  },
  {
   "cell_type": "code",
   "execution_count": null,
   "id": "9d0d4d34",
   "metadata": {},
   "outputs": [],
   "source": []
  },
  {
   "cell_type": "code",
   "execution_count": null,
   "id": "2ae0acee",
   "metadata": {},
   "outputs": [],
   "source": []
  },
  {
   "cell_type": "markdown",
   "id": "8de32fb4",
   "metadata": {},
   "source": [
    "### 4. Split the data into train and test datasets. Use the ydata-profiling `compare` function (see the first tutorial) to explore differences according the two datasets."
   ]
  },
  {
   "cell_type": "code",
   "execution_count": null,
   "id": "d784be2f",
   "metadata": {},
   "outputs": [],
   "source": [
    "from ydata_profiling import compare"
   ]
  },
  {
   "cell_type": "code",
   "execution_count": null,
   "id": "5696ff8b",
   "metadata": {},
   "outputs": [],
   "source": []
  },
  {
   "cell_type": "code",
   "execution_count": null,
   "id": "8974e1ea",
   "metadata": {},
   "outputs": [],
   "source": []
  }
 ],
 "metadata": {
  "kernelspec": {
   "display_name": "Python 3 (ipykernel)",
   "language": "python",
   "name": "python3"
  },
  "language_info": {
   "codemirror_mode": {
    "name": "ipython",
    "version": 3
   },
   "file_extension": ".py",
   "mimetype": "text/x-python",
   "name": "python",
   "nbconvert_exporter": "python",
   "pygments_lexer": "ipython3",
   "version": "3.9.12"
  }
 },
 "nbformat": 4,
 "nbformat_minor": 5
}

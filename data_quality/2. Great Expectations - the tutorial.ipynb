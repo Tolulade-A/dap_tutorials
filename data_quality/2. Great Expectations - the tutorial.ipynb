{
 "cells": [
  {
   "cell_type": "markdown",
   "id": "392426d7",
   "metadata": {},
   "source": [
    "In this tutorial we explore the **Great Expectations** Python package which allows us to create a set of expectations for our datasets and automating data quality checks.\n",
    "\n",
    "The tutorial was inspired on [this guide](https://legacy.docs.greatexpectations.io/en/latest/guides/tutorials/quick_start.html). For information check the [official documentation](https://docs.greatexpectations.io/docs/)."
   ]
  },
  {
   "cell_type": "markdown",
   "id": "ace9ddcc",
   "metadata": {},
   "source": [
    "# Package imports"
   ]
  },
  {
   "cell_type": "code",
   "execution_count": 1,
   "id": "189b18be",
   "metadata": {},
   "outputs": [],
   "source": [
    "import pandas as pd\n",
    "import json\n",
    "import great_expectations as gx"
   ]
  },
  {
   "cell_type": "code",
   "execution_count": null,
   "id": "de9f1f9b",
   "metadata": {},
   "outputs": [],
   "source": []
  },
  {
   "cell_type": "markdown",
   "id": "4dd1fc5b",
   "metadata": {},
   "source": [
    "# Loading data"
   ]
  },
  {
   "cell_type": "markdown",
   "id": "dcf7bf35",
   "metadata": {},
   "source": [
    "Similarly to what we do with Pandas, `pd.read_csv()`, we can do `gx.read_csv`. Wrapped versions of other Pandas methods  such as `read_excel` or `read_parquet` are also available. You can also work with databases and Spark."
   ]
  },
  {
   "cell_type": "code",
   "execution_count": 2,
   "id": "ecb00d09",
   "metadata": {},
   "outputs": [],
   "source": [
    "titanic = gx.read_csv(\"titanic.csv\")"
   ]
  },
  {
   "cell_type": "markdown",
   "id": "55f5e519",
   "metadata": {},
   "source": [
    "Alternatively we can read a CSV with pandas and transform the `DataFrame` into a `PandasDataset`. The two classes are identical, except that `PandasDataset` has access to Great Expectations’ methods."
   ]
  },
  {
   "cell_type": "code",
   "execution_count": 3,
   "id": "fb253276",
   "metadata": {},
   "outputs": [],
   "source": [
    "titanic = pd.read_csv(\"titanic.csv\")\n",
    "\n",
    "type(titanic)"
   ]
  },
  {
   "cell_type": "code",
   "execution_count": 4,
   "id": "d1ec15e7",
   "metadata": {},
   "outputs": [],
   "source": [
    "titanic = gx.from_pandas(\n",
    "    titanic\n",
    ")\n",
    "type(titanic)"
   ]
  },
  {
   "cell_type": "code",
   "execution_count": 5,
   "id": "7bb29133",
   "metadata": {},
   "outputs": [],
   "source": [
    "titanic.head()"
   ]
  },
  {
   "cell_type": "code",
   "execution_count": null,
   "id": "c79bfaa2",
   "metadata": {},
   "outputs": [],
   "source": []
  },
  {
   "cell_type": "markdown",
   "id": "1a68144e",
   "metadata": {},
   "source": [
    "# Different types of expectations\n",
    "\n",
    "- You can find a glossary of expectations [here](https://legacy.docs.greatexpectations.io/en/latest/reference/glossary_of_expectations.html#expectation-glossary)\n",
    "    - Table shape\n",
    "    - Missing values, unique values, and types\n",
    "    - Sets and ranges\n",
    "    - String matching\n",
    "    - Datetime and JSON parsing\n",
    "    - Aggregate functions\n",
    "    - Multi-column\n",
    "    - Distributional functions\n",
    "    - FileDataAsset\n",
    "- You can also create your own expectations. See how to [here](https://docs.greatexpectations.io/docs/guides/expectations/creating_custom_expectations/overview)"
   ]
  },
  {
   "cell_type": "markdown",
   "id": "b81a7ebb",
   "metadata": {},
   "source": [
    "### Columns in your dataset"
   ]
  },
  {
   "cell_type": "code",
   "execution_count": 6,
   "id": "6ddb8a9f",
   "metadata": {},
   "outputs": [],
   "source": [
    "titanic.expect_table_columns_to_match_set(column_set=['passenger_id', 'survived', 'pclass', 'sex', 'age', 'sibsp', 'parch',\n",
    "       'fare', 'embarked', 'class', 'who', 'adult_male', 'deck', 'embark_town',\n",
    "       'alive', 'alone'], exact_match = True)"
   ]
  },
  {
   "cell_type": "markdown",
   "id": "f064f2f4",
   "metadata": {},
   "source": [
    "### Columns with unique values"
   ]
  },
  {
   "cell_type": "code",
   "execution_count": 7,
   "id": "27a0f0f5",
   "metadata": {
    "scrolled": true
   },
   "outputs": [],
   "source": [
    "titanic.expect_column_values_to_be_unique(column='passenger_id')[\"success\"]"
   ]
  },
  {
   "cell_type": "markdown",
   "id": "01e318c3",
   "metadata": {},
   "source": [
    "### No missing values\n",
    "\n",
    "We make use of the `mostly` argument when our expectation only applies to a certain percentage of the dataset."
   ]
  },
  {
   "cell_type": "code",
   "execution_count": 8,
   "id": "1864c5a1",
   "metadata": {},
   "outputs": [],
   "source": [
    "titanic.expect_column_values_to_not_be_null(\"passenger_id\")[\"success\"]"
   ]
  },
  {
   "cell_type": "code",
   "execution_count": 9,
   "id": "15fee997",
   "metadata": {},
   "outputs": [],
   "source": [
    "titanic.expect_column_values_to_not_be_null(\"age\")[\"success\"]"
   ]
  },
  {
   "cell_type": "code",
   "execution_count": 10,
   "id": "49e7c1ab",
   "metadata": {},
   "outputs": [],
   "source": [
    "titanic.expect_column_values_to_not_be_null(\"age\", mostly=0.80)[\"success\"]"
   ]
  },
  {
   "cell_type": "markdown",
   "id": "11fdfe99",
   "metadata": {},
   "source": [
    "### Column values are a set of categories"
   ]
  },
  {
   "cell_type": "code",
   "execution_count": 11,
   "id": "632386e5",
   "metadata": {},
   "outputs": [],
   "source": [
    "titanic[\"sex\"].unique()"
   ]
  },
  {
   "cell_type": "code",
   "execution_count": 12,
   "id": "f276eaf5",
   "metadata": {},
   "outputs": [],
   "source": [
    "titanic.expect_column_values_to_be_in_set(column =\"sex\", value_set =[\"male\", \"female\"])[\"success\"]"
   ]
  },
  {
   "cell_type": "markdown",
   "id": "4d64e5b7",
   "metadata": {},
   "source": [
    "### Range of values in column"
   ]
  },
  {
   "cell_type": "code",
   "execution_count": 13,
   "id": "3786851e",
   "metadata": {},
   "outputs": [],
   "source": [
    "titanic.expect_column_values_to_be_between(column='age', max_value=100, min_value=0, strict_min=False, strict_max=False)[\"success\"]"
   ]
  },
  {
   "cell_type": "markdown",
   "id": "d83cf85c",
   "metadata": {},
   "source": [
    "# Duplicate expectations\n",
    "\n",
    "The latest expectation to be ran is the one that's accounted for and it will replace any older ones. Hence, we never have conflicting expectations."
   ]
  },
  {
   "cell_type": "code",
   "execution_count": 14,
   "id": "a9648ad3",
   "metadata": {},
   "outputs": [],
   "source": [
    "len(titanic)"
   ]
  },
  {
   "cell_type": "code",
   "execution_count": 15,
   "id": "a8582667",
   "metadata": {},
   "outputs": [],
   "source": [
    "titanic.expect_table_row_count_to_equal(1000)"
   ]
  },
  {
   "cell_type": "code",
   "execution_count": 16,
   "id": "1b0abb37",
   "metadata": {},
   "outputs": [],
   "source": [
    "titanic.expect_table_row_count_to_equal(891)"
   ]
  },
  {
   "cell_type": "markdown",
   "id": "b92a738a",
   "metadata": {},
   "source": [
    "# Adding notes or metadata\n",
    "\n",
    "Might be useful to add metadata to your expectations, in case they are based on a previous analysis you did or on domain expertise."
   ]
  },
  {
   "cell_type": "code",
   "execution_count": 17,
   "id": "4b4ae89c",
   "metadata": {},
   "outputs": [],
   "source": [
    "titanic.expect_column_values_to_be_between(column='fare',\n",
    "                                      max_value=515,\n",
    "                                      min_value=0,\n",
    "                                      strict_min=True, \n",
    "                                      strict_max=False,\n",
    "                                      meta = {\n",
    "        \"notes\": {\n",
    "           \"content\": [\"Based on our domain expertise. For more information look at resource X.\" ],\n",
    "           \"format\": \"markdown\",\n",
    "           \"source\": \"Nesta UK\"\n",
    "        }\n",
    "                                      }\n",
    "   )\n"
   ]
  },
  {
   "cell_type": "code",
   "execution_count": null,
   "id": "5ea4f532",
   "metadata": {},
   "outputs": [],
   "source": []
  },
  {
   "cell_type": "markdown",
   "id": "a211cb53",
   "metadata": {},
   "source": [
    "# Creating an expectation suite\n",
    "\n",
    "The `PandasDataset` object will build up a list of Expectations, as you apply the different `df.expect_*`. After defining all your expectations, you can get a dictionary of configurations for your Expectations by running the line below, which returns an object of type `ExpectationSuite`.\n",
    "\n"
   ]
  },
  {
   "cell_type": "code",
   "execution_count": 18,
   "id": "9b676e6b",
   "metadata": {},
   "outputs": [],
   "source": [
    "titanic.get_expectation_suite()"
   ]
  },
  {
   "cell_type": "code",
   "execution_count": 19,
   "id": "9a5778dd",
   "metadata": {},
   "outputs": [],
   "source": [
    "titanic.get_expectation_suite()[\"expectations\"]"
   ]
  },
  {
   "cell_type": "code",
   "execution_count": 20,
   "id": "632186fc",
   "metadata": {},
   "outputs": [],
   "source": [
    "titanic.get_expectation_suite()[\"expectations\"][0]"
   ]
  },
  {
   "cell_type": "markdown",
   "id": "3fb46f4b",
   "metadata": {},
   "source": [
    "In the process of creating your suite of expectations, you can choose not to discard any failed expectations (which by default you do):"
   ]
  },
  {
   "cell_type": "code",
   "execution_count": 21,
   "id": "4f578f5b",
   "metadata": {},
   "outputs": [],
   "source": [
    "titanic.get_expectation_suite(discard_failed_expectations=False)"
   ]
  },
  {
   "cell_type": "code",
   "execution_count": 22,
   "id": "981611c9",
   "metadata": {},
   "outputs": [],
   "source": [
    "titanic.get_expectation_suite(discard_failed_expectations=False)[\"expectations\"][-1]"
   ]
  },
  {
   "cell_type": "markdown",
   "id": "9134d460",
   "metadata": {},
   "source": [
    "# Saving your expectation suite\n",
    "You can save your expectations suite as a json file."
   ]
  },
  {
   "cell_type": "code",
   "execution_count": 23,
   "id": "0ebd87e7",
   "metadata": {},
   "outputs": [],
   "source": [
    "with open(\"titanic_expectations_suite.json\", \"w\") as my_file:\n",
    "    my_file.write(\n",
    "        json.dumps(titanic.get_expectation_suite().to_json_dict(),sort_keys=True, indent=4)\n",
    "    )"
   ]
  },
  {
   "cell_type": "code",
   "execution_count": null,
   "id": "67edf7d0",
   "metadata": {},
   "outputs": [],
   "source": []
  },
  {
   "cell_type": "markdown",
   "id": "c316f5ad",
   "metadata": {},
   "source": [
    "# Validating expectations on a different set\n",
    "\n",
    "The expectations suite json file can then be used for validating a new data batch, account for changes in the same batch sent my partners in multiple times, etc.\n",
    "\n",
    "In the example below we make some changes to the original dataset and validate our suite of expectations. As expectated, a couple of them fail!"
   ]
  },
  {
   "cell_type": "markdown",
   "id": "12a466b3",
   "metadata": {},
   "source": [
    "Changes to the dataset:"
   ]
  },
  {
   "cell_type": "code",
   "execution_count": 24,
   "id": "162e2a49",
   "metadata": {},
   "outputs": [],
   "source": [
    "titanic_2 = titanic.copy()"
   ]
  },
  {
   "cell_type": "code",
   "execution_count": 25,
   "id": "2e7f5352",
   "metadata": {},
   "outputs": [],
   "source": [
    "titanic_2[\"passenger_id\"].iloc[0] = 2\n",
    "titanic_2[\"age\"].iloc[1] = 200"
   ]
  },
  {
   "cell_type": "code",
   "execution_count": 26,
   "id": "b0412562",
   "metadata": {},
   "outputs": [],
   "source": [
    "titanic_2"
   ]
  },
  {
   "cell_type": "markdown",
   "id": "3084a048",
   "metadata": {},
   "source": [
    "Validating the new dataset on the expectations:"
   ]
  },
  {
   "cell_type": "code",
   "execution_count": 27,
   "id": "8a4a8cf4",
   "metadata": {},
   "outputs": [],
   "source": [
    "validation_results = titanic_2.validate(\n",
    "    expectation_suite=\"titanic_expectations_suite.json\"\n",
    ")\n"
   ]
  },
  {
   "cell_type": "markdown",
   "id": "78e7505f",
   "metadata": {},
   "source": [
    "The validation results:"
   ]
  },
  {
   "cell_type": "code",
   "execution_count": 28,
   "id": "9e862110",
   "metadata": {
    "scrolled": false
   },
   "outputs": [],
   "source": [
    "validation_results"
   ]
  },
  {
   "cell_type": "code",
   "execution_count": 29,
   "id": "4f2262b6",
   "metadata": {
    "scrolled": false
   },
   "outputs": [],
   "source": [
    "validation_results[\"results\"]"
   ]
  },
  {
   "cell_type": "code",
   "execution_count": null,
   "id": "e126252b",
   "metadata": {},
   "outputs": [],
   "source": []
  }
 ],
 "metadata": {
  "kernelspec": {
   "display_name": "data_quality",
   "language": "python",
   "name": "data_quality"
  },
  "language_info": {
   "codemirror_mode": {
    "name": "ipython",
    "version": 3
   },
   "file_extension": ".py",
   "mimetype": "text/x-python",
   "name": "python",
   "nbconvert_exporter": "python",
   "pygments_lexer": "ipython3",
   "version": "3.9.16"
  },
  "vscode": {
   "interpreter": {
    "hash": "fae8ce7f23eef6f06087204d8922b538aab1dd633c812e2388abf96efcb1d4cf"
   }
  }
 },
 "nbformat": 4,
 "nbformat_minor": 5
}

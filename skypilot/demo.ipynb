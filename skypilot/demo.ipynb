{
 "cells": [
  {
   "cell_type": "markdown",
   "metadata": {},
   "source": [
    "#### Verify you are using the cloud instance notebook kernel"
   ]
  },
  {
   "cell_type": "code",
   "execution_count": null,
   "metadata": {},
   "outputs": [
    {
     "name": "stdout",
     "output_type": "stream",
     "text": [
      "H/W path        Device          Class          Description\n",
      "==========================================================\n",
      "                                system         m6i.8xlarge\n",
      "/0                              bus            Motherboard\n",
      "/0/0                            memory         64KiB BIOS\n",
      "/0/4                            processor      Intel(R) Xeon(R) Platinum 8375C C\n",
      "/0/4/5                          memory         2560KiB L1 cache\n",
      "/0/4/6                          memory         40MiB L2 cache\n",
      "/0/4/7                          memory         54MiB L3 cache\n",
      "/0/8                            memory         128GiB System Memory\n",
      "/0/8/0                          memory         128GiB DIMM DDR4 Static column Ps\n",
      "/0/100                          bridge         440FX - 82441FX PMC [Natoma]\n",
      "/0/100/1                        bridge         82371SB PIIX3 ISA [Natoma/Triton \n",
      "/0/100/1.3                      generic        82371AB/EB/MB PIIX4 ACPI\n",
      "/0/100/3                        display        Amazon.com, Inc.\n",
      "/0/100/4                        storage        Amazon.com, Inc.\n",
      "/0/100/4/0      /dev/nvme0      storage        Amazon Elastic Block Store\n",
      "/0/100/4/0/1    /dev/nvme0n1    disk           274GB NVMe namespace\n",
      "/0/100/4/0/1/1  /dev/nvme0n1p1  volume         255GiB EXT4 volume\n",
      "/0/100/5        ens5            network        Elastic Network Adapter (ENA)\n",
      "/0/1                            system         PnP device PNP0b00\n",
      "/0/2                            input          PnP device PNP0303\n",
      "/0/3                            input          PnP device PNP0f13\n",
      "/0/5                            printer        PnP device PNP0400\n",
      "/0/6                            communication  PnP device PNP0501\n"
     ]
    }
   ],
   "source": [
    "!sudo lshw -short"
   ]
  },
  {
   "cell_type": "markdown",
   "metadata": {},
   "source": [
    "## Test loading files with nesta_ds_utils"
   ]
  },
  {
   "cell_type": "code",
   "execution_count": 2,
   "metadata": {},
   "outputs": [],
   "source": [
    "from nesta_ds_utils.loading_saving.S3 import download_obj"
   ]
  },
  {
   "cell_type": "markdown",
   "metadata": {},
   "source": [
    "##### model_data.csv is ~9.4GB"
   ]
  },
  {
   "cell_type": "code",
   "execution_count": 3,
   "metadata": {},
   "outputs": [
    {
     "name": "stderr",
     "output_type": "stream",
     "text": [
      "/home/ubuntu/.local/lib/python3.8/site-packages/nesta_ds_utils/loading_saving/S3.py:215: DtypeWarning: Columns (6) have mixed types. Specify dtype option on import or set low_memory=False.\n",
      "  return pd.read_csv(fileobj, **kwargs)\n"
     ]
    }
   ],
   "source": [
    "test = download_obj(\n",
    "    \"ahl-private-data\",\n",
    "    \"in_home/processed/targets/model_data.csv\",\n",
    "    download_as=\"dataframe\",\n",
    ")"
   ]
  },
  {
   "cell_type": "markdown",
   "metadata": {},
   "source": [
    "##### model_data.parquet is ~500MB"
   ]
  },
  {
   "cell_type": "code",
   "execution_count": 4,
   "metadata": {},
   "outputs": [],
   "source": [
    "test = download_obj(\n",
    "    \"ahl-private-data\",\n",
    "    \"in_home/processed/targets/model_data.parquet\",\n",
    "    download_as=\"dataframe\",\n",
    ")"
   ]
  },
  {
   "cell_type": "code",
   "execution_count": 5,
   "metadata": {},
   "outputs": [
    {
     "name": "stdout",
     "output_type": "stream",
     "text": [
      "13.1 s ± 13.5 ms per loop (mean ± std. dev. of 7 runs, 1 loop each)\n"
     ]
    }
   ],
   "source": [
    "%timeit -n1 test.describe()"
   ]
  }
 ],
 "metadata": {
  "kernelspec": {
   "display_name": "Python 3 (ipykernel)",
   "language": "python",
   "name": "python3"
  }
 },
 "nbformat": 4,
 "nbformat_minor": 2
}

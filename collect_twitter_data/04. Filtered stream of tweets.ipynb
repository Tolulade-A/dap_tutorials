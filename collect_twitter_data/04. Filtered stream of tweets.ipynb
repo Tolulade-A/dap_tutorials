{
 "cells": [
  {
   "cell_type": "markdown",
   "id": "395daaf6",
   "metadata": {},
   "source": [
    "*Hello and welcome!* 👋\n",
    "\n",
    "This notebook is the <u>fourth and last</u> part of a **tutorial** on how to **collect data from Twitter API v2 using Python** 🤓\n",
    "\n",
    "In this notebook, we will briefly explore the filtered stream of tweets endpoints which allows us to collect tweets in real time."
   ]
  },
  {
   "cell_type": "markdown",
   "id": "f3e44eb4",
   "metadata": {},
   "source": [
    "### Importing packages and loading credentials\n",
    "We start by importing the necessary packages to run the code."
   ]
  },
  {
   "cell_type": "code",
   "execution_count": null,
   "id": "c1de717d",
   "metadata": {},
   "outputs": [],
   "source": [
    "import requests\n",
    "import json\n",
    "import time\n",
    "import random\n",
    "import os"
   ]
  },
  {
   "cell_type": "markdown",
   "id": "d638597b",
   "metadata": {},
   "source": [
    "We import our *bearer_token* which we previously defined as an environment variable. This way you do not have to expose your credentials in your code."
   ]
  },
  {
   "cell_type": "code",
   "execution_count": null,
   "id": "2bc219a6",
   "metadata": {},
   "outputs": [],
   "source": [
    "bearer_token = os.environ.get(\"BEARER_TOKEN\")"
   ]
  },
  {
   "cell_type": "markdown",
   "id": "eb999b47",
   "metadata": {},
   "source": [
    "### Authentication\n",
    "Authentication is done by bearer token."
   ]
  },
  {
   "cell_type": "code",
   "execution_count": null,
   "id": "9e8e1d62",
   "metadata": {},
   "outputs": [],
   "source": [
    "def request_headers(bearer_token: str) -> dict:\n",
    "    \"\"\"\n",
    "    Set up the request headers. \n",
    "    Returns a dictionary summarising the bearer token authentication details.\n",
    "\n",
    "    Args:\n",
    "        bearer_token: bearer token credentials\n",
    "    \"\"\"\n",
    "    return {\"Authorization\": \"Bearer {}\".format(bearer_token)}"
   ]
  },
  {
   "cell_type": "code",
   "execution_count": null,
   "id": "7eba583c",
   "metadata": {},
   "outputs": [],
   "source": [
    "headers = request_headers(bearer_token)"
   ]
  },
  {
   "cell_type": "code",
   "execution_count": null,
   "id": "85429488",
   "metadata": {},
   "outputs": [],
   "source": []
  },
  {
   "cell_type": "markdown",
   "id": "596f6963",
   "metadata": {},
   "source": [
    "### Function to get rules in stream\n"
   ]
  },
  {
   "cell_type": "code",
   "execution_count": null,
   "id": "897da3a8",
   "metadata": {},
   "outputs": [],
   "source": [
    "def get_rules(headers: dict):\n",
    "    \"\"\"\n",
    "    Gets current rules in stream.\n",
    "    Args:\n",
    "        headers: request headers\n",
    "    \"\"\"\n",
    "    rules_endpoint =\"https://api.twitter.com/2/tweets/search/stream/rules\"\n",
    "    response = requests.request(\"GET\",\n",
    "        url = rules_endpoint, headers=headers\n",
    "    )\n",
    "    if response.status_code != 200:\n",
    "        raise Exception(\n",
    "            \"Cannot get rules (HTTP {}): {}\".format(response.status_code, response.text)\n",
    "        )\n",
    "    return response.json()"
   ]
  },
  {
   "cell_type": "markdown",
   "id": "8d7e0d82",
   "metadata": {},
   "source": [
    "At the moment we have no rules in the stream:"
   ]
  },
  {
   "cell_type": "code",
   "execution_count": null,
   "id": "2e5e44ad",
   "metadata": {},
   "outputs": [],
   "source": [
    "rules = get_rules(headers)"
   ]
  },
  {
   "cell_type": "code",
   "execution_count": null,
   "id": "23a960c4",
   "metadata": {},
   "outputs": [],
   "source": [
    "rules"
   ]
  },
  {
   "cell_type": "code",
   "execution_count": null,
   "id": "063b4397",
   "metadata": {},
   "outputs": [],
   "source": []
  },
  {
   "cell_type": "markdown",
   "id": "ad07cafa",
   "metadata": {},
   "source": [
    "### Function to add rules to stream\n"
   ]
  },
  {
   "cell_type": "code",
   "execution_count": null,
   "id": "8c07326a",
   "metadata": {},
   "outputs": [],
   "source": [
    "def add_rules_to_stream(rules: list):\n",
    "    \"\"\"\n",
    "    Adds a set of rules to the stream.\n",
    "    Args:\n",
    "        rules: list of rules to add\n",
    "    \"\"\"\n",
    "    rules_to_add = {\"add\": rules}\n",
    "    endpoint_url = \"https://api.twitter.com/2/tweets/search/stream/rules\"\n",
    "    response = requests.request(\"POST\",\n",
    "        url = endpoint_url,\n",
    "        headers=headers,\n",
    "        json=rules_to_add,\n",
    "    )\n",
    "    if response.status_code != 201:\n",
    "        raise Exception(\n",
    "            \"Cannot add rules (HTTP {}): {}\".format(response.status_code, response.text)\n",
    "        )\n",
    "    print(\"The following rules we added to our stream:\")\n",
    "    print(response.json())"
   ]
  },
  {
   "cell_type": "code",
   "execution_count": null,
   "id": "c3dc6154",
   "metadata": {},
   "outputs": [],
   "source": [
    "sample_rules = [\n",
    "        {\"value\": \"#chatgpt or chatgpt\", \"tag\": \"chat gpt\"},\n",
    "        {\"value\": \"heat pumps\", \"tag\": \"heat pumps\"},\n",
    "    ]\n"
   ]
  },
  {
   "cell_type": "code",
   "execution_count": null,
   "id": "8c6c69eb",
   "metadata": {},
   "outputs": [],
   "source": [
    "add_rules_to_stream(sample_rules)"
   ]
  },
  {
   "cell_type": "code",
   "execution_count": null,
   "id": "5ab18d9b",
   "metadata": {},
   "outputs": [],
   "source": []
  },
  {
   "cell_type": "markdown",
   "id": "2732fb5c",
   "metadata": {},
   "source": [
    "### Delete rules from stream\n"
   ]
  },
  {
   "cell_type": "code",
   "execution_count": null,
   "id": "815b5b94",
   "metadata": {},
   "outputs": [],
   "source": [
    "def delete_rules_from_stream(ids:list, headers:dict):\n",
    "    \"\"\"\n",
    "    Deletes a set of rules from the stream:\n",
    "    Args:\n",
    "        ids: ids from rules to delete\n",
    "        headers: request headers\n",
    "    \"\"\"\n",
    "    ids_to_delete = {\"delete\": {\"ids\": ids}}\n",
    "    \n",
    "    rules_endpoint = \"https://api.twitter.com/2/tweets/search/stream/rules\"\n",
    "    response = requests.request(\"POST\",\n",
    "        url = rules_endpoint,\n",
    "        headers=headers,\n",
    "        json=ids_to_delete\n",
    "    )\n",
    "    if response.status_code != 200:\n",
    "        raise Exception(\n",
    "            \"Cannot delete rules (HTTP {}): {}\".format(\n",
    "                response.status_code, response.text\n",
    "            )\n",
    "        )\n",
    "    print(\"Summary:\")\n",
    "    print(response.json())"
   ]
  },
  {
   "cell_type": "code",
   "execution_count": null,
   "id": "95fb493e",
   "metadata": {},
   "outputs": [],
   "source": [
    "delete_rules_from_stream([\"1613120373439987714\"], headers)"
   ]
  },
  {
   "cell_type": "code",
   "execution_count": null,
   "id": "cf9ca294",
   "metadata": {},
   "outputs": [],
   "source": [
    "rules = get_rules(headers)"
   ]
  },
  {
   "cell_type": "code",
   "execution_count": null,
   "id": "bad94c2c",
   "metadata": {},
   "outputs": [],
   "source": [
    "rules"
   ]
  },
  {
   "cell_type": "markdown",
   "id": "4e5c8d92",
   "metadata": {},
   "source": [
    "### Getting stream of tweets"
   ]
  },
  {
   "cell_type": "code",
   "execution_count": null,
   "id": "c168b15f",
   "metadata": {},
   "outputs": [],
   "source": [
    "def get_stream_of_tweets():\n",
    "    \"\"\"\n",
    "    Connects to filtered stream endpoint and prints stream of tweets.\n",
    "    \"\"\"\n",
    "    endpoint_url = \"https://api.twitter.com/2/tweets/search/stream\"\n",
    "    response = requests.get(\n",
    "        url = endpoint_url, headers=headers, stream=True,\n",
    "    )\n",
    "    if response.status_code != 200:\n",
    "        raise Exception(\n",
    "            \"Cannot get stream (HTTP {}): {}\".format(\n",
    "                response.status_code, response.text\n",
    "            )\n",
    "        )\n",
    "    for response_line in response.iter_lines():\n",
    "        if response_line:\n",
    "            json_response = json.loads(response_line)\n",
    "            print(json.dumps(json_response, indent=4, sort_keys=True))"
   ]
  },
  {
   "cell_type": "code",
   "execution_count": null,
   "id": "c10d56ad",
   "metadata": {},
   "outputs": [],
   "source": [
    "get_stream_of_tweets()"
   ]
  },
  {
   "cell_type": "code",
   "execution_count": null,
   "id": "138f35e2",
   "metadata": {},
   "outputs": [],
   "source": []
  }
 ],
 "metadata": {
  "kernelspec": {
   "display_name": "collect_twitter_data",
   "language": "python",
   "name": "collect_twitter_data"
  },
  "language_info": {
   "codemirror_mode": {
    "name": "ipython",
    "version": 3
   },
   "file_extension": ".py",
   "mimetype": "text/x-python",
   "name": "python",
   "nbconvert_exporter": "python",
   "pygments_lexer": "ipython3",
   "version": "3.9.15"
  }
 },
 "nbformat": 4,
 "nbformat_minor": 5
}
